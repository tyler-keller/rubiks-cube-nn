{
 "cells": [
  {
   "cell_type": "code",
   "execution_count": 1,
   "metadata": {},
   "outputs": [],
   "source": [
    "import torch\n",
    "import numpy as np"
   ]
  },
  {
   "cell_type": "code",
   "execution_count": 2,
   "metadata": {},
   "outputs": [
    {
     "data": {
      "text/plain": [
       "device(type='cuda')"
      ]
     },
     "execution_count": 2,
     "metadata": {},
     "output_type": "execute_result"
    }
   ],
   "source": [
    "torch.cuda.is_available()\n",
    "device = torch.device('cuda')\n",
    "device"
   ]
  },
  {
   "cell_type": "code",
   "execution_count": 3,
   "metadata": {},
   "outputs": [
    {
     "data": {
      "text/plain": [
       "tensor([[[[0., 0., 0.],\n",
       "          [0., 0., 0.],\n",
       "          [0., 0., 0.]],\n",
       "\n",
       "         [[0., 0., 0.],\n",
       "          [0., 0., 0.],\n",
       "          [0., 0., 0.]],\n",
       "\n",
       "         [[0., 0., 0.],\n",
       "          [0., 0., 0.],\n",
       "          [0., 0., 0.]]],\n",
       "\n",
       "\n",
       "        [[[0., 0., 0.],\n",
       "          [0., 0., 0.],\n",
       "          [0., 0., 0.]],\n",
       "\n",
       "         [[0., 0., 0.],\n",
       "          [0., 0., 0.],\n",
       "          [0., 0., 0.]],\n",
       "\n",
       "         [[0., 0., 0.],\n",
       "          [0., 0., 0.],\n",
       "          [0., 0., 0.]]],\n",
       "\n",
       "\n",
       "        [[[0., 0., 0.],\n",
       "          [0., 0., 0.],\n",
       "          [0., 0., 0.]],\n",
       "\n",
       "         [[0., 0., 0.],\n",
       "          [0., 0., 0.],\n",
       "          [0., 0., 0.]],\n",
       "\n",
       "         [[0., 0., 0.],\n",
       "          [0., 0., 0.],\n",
       "          [0., 0., 0.]]]])"
      ]
     },
     "execution_count": 3,
     "metadata": {},
     "output_type": "execute_result"
    }
   ],
   "source": [
    "torch.zeros(3, 3, 3, 3)"
   ]
  },
  {
   "cell_type": "code",
   "execution_count": 4,
   "metadata": {},
   "outputs": [
    {
     "data": {
      "text/plain": [
       "tensor([[0.1202, 0.8396, 0.9596]])"
      ]
     },
     "execution_count": 4,
     "metadata": {},
     "output_type": "execute_result"
    }
   ],
   "source": [
    "torch.rand(1, 3)"
   ]
  },
  {
   "cell_type": "code",
   "execution_count": 5,
   "metadata": {},
   "outputs": [
    {
     "data": {
      "text/plain": [
       "(tensor([[[0.0410, 0.5691, 0.1464],\n",
       "          [0.4862, 0.5044, 0.0499],\n",
       "          [0.5834, 0.7217, 0.2686],\n",
       "          [0.1827, 0.4804, 0.4159],\n",
       "          [0.0737, 0.3293, 0.0292]],\n",
       " \n",
       "         [[0.2894, 0.3613, 0.2000],\n",
       "          [0.8254, 0.0899, 0.8773],\n",
       "          [0.8441, 0.7942, 0.5553],\n",
       "          [0.4812, 0.3006, 0.7320],\n",
       "          [0.0053, 0.0361, 0.0838]],\n",
       " \n",
       "         [[0.5716, 0.2064, 0.3960],\n",
       "          [0.5230, 0.7678, 0.8932],\n",
       "          [0.7810, 0.9117, 0.5901],\n",
       "          [0.1949, 0.9476, 0.6120],\n",
       "          [0.6343, 0.1855, 0.2643]]]),\n",
       " tensor([[[0.0410, 0.4862, 0.5834, 0.1827, 0.0737],\n",
       "          [0.5691, 0.5044, 0.7217, 0.4804, 0.3293],\n",
       "          [0.1464, 0.0499, 0.2686, 0.4159, 0.0292]],\n",
       " \n",
       "         [[0.2894, 0.8254, 0.8441, 0.4812, 0.0053],\n",
       "          [0.3613, 0.0899, 0.7942, 0.3006, 0.0361],\n",
       "          [0.2000, 0.8773, 0.5553, 0.7320, 0.0838]],\n",
       " \n",
       "         [[0.5716, 0.5230, 0.7810, 0.1949, 0.6343],\n",
       "          [0.2064, 0.7678, 0.9117, 0.9476, 0.1855],\n",
       "          [0.3960, 0.8932, 0.5901, 0.6120, 0.2643]]]))"
      ]
     },
     "execution_count": 5,
     "metadata": {},
     "output_type": "execute_result"
    }
   ],
   "source": [
    "t = torch.rand(3, 5, 3)\n",
    "t, torch.transpose(t, 2, 1)"
   ]
  },
  {
   "cell_type": "code",
   "execution_count": 6,
   "metadata": {},
   "outputs": [
    {
     "data": {
      "text/plain": [
       "(tensor([[[0.0410, 0.5691, 0.1464],\n",
       "          [0.4862, 0.5044, 0.0499],\n",
       "          [0.5834, 0.7217, 0.2686],\n",
       "          [0.1827, 0.4804, 0.4159],\n",
       "          [0.0737, 0.3293, 0.0292]],\n",
       " \n",
       "         [[0.2894, 0.3613, 0.2000],\n",
       "          [0.8254, 0.0899, 0.8773],\n",
       "          [0.8441, 0.7942, 0.5553],\n",
       "          [0.4812, 0.3006, 0.7320],\n",
       "          [0.0053, 0.0361, 0.0838]],\n",
       " \n",
       "         [[0.5716, 0.2064, 0.3960],\n",
       "          [0.5230, 0.7678, 0.8932],\n",
       "          [0.7810, 0.9117, 0.5901],\n",
       "          [0.1949, 0.9476, 0.6120],\n",
       "          [0.6343, 0.1855, 0.2643]]]),\n",
       " tensor([[[0.0410, 0.4862, 0.5834, 0.1827, 0.0737],\n",
       "          [0.5691, 0.5044, 0.7217, 0.4804, 0.3293],\n",
       "          [0.1464, 0.0499, 0.2686, 0.4159, 0.0292]],\n",
       " \n",
       "         [[0.2894, 0.8254, 0.8441, 0.4812, 0.0053],\n",
       "          [0.3613, 0.0899, 0.7942, 0.3006, 0.0361],\n",
       "          [0.2000, 0.8773, 0.5553, 0.7320, 0.0838]],\n",
       " \n",
       "         [[0.5716, 0.5230, 0.7810, 0.1949, 0.6343],\n",
       "          [0.2064, 0.7678, 0.9117, 0.9476, 0.1855],\n",
       "          [0.3960, 0.8932, 0.5901, 0.6120, 0.2643]]]))"
      ]
     },
     "execution_count": 6,
     "metadata": {},
     "output_type": "execute_result"
    }
   ],
   "source": [
    "t, torch.transpose(t, 1, 2)"
   ]
  },
  {
   "cell_type": "code",
   "execution_count": 7,
   "metadata": {},
   "outputs": [],
   "source": [
    "X_train = np.arange(10, dtype='float32').reshape((10, 1))\n",
    "y_train = np.array([1.0, 1.3, 3.1, 2.0, 5.0, 6.3, 6.6, 7.4, 8.0, 9.0], dtype='float32')"
   ]
  },
  {
   "cell_type": "code",
   "execution_count": 8,
   "metadata": {},
   "outputs": [],
   "source": [
    "from torch.utils.data import TensorDataset, DataLoader\n",
    "\n",
    "X_train_norm = (X_train - np.mean(X_train)) / np.std(X_train)\n",
    "X_train_norm = torch.from_numpy(X_train_norm)\n",
    "\n",
    "y_train = torch.from_numpy(y_train).float()\n",
    "\n",
    "train_ds = TensorDataset(X_train_norm, y_train)\n",
    "\n",
    "batch_size = 1\n",
    "train_dl = DataLoader(train_ds, batch_size, shuffle=True)"
   ]
  },
  {
   "cell_type": "code",
   "execution_count": 9,
   "metadata": {},
   "outputs": [],
   "source": [
    "weight = torch.randn(1)\n",
    "weight.requires_grad_()\n",
    "bias = torch.zeros(1, requires_grad=True)\n",
    "\n",
    "def model(xb):\n",
    "    return xb @ weight + bias"
   ]
  },
  {
   "cell_type": "code",
   "execution_count": 10,
   "metadata": {},
   "outputs": [],
   "source": [
    "def loss_fn(input, target):\n",
    "    return (input - target).pow(2).mean()"
   ]
  },
  {
   "cell_type": "code",
   "execution_count": 11,
   "metadata": {},
   "outputs": [
    {
     "name": "stdout",
     "output_type": "stream",
     "text": [
      "Epoch 0 Loss 2.6535\n",
      "Epoch 10 Loss 32.8952\n",
      "Epoch 20 Loss 0.0002\n",
      "Epoch 30 Loss 8.3392\n",
      "Epoch 40 Loss 10.4131\n",
      "Epoch 50 Loss 8.3253\n",
      "Epoch 60 Loss 0.0174\n",
      "Epoch 70 Loss 0.6114\n",
      "Epoch 80 Loss 0.8530\n",
      "Epoch 90 Loss 3.1047\n",
      "Epoch 100 Loss 1.2858\n",
      "Epoch 110 Loss 2.1369\n",
      "Epoch 120 Loss 1.6240\n",
      "Epoch 130 Loss 1.7581\n",
      "Epoch 140 Loss 0.0737\n",
      "Epoch 150 Loss 1.2714\n",
      "Epoch 160 Loss 2.0468\n",
      "Epoch 170 Loss 0.1885\n",
      "Epoch 180 Loss 0.1227\n",
      "Epoch 190 Loss 0.3545\n"
     ]
    }
   ],
   "source": [
    "learning_rate = 0.001\n",
    "num_epochs = 200\n",
    "log_epochs = 10\n",
    "\n",
    "for epoch in range(num_epochs):\n",
    "    for x_batch, y_batch in train_dl:\n",
    "        pred = model(x_batch)\n",
    "        loss = loss_fn(pred, y_batch)\n",
    "        loss.backward()\n",
    "    with torch.no_grad():\n",
    "        weight -= weight.grad * learning_rate\n",
    "        bias -= bias.grad * learning_rate\n",
    "        weight.grad.zero_()\n",
    "        bias.grad.zero_()\n",
    "    if epoch % log_epochs == 0:\n",
    "        print(f'Epoch {epoch} Loss {loss.item():.4f}')"
   ]
  },
  {
   "cell_type": "code",
   "execution_count": 12,
   "metadata": {},
   "outputs": [
    {
     "name": "stdout",
     "output_type": "stream",
     "text": [
      "Final Params: 2.6468x + 4.8826\n"
     ]
    }
   ],
   "source": [
    "print(f'Final Params: {weight.item():.4f}x + {bias.item():.4f}')"
   ]
  },
  {
   "cell_type": "code",
   "execution_count": 13,
   "metadata": {},
   "outputs": [
    {
     "data": {
      "image/png": "[encoded data removed]",
      "text/plain": [
       "<Figure size 1300x500 with 1 Axes>"
      ]
     },
     "metadata": {},
     "output_type": "display_data"
    }
   ],
   "source": [
    "import matplotlib.pyplot as plt\n",
    "\n",
    "X_test = np.linspace(0, 9, num=100, dtype='float32').reshape(-1, 1)\n",
    "X_test_norm = (X_test - np.mean(X_train)) / np.std(X_train)\n",
    "X_test_norm = torch.from_numpy(X_test_norm)\n",
    "y_pred = model(X_test_norm).detach().numpy()\n",
    "\n",
    "\n",
    "fig = plt.figure(figsize=(13, 5))\n",
    "ax = fig.add_subplot(1, 2, 1)\n",
    "plt.plot(X_train_norm, y_train, 'o', markersize=10)\n",
    "plt.plot(X_test_norm, y_pred, '--', lw=3)\n",
    "plt.legend(['Training examples', 'Linear Reg.'], fontsize=15)\n",
    "ax.set_xlabel('x', size=15)\n",
    "ax.set_ylabel('y', size=15)\n",
    "ax.tick_params(axis='both', which='major', labelsize=15)"
   ]
  },
  {
   "cell_type": "code",
   "execution_count": 14,
   "metadata": {},
   "outputs": [],
   "source": [
    "import torch.nn as nn\n",
    "\n",
    "loss_fn = nn.MSELoss(reduction='mean')\n",
    "\n",
    "input_size = 1\n",
    "output_size = 1\n",
    "\n",
    "model = nn.Linear(input_size, output_size)\n",
    "\n",
    "optimizer = torch.optim.SGD(model.parameters(), lr=learning_rate)"
   ]
  },
  {
   "cell_type": "code",
   "execution_count": 15,
   "metadata": {},
   "outputs": [
    {
     "name": "stdout",
     "output_type": "stream",
     "text": [
      "Epoch 0 Loss 16.5390\n",
      "Epoch 10 Loss 11.6941\n",
      "Epoch 20 Loss 8.3525\n",
      "Epoch 30 Loss 10.3248\n",
      "Epoch 40 Loss 0.0622\n",
      "Epoch 50 Loss 0.2679\n",
      "Epoch 60 Loss 3.2508\n",
      "Epoch 70 Loss 0.0010\n",
      "Epoch 80 Loss 1.5065\n",
      "Epoch 90 Loss 2.4571\n",
      "Epoch 100 Loss 0.5814\n",
      "Epoch 110 Loss 0.8019\n",
      "Epoch 120 Loss 0.1941\n",
      "Epoch 130 Loss 1.3869\n",
      "Epoch 140 Loss 0.5151\n",
      "Epoch 150 Loss 2.0158\n",
      "Epoch 160 Loss 0.0943\n",
      "Epoch 170 Loss 0.3111\n",
      "Epoch 180 Loss 2.2002\n",
      "Epoch 190 Loss 0.0158\n"
     ]
    }
   ],
   "source": [
    "for epoch in range(num_epochs):\n",
    "    for x_batch, y_batch in train_dl:\n",
    "        pred = model(x_batch)[:, 0]\n",
    "        loss = loss_fn(pred, y_batch)\n",
    "        loss.backward()\n",
    "        optimizer.step()\n",
    "        optimizer.zero_grad()\n",
    "    if epoch % log_epochs == 0:\n",
    "        print(f'Epoch {epoch} Loss {loss.item():.4f}')"
   ]
  },
  {
   "cell_type": "code",
   "execution_count": 16,
   "metadata": {},
   "outputs": [],
   "source": [
    "from sklearn.datasets import load_iris\n",
    "from sklearn.model_selection import train_test_split\n",
    "\n",
    "iris = load_iris()\n",
    "X = iris['data']\n",
    "y = iris['target']\n",
    " \n",
    "X_train, X_test, y_train, y_test = train_test_split(X, y, test_size=1./3, random_state=1)\n"
   ]
  },
  {
   "cell_type": "code",
   "execution_count": 17,
   "metadata": {},
   "outputs": [],
   "source": [
    "X_train_norm = (X_train - np.mean(X_train)) / np.std(X_train)\n",
    "X_train_norm = torch.from_numpy(X_train_norm).float()\n",
    "y_train = torch.from_numpy(y_train)\n",
    "train_ds = TensorDataset(X_train_norm, y_train)\n",
    "batch_size = 2\n",
    "train_dl = DataLoader(train_ds, batch_size, shuffle=True)"
   ]
  },
  {
   "cell_type": "code",
   "execution_count": 18,
   "metadata": {},
   "outputs": [],
   "source": [
    "class Model(nn.Module):\n",
    "    def __init__(self, input_size, hidden_size, output_size):\n",
    "        super().__init__()\n",
    "        self.layer1 = nn.Linear(input_size, hidden_size)\n",
    "        self.layer2 = nn.Linear(hidden_size, output_size)\n",
    "    \n",
    "    def forward(self, x):\n",
    "        x = self.layer1(x)\n",
    "        x = nn.Sigmoid()(x)\n",
    "        x = self.layer2(x)\n",
    "        x = nn.Softmax(dim=1)(x)\n",
    "        return X"
   ]
  },
  {
   "cell_type": "code",
   "execution_count": 19,
   "metadata": {},
   "outputs": [],
   "source": [
    "input_size = X_train_norm.shape[1]\n",
    "hidden_size = 16\n",
    "output_size = 3\n",
    "model = Model(input_size, hidden_size, output_size)"
   ]
  },
  {
   "cell_type": "code",
   "execution_count": 20,
   "metadata": {},
   "outputs": [],
   "source": [
    "learning_rate = 0.001\n",
    "loss_fn = nn.CrossEntropyLoss()\n",
    "optimizer = torch.optim.Adam(model.parameters(), lr=learning_rate)"
   ]
  },
  {
   "cell_type": "code",
   "execution_count": 21,
   "metadata": {},
   "outputs": [],
   "source": [
    "# num_epochs = 100\n",
    "# loss_hist = [0] * num_epochs\n",
    "# accuracy_hist = [0] * num_epochs\n",
    "# for epoch in range(num_epochs):\n",
    "#     for x_batch, y_batch in train_dl:\n",
    "#         pred = model(x_batch)\n",
    "#         loss = loss_fn(pred, y_batch.long())\n",
    "#         loss.backward()\n",
    "#         optimizer.step()\n",
    "#         optimizer.zero_grad()\n",
    "#         loss_hist[epoch] += loss.item()*y_batch.size(0)\n",
    "#         is_correct = (torch.argmax(pred, dim=1) == y_batch).float()\n",
    "#         accuracy_hist[epoch] += is_correct.mean()\n",
    "#     loss_hist[epoch] /= len(train_dl.dataset)\n",
    "#     accuracy_hist[epoch] /= len(train_dl.dataset)"
   ]
  },
  {
   "cell_type": "code",
   "execution_count": 22,
   "metadata": {},
   "outputs": [
    {
     "data": {
      "image/png": "[encoded data removed]",
      "text/plain": [
       "<Figure size 1200x500 with 2 Axes>"
      ]
     },
     "metadata": {},
     "output_type": "display_data"
    }
   ],
   "source": [
    "\n",
    "iris = load_iris()\n",
    "X = iris['data']\n",
    "y = iris['target']\n",
    " \n",
    "X_train, X_test, y_train, y_test = train_test_split(\n",
    "    X, y, test_size=1./3, random_state=1)\n",
    "\n",
    "X_train_norm = (X_train - np.mean(X_train)) / np.std(X_train)\n",
    "X_train_norm = torch.from_numpy(X_train_norm).float()\n",
    "y_train = torch.from_numpy(y_train) \n",
    "\n",
    "train_ds = TensorDataset(X_train_norm, y_train)\n",
    "\n",
    "torch.manual_seed(1)\n",
    "batch_size = 2\n",
    "train_dl = DataLoader(train_ds, batch_size, shuffle=True)\n",
    "\n",
    "class Model(nn.Module):\n",
    "    def __init__(self, input_size, hidden_size, output_size):\n",
    "        super().__init__()\n",
    "        self.layer1 = nn.Linear(input_size, hidden_size)  \n",
    "        self.layer2 = nn.Linear(hidden_size, output_size)  \n",
    "\n",
    "    def forward(self, x):\n",
    "        x = self.layer1(x)\n",
    "        x = nn.Sigmoid()(x)\n",
    "        x = self.layer2(x)\n",
    "        x = nn.Softmax(dim=1)(x)\n",
    "        return x\n",
    "    \n",
    "input_size = X_train_norm.shape[1]\n",
    "hidden_size = 16\n",
    "output_size = 3\n",
    " \n",
    "model = Model(input_size, hidden_size, output_size)\n",
    "\n",
    "learning_rate = 0.001\n",
    "\n",
    "loss_fn = nn.CrossEntropyLoss()\n",
    " \n",
    "optimizer = torch.optim.Adam(model.parameters(), lr=learning_rate)\n",
    "\n",
    "num_epochs = 100\n",
    "loss_hist = [0] * num_epochs\n",
    "accuracy_hist = [0] * num_epochs\n",
    "\n",
    "for epoch in range(num_epochs):\n",
    "\n",
    "    for x_batch, y_batch in train_dl:\n",
    "        pred = model(x_batch)\n",
    "        loss = loss_fn(pred, y_batch.long())\n",
    "        loss.backward()\n",
    "        optimizer.step()\n",
    "        optimizer.zero_grad()\n",
    "    \n",
    "        loss_hist[epoch] += loss.item()*y_batch.size(0)\n",
    "        is_correct = (torch.argmax(pred, dim=1) == y_batch).float()\n",
    "        accuracy_hist[epoch] += is_correct.sum()\n",
    "        \n",
    "    loss_hist[epoch] /= len(train_dl.dataset)\n",
    "    accuracy_hist[epoch] /= len(train_dl.dataset)\n",
    "\n",
    "fig = plt.figure(figsize=(12, 5))\n",
    "ax = fig.add_subplot(1, 2, 1)\n",
    "ax.plot(loss_hist, lw=3)\n",
    "ax.set_title('Training loss', size=15)\n",
    "ax.set_xlabel('Epoch', size=15)\n",
    "ax.tick_params(axis='both', which='major', labelsize=15)\n",
    "\n",
    "ax = fig.add_subplot(1, 2, 2)\n",
    "ax.plot(accuracy_hist, lw=3)\n",
    "ax.set_title('Training accuracy', size=15)\n",
    "ax.set_xlabel('Epoch', size=15)\n",
    "ax.tick_params(axis='both', which='major', labelsize=15)\n",
    "plt.tight_layout()"
   ]
  },
  {
   "cell_type": "code",
   "execution_count": 23,
   "metadata": {},
   "outputs": [
    {
     "name": "stdout",
     "output_type": "stream",
     "text": [
      "Test Acc.: 0.9800\n"
     ]
    }
   ],
   "source": [
    "X_test_norm = (X_test - np.mean(X_train)) / np.std(X_train)\n",
    "X_test_norm = torch.from_numpy(X_test_norm).float()\n",
    "y_test = torch.from_numpy(y_test) \n",
    "pred_test = model(X_test_norm)\n",
    "\n",
    "correct = (torch.argmax(pred_test, dim=1) == y_test).float()\n",
    "accuracy = correct.mean()\n",
    " \n",
    "print(f'Test Acc.: {accuracy:.4f}')\n"
   ]
  },
  {
   "cell_type": "code",
   "execution_count": 24,
   "metadata": {},
   "outputs": [
    {
     "name": "stdout",
     "output_type": "stream",
     "text": [
      "U F2 L' B D' R2 F L' B2 R F' U R B U2 F' R2 U2 B' L2 F2 D L' U' B2\n",
      "         [r][b][w]\n",
      "         [o][y][r]\n",
      "         [o][b][o]\n",
      "[b][w][y][g][o][w][b][w][g][r][y][y]\n",
      "[o][r][y][o][g][g][r][o][y][r][b][g]\n",
      "[g][r][y][b][y][r][w][w][r][y][w][w]\n",
      "         [o][g][b]\n",
      "         [b][w][g]\n",
      "         [o][b][g]\n",
      "\n",
      "R B U' F U R' D' R2 B2 D U B U B' F' U' F B U2 B' R' U' R U' B' U2 B U B' U2 B U F U2 F' U2 F U' R U' R' F' U R2 L2 D R2 L2 U R' L F2 R2 L2 B2 R' L U2\n",
      "         [y][y][y]\n",
      "         [y][y][y]\n",
      "         [y][y][y]\n",
      "[r][r][r][g][g][g][o][o][o][b][b][b]\n",
      "[r][r][r][g][g][g][o][o][o][b][b][b]\n",
      "[r][r][r][g][g][g][o][o][o][b][b][b]\n",
      "         [w][w][w]\n",
      "         [w][w][w]\n",
      "         [w][w][w]\n",
      "\n"
     ]
    }
   ],
   "source": [
    "import pycuber as pc\n",
    "from pycuber.solver import CFOPSolver\n",
    "\n",
    "c = pc.Cube()\n",
    "alg = pc.Formula()\n",
    "random_alg = alg.random()\n",
    "\n",
    "print(random_alg)\n",
    "c(random_alg)\n",
    "\n",
    "print(c)\n",
    "solver = CFOPSolver(c)\n",
    "\n",
    "solution = solver.solve(suppress_progress_messages=True)\n",
    "print(solution)\n",
    "\n",
    "print(c)"
   ]
  },
  {
   "cell_type": "code",
   "execution_count": 25,
   "metadata": {},
   "outputs": [
    {
     "name": "stdout",
     "output_type": "stream",
     "text": [
      "         [y][y][y]\n",
      "         [y][y][y]\n",
      "         [y][y][y]\n",
      "[r][r][r][g][g][g][o][o][o][b][b][b]\n",
      "[r][r][r][g][g][g][o][o][o][b][b][b]\n",
      "[r][r][r][g][g][g][o][o][o][b][b][b]\n",
      "         [w][w][w]\n",
      "         [w][w][w]\n",
      "         [w][w][w]\n",
      "\n"
     ]
    }
   ],
   "source": [
    "print(c)"
   ]
  },
  {
   "cell_type": "code",
   "execution_count": 26,
   "metadata": {},
   "outputs": [
    {
     "name": "stdout",
     "output_type": "stream",
     "text": [
      "['[g]', '[g]', '[g]', '[g]', '[g]', '[g]', '[g]', '[g]', '[g]']\n"
     ]
    }
   ],
   "source": [
    "print([str(x) for x in np.array(c.get_face('F')).flatten()])"
   ]
  },
  {
   "cell_type": "code",
   "execution_count": 27,
   "metadata": {},
   "outputs": [
    {
     "data": {
      "text/plain": [
       "\u001b[42m  \u001b[49m"
      ]
     },
     "execution_count": 27,
     "metadata": {},
     "output_type": "execute_result"
    }
   ],
   "source": [
    "pc.Square('green')"
   ]
  },
  {
   "cell_type": "code",
   "execution_count": 28,
   "metadata": {},
   "outputs": [
    {
     "data": {
      "text/plain": [
       "Cubie(U=Square('yellow'))"
      ]
     },
     "execution_count": 28,
     "metadata": {},
     "output_type": "execute_result"
    }
   ],
   "source": [
    "pc.Cubie(U=pc.Square('yellow'))"
   ]
  },
  {
   "cell_type": "code",
   "execution_count": null,
   "metadata": {},
   "outputs": [],
   "source": []
  },
  {
   "cell_type": "code",
   "execution_count": 29,
   "metadata": {},
   "outputs": [],
   "source": [
    "# # from src.train import *\n",
    "# # from src.data import *\n",
    "\n",
    "\n",
    "# load_sequences('./data/train_0.dat', num_sequences=1)"
   ]
  },
  {
   "cell_type": "markdown",
   "metadata": {},
   "source": [
    "RNN testing"
   ]
  },
  {
   "cell_type": "code",
   "execution_count": 30,
   "metadata": {},
   "outputs": [],
   "source": [
    "from torchtext.datasets import IMDB\n",
    "\n",
    "train_dataset = IMDB(split='train')\n",
    "test_dataset = IMDB(split='test')\n"
   ]
  },
  {
   "cell_type": "code",
   "execution_count": 31,
   "metadata": {},
   "outputs": [],
   "source": [
    "from torch.utils.data import random_split\n",
    "\n",
    "torch.manual_seed(42)\n",
    "\n",
    "train_dataset, valid_dataset = random_split(\n",
    "    list(train_dataset), [20000, 5000]\n",
    ")"
   ]
  },
  {
   "cell_type": "code",
   "execution_count": 32,
   "metadata": {},
   "outputs": [
    {
     "name": "stdout",
     "output_type": "stream",
     "text": [
      "Vocab-size: 69209\n"
     ]
    }
   ],
   "source": [
    "import re\n",
    "from collections import Counter, OrderedDict\n",
    "\n",
    "\n",
    "token_counts = Counter()\n",
    "\n",
    "def tokenizer(text):\n",
    "    text = re.sub('<[^>]*>', '', text)\n",
    "    emoticons = re.findall('(?::|;|=)(?:-)?(?:\\)|\\(|D|P)', text.lower())\n",
    "    text = re.sub('[\\W]+', ' ', text.lower()) +        ' '.join(emoticons).replace('-', '')\n",
    "    tokenized = text.split()\n",
    "    return tokenized\n",
    "\n",
    "\n",
    "for label, line in train_dataset:\n",
    "    tokens = tokenizer(line)\n",
    "    token_counts.update(tokens)\n",
    " \n",
    "    \n",
    "print('Vocab-size:', len(token_counts))\n"
   ]
  },
  {
   "cell_type": "code",
   "execution_count": 33,
   "metadata": {},
   "outputs": [],
   "source": [
    "from torchtext.vocab import vocab\n",
    "\n",
    "sorted_by_freq_tuples = sorted(\n",
    "    token_counts.items(), key=lambda x: x[1], reverse=True\n",
    ")"
   ]
  },
  {
   "cell_type": "code",
   "execution_count": 34,
   "metadata": {},
   "outputs": [],
   "source": [
    "ordered_dict = OrderedDict(sorted_by_freq_tuples)\n",
    "\n",
    "vocab = vocab(ordered_dict)\n",
    "\n",
    "vocab.insert_token('<pad>', 0)\n",
    "vocab.insert_token('<unk>', 1)\n",
    "vocab.set_default_index(1)"
   ]
  },
  {
   "cell_type": "code",
   "execution_count": 35,
   "metadata": {},
   "outputs": [
    {
     "name": "stdout",
     "output_type": "stream",
     "text": [
      "[11, 7, 4, 4453]\n"
     ]
    }
   ],
   "source": [
    "print([vocab[token] for token in ['this', 'is', 'a', 'sentence']])"
   ]
  },
  {
   "cell_type": "code",
   "execution_count": 36,
   "metadata": {},
   "outputs": [],
   "source": [
    "text_pipline = lambda x: [vocab[token] for token in tokenizer(x)]\n",
    "label_pipeline = lambda x: 1. if x == 2 else 0."
   ]
  },
  {
   "cell_type": "code",
   "execution_count": 37,
   "metadata": {},
   "outputs": [],
   "source": [
    "def collate_batch(batch):\n",
    "    label_list, text_list, len_list = [], [], []\n",
    "    for _label, _text in batch:\n",
    "        label_list.append(label_pipeline(_label))\n",
    "        processed_text = torch.tensor(text_pipline(_text), dtype=torch.int64)\n",
    "        text_list.append(processed_text)\n",
    "        len_list.append(processed_text.size(0))\n",
    "    label_list = torch.tensor(label_list)\n",
    "    lengths = torch.tensor(len_list)\n",
    "    padded_text_list = nn.utils.rnn.pad_sequence(\n",
    "        text_list, batch_first=True\n",
    "    )\n",
    "    return padded_text_list.to(device), label_list.to(device), lengths.to(device)"
   ]
  },
  {
   "cell_type": "code",
   "execution_count": 38,
   "metadata": {},
   "outputs": [],
   "source": [
    "from torch.utils.data import DataLoader\n",
    "\n",
    "dataloader = DataLoader(\n",
    "    train_dataset, batch_size=4, shuffle=False, collate_fn=collate_batch\n",
    ")"
   ]
  },
  {
   "cell_type": "code",
   "execution_count": 39,
   "metadata": {},
   "outputs": [],
   "source": [
    "batch_size = 32\n",
    "\n",
    "train_dl = DataLoader(\n",
    "    train_dataset, batch_size=batch_size, shuffle=True, collate_fn=collate_batch\n",
    ")\n",
    "\n",
    "valid_dl = DataLoader(\n",
    "    valid_dataset, batch_size=batch_size, shuffle=False, collate_fn=collate_batch\n",
    ")\n",
    "\n",
    "test_dl = DataLoader(\n",
    "    test_dataset, batch_size=batch_size, shuffle=False, collate_fn=collate_batch\n",
    ")"
   ]
  },
  {
   "cell_type": "code",
   "execution_count": 40,
   "metadata": {},
   "outputs": [
    {
     "data": {
      "text/plain": [
       "tensor([[[-0.7269, -0.8673, -1.0324],\n",
       "         [ 1.4106,  1.0425, -0.9140],\n",
       "         [-0.3351,  1.5477,  0.3904],\n",
       "         [-1.0513,  1.0709,  1.8281]],\n",
       "\n",
       "        [[-0.3351,  1.5477,  0.3904],\n",
       "         [ 1.1367, -0.9850, -0.0713],\n",
       "         [ 1.4106,  1.0425, -0.9140],\n",
       "         [ 0.0000,  0.0000,  0.0000]]], grad_fn=<EmbeddingBackward0>)"
      ]
     },
     "execution_count": 40,
     "metadata": {},
     "output_type": "execute_result"
    }
   ],
   "source": [
    "embedding = nn.Embedding(\n",
    "    num_embeddings=10,\n",
    "    embedding_dim=3,\n",
    "    padding_idx=0\n",
    ")\n",
    "\n",
    "text_encoded_input = torch.LongTensor([[1, 2, 4, 5], [4, 3, 2, 0]])\n",
    "\n",
    "embedding(text_encoded_input)"
   ]
  },
  {
   "cell_type": "code",
   "execution_count": 41,
   "metadata": {},
   "outputs": [
    {
     "data": {
      "text/plain": [
       "RNN(\n",
       "  (rnn): RNN(64, 32, num_layers=2, batch_first=True)\n",
       "  (fc): Linear(in_features=32, out_features=1, bias=True)\n",
       ")"
      ]
     },
     "execution_count": 41,
     "metadata": {},
     "output_type": "execute_result"
    }
   ],
   "source": [
    "class RNN(nn.Module):\n",
    "    def __init__(self, input_size, hidden_size):\n",
    "        super().__init__()\n",
    "        self.rnn = nn.RNN(input_size, hidden_size, num_layers=2, batch_first=True)\n",
    "        # self.rnn = nn.GRU(input_size, hidden_size, num_layers=2, batch_first=True)\n",
    "        # self.rnn = nn.LSTM(input_size, hidden_size, num_layers=2, batch_first=True)\n",
    "        self.fc = nn.Linear(hidden_size, 1)\n",
    "    \n",
    "    def forward(self, x):\n",
    "        _, hidden = self.rnn(x)\n",
    "        out = hidden[-1, :, :]\n",
    "        out = self.fc(out)\n",
    "        return out\n",
    "\n",
    "\n",
    "model = RNN(64, 32)\n",
    "model"
   ]
  },
  {
   "cell_type": "code",
   "execution_count": 42,
   "metadata": {},
   "outputs": [
    {
     "data": {
      "text/plain": [
       "tensor([[-0.4234],\n",
       "        [-0.2282],\n",
       "        [ 0.0191],\n",
       "        [-0.0981],\n",
       "        [-0.2579]], grad_fn=<AddmmBackward0>)"
      ]
     },
     "execution_count": 42,
     "metadata": {},
     "output_type": "execute_result"
    }
   ],
   "source": [
    "model(torch.randn(5, 3, 64))"
   ]
  },
  {
   "cell_type": "code",
   "execution_count": 43,
   "metadata": {},
   "outputs": [],
   "source": [
    "class RNN(nn.Module):\n",
    "    def __init__(self, vocab_size, embed_dim, rnn_hidden_size, fc_hidden_size):\n",
    "        super().__init__()\n",
    "        self.embedding = nn.Embedding(vocab_size, embed_dim, padding_idx=0)\n",
    "        self.rnn = nn.LSTM(embed_dim, rnn_hidden_size, batch_first=True)\n",
    "        self.fc1 = nn.Linear(rnn_hidden_size, fc_hidden_size)\n",
    "        self.relu = nn.ReLU()\n",
    "        self.fc2 = nn.Linear(fc_hidden_size, 1)\n",
    "        self.sigmoid = nn.Sigmoid()\n",
    "\n",
    "    def forward(self, text, lengths):\n",
    "        out = self.embedding(text)\n",
    "        out = nn.utils.rnn.pack_padded_sequence(\n",
    "            out, lengths.cpu().numpy(), enforce_sorted=False, batch_first=True\n",
    "        )\n",
    "        out, (hidden, cell) = self.rnn(out)\n",
    "        out = hidden[-1, :, :]\n",
    "        out = self.fc1(out)\n",
    "        out = self.relu(out)\n",
    "        out = self.fc2(out)\n",
    "        out = self.sigmoid(out)\n",
    "        return out"
   ]
  },
  {
   "cell_type": "code",
   "execution_count": 44,
   "metadata": {},
   "outputs": [
    {
     "data": {
      "text/plain": [
       "RNN(\n",
       "  (embedding): Embedding(69211, 20, padding_idx=0)\n",
       "  (rnn): LSTM(20, 64, batch_first=True)\n",
       "  (fc1): Linear(in_features=64, out_features=64, bias=True)\n",
       "  (relu): ReLU()\n",
       "  (fc2): Linear(in_features=64, out_features=1, bias=True)\n",
       "  (sigmoid): Sigmoid()\n",
       ")"
      ]
     },
     "execution_count": 44,
     "metadata": {},
     "output_type": "execute_result"
    }
   ],
   "source": [
    "vocab_size = len(vocab)\n",
    "embed_dim = 20\n",
    "rnn_hidden_size = 64\n",
    "fc_hidden_size = 64\n",
    "torch.manual_seed(42)\n",
    "device = torch.device(\"cuda:0\" if torch.cuda.is_available() else \"cpu\")\n",
    "model = RNN(vocab_size, embed_dim, rnn_hidden_size, fc_hidden_size)\n",
    "model.to(device)\n",
    "model"
   ]
  },
  {
   "cell_type": "code",
   "execution_count": 45,
   "metadata": {},
   "outputs": [],
   "source": [
    "def train(dataloader):\n",
    "    model.train()\n",
    "    total_acc, total_loss = 0, 0\n",
    "    for text_batch, label_batch, lengths in dataloader:\n",
    "        optimizer.zero_grad()\n",
    "        pred = model(text_batch, lengths)[:, 0]\n",
    "        loss = loss_fn(pred, label_batch)\n",
    "        loss.backward()\n",
    "        optimizer.step()\n",
    "        total_acc += (\n",
    "            (pred >= 0.5).float() == label_batch\n",
    "        ).float().sum().item()\n",
    "        total_loss += loss.item() * label_batch.size(0)\n",
    "    return total_acc/len(dataloader.dataset), total_loss/len(dataloader.dataset)"
   ]
  },
  {
   "cell_type": "code",
   "execution_count": 46,
   "metadata": {},
   "outputs": [],
   "source": [
    "def evaluate(dataloader):\n",
    "    model.eval()\n",
    "    total_acc, total_loss = 0, 0\n",
    "    with torch.no_grad():\n",
    "        for text_batch, label_batch, lengths in dataloader:\n",
    "            pred = model(text_batch, lengths)[:, 0]\n",
    "            loss = loss_fn(pred, label_batch)\n",
    "            total_acc += (\n",
    "                (pred >= 0.5).float() == label_batch\n",
    "            ).float().sum().item()\n",
    "            total_loss += loss.item() * label_batch.size(0)\n",
    "    return total_acc/len(dataloader.dataset), total_loss/len(dataloader.dataset)"
   ]
  },
  {
   "cell_type": "code",
   "execution_count": 47,
   "metadata": {},
   "outputs": [],
   "source": [
    "loss_fn = nn.BCELoss()\n",
    "optimizer = torch.optim.Adam(model.parameters(), lr=0.001)"
   ]
  },
  {
   "cell_type": "code",
   "execution_count": 48,
   "metadata": {},
   "outputs": [],
   "source": [
    "class RNN(nn.Module):\n",
    "    def __init__(self, vocab_size, embed_dim, rnn_hidden_size, fc_hidden_size):\n",
    "        super().__init__()\n",
    "        self.embedding = nn.Embedding(vocab_size, \n",
    "                                      embed_dim, \n",
    "                                      padding_idx=0) \n",
    "        self.rnn = nn.LSTM(embed_dim, rnn_hidden_size, \n",
    "                           batch_first=True)\n",
    "        self.fc1 = nn.Linear(rnn_hidden_size, fc_hidden_size)\n",
    "        self.relu = nn.ReLU()\n",
    "        self.fc2 = nn.Linear(fc_hidden_size, 1)\n",
    "        self.sigmoid = nn.Sigmoid()\n",
    "\n",
    "    def forward(self, text, lengths):\n",
    "        out = self.embedding(text)\n",
    "        out = nn.utils.rnn.pack_padded_sequence(out, lengths.cpu().numpy(), enforce_sorted=False, batch_first=True)\n",
    "        out, (hidden, cell) = self.rnn(out)\n",
    "        out = hidden[-1, :, :]\n",
    "        out = self.fc1(out)\n",
    "        out = self.relu(out)\n",
    "        out = self.fc2(out)\n",
    "        out = self.sigmoid(out)\n",
    "        return out\n",
    "         \n",
    "vocab_size = len(vocab)\n",
    "embed_dim = 20\n",
    "rnn_hidden_size = 64\n",
    "fc_hidden_size = 64\n",
    "\n",
    "torch.manual_seed(1)\n",
    "model = RNN(vocab_size, embed_dim, rnn_hidden_size, fc_hidden_size) \n",
    "model = model.to(device)\n",
    "\n",
    "def train(dataloader):\n",
    "    model.train()\n",
    "    total_acc, total_loss = 0, 0\n",
    "    for text_batch, label_batch, lengths in dataloader:\n",
    "        optimizer.zero_grad()\n",
    "        pred = model(text_batch, lengths)[:, 0]\n",
    "        loss = loss_fn(pred, label_batch)\n",
    "        loss.backward()\n",
    "        optimizer.step()\n",
    "        total_acc += ((pred>=0.5).float() == label_batch).float().sum().item()\n",
    "        total_loss += loss.item()*label_batch.size(0)\n",
    "    return total_acc/len(dataloader.dataset), total_loss/len(dataloader.dataset)\n",
    " \n",
    "def evaluate(dataloader):\n",
    "    model.eval()\n",
    "    total_acc, total_loss = 0, 0\n",
    "    with torch.no_grad():\n",
    "        for text_batch, label_batch, lengths in dataloader:\n",
    "            pred = model(text_batch, lengths)[:, 0]\n",
    "            loss = loss_fn(pred, label_batch)\n",
    "            total_acc += ((pred>=0.5).float() == label_batch).float().sum().item()\n",
    "            total_loss += loss.item()*label_batch.size(0)\n",
    "    return total_acc/len(dataloader.dataset), total_loss/len(dataloader.dataset)\n",
    "\n",
    "loss_fn = nn.BCELoss()\n",
    "optimizer = torch.optim.Adam(model.parameters(), lr=0.001)\n",
    "\n",
    "# num_epochs = 10 \n",
    "\n",
    "# torch.manual_seed(1)\n",
    " \n",
    "# for epoch in range(num_epochs):\n",
    "#     acc_train, loss_train = train(train_dl)\n",
    "#     acc_valid, loss_valid = evaluate(valid_dl)\n",
    "#     print(f'Epoch {epoch} accuracy: {acc_train:.4f} val_accuracy: {acc_valid:.4f}')"
   ]
  },
  {
   "cell_type": "code",
   "execution_count": 49,
   "metadata": {},
   "outputs": [],
   "source": [
    "rnn = nn.RNN(10, 20, 2)\n",
    "input = torch.randn(5, 3, 10)\n",
    "h0 = torch.randn(2, 3, 20)\n",
    "output, hn = rnn(input, h0)"
   ]
  },
  {
   "cell_type": "code",
   "execution_count": 50,
   "metadata": {},
   "outputs": [
    {
     "data": {
      "text/plain": [
       "tensor([[-4.5493e-01,  1.9990e-01, -6.7680e-01,  2.8309e-01, -4.0100e-01,\n",
       "          8.1985e-01,  2.3395e+00, -3.1527e-01],\n",
       "        [ 2.1555e-01, -1.0918e+00, -2.4803e-01,  2.5366e-01, -3.7103e-01,\n",
       "          1.4400e-03, -2.3248e-01, -5.5159e-01],\n",
       "        [-4.6346e-01,  1.3477e+00,  1.9762e+00, -9.4071e-01,  6.9192e-01,\n",
       "         -2.8465e+00, -1.2426e+00,  1.0844e+00],\n",
       "        [-9.3176e-01,  6.7696e-01,  4.2922e-01,  4.7377e-01,  1.0493e-01,\n",
       "         -2.0686e+00, -1.1406e+00, -1.2849e+00],\n",
       "        [ 4.4974e-01, -1.0395e-01,  4.2760e-01,  8.4942e-01,  1.2246e-01,\n",
       "          3.3523e-01,  6.0656e-01,  1.0180e+00],\n",
       "        [ 2.6656e-01, -1.4712e+00,  1.0076e+00, -1.4387e+00, -3.7408e-01,\n",
       "         -6.8943e-01,  1.8083e+00,  6.1411e-02],\n",
       "        [-1.8347e-01,  1.3030e+00,  1.5816e+00,  5.5389e-01,  5.6311e-01,\n",
       "          1.7039e-01,  1.2416e+00,  1.3850e+00],\n",
       "        [-1.5172e+00, -1.0463e+00,  1.2908e+00,  2.1222e-01,  7.0286e-01,\n",
       "          4.7603e-01, -2.7119e-01,  3.5719e-01],\n",
       "        [-1.4027e+00, -6.3594e-01,  8.9761e-01, -1.5932e+00, -7.3248e-01,\n",
       "         -2.6226e-01,  1.0424e+00, -6.1226e-01],\n",
       "        [-2.0527e+00,  1.2265e+00,  2.2610e-01, -3.9147e-01,  7.9253e-01,\n",
       "         -1.1519e+00,  1.2053e+00, -1.7768e-01],\n",
       "        [ 5.3063e-01,  1.5149e-01, -8.8172e-02,  1.4314e+00, -1.4986e-01,\n",
       "         -1.1737e-01, -1.5566e+00, -1.3768e+00],\n",
       "        [ 1.4992e-01,  3.4952e-01, -4.5855e-01, -4.9508e-02,  2.8403e-01,\n",
       "          5.6166e-03,  2.8620e-01,  1.6813e+00],\n",
       "        [-4.2824e-02,  1.7777e-01,  3.8563e-01, -6.2160e-01,  1.4609e-01,\n",
       "         -7.7770e-01,  1.0209e+00, -8.5979e-02],\n",
       "        [-5.3033e-01,  1.0619e+00, -5.8175e-01, -7.5114e-02, -2.0353e+00,\n",
       "          6.3611e-01, -1.4011e+00,  8.8525e-01],\n",
       "        [ 4.2976e-02, -9.3857e-01, -8.2115e-01, -1.3233e+00, -9.3800e-01,\n",
       "          9.9895e-03, -9.8669e-01,  9.7609e-01],\n",
       "        [ 6.6883e-01, -8.6713e-02,  1.5219e+00,  8.8991e-01,  4.3217e-01,\n",
       "         -7.2128e-01, -1.4886e+00,  1.7394e-01],\n",
       "        [-1.7738e+00, -8.6744e-01, -1.2296e+00, -8.4984e-02, -1.4252e+00,\n",
       "         -2.0743e-01,  6.2562e-01, -3.5710e-01],\n",
       "        [ 2.7230e+00, -1.0946e+00,  1.3417e+00, -9.9940e-01, -6.3859e-01,\n",
       "         -4.5966e-01,  1.9326e+00, -1.8805e+00],\n",
       "        [-1.1509e+00, -5.3096e-01, -7.8924e-01, -1.9501e-01,  1.5605e+00,\n",
       "         -6.1666e-01, -1.3571e-01,  3.9761e-01],\n",
       "        [ 8.1027e-01, -2.1884e-01,  5.0475e-01,  3.0084e-01, -1.7014e-01,\n",
       "          1.1863e+00,  5.0847e-02,  8.4139e-01],\n",
       "        [-1.6703e-01, -2.8612e-01,  1.2756e-01, -4.2319e-01,  3.6374e-01,\n",
       "         -1.7917e+00, -1.1139e+00,  5.5463e-01],\n",
       "        [-1.2665e+00, -1.3105e+00, -8.5944e-01, -6.4490e-01, -1.0230e-02,\n",
       "          3.0851e-01,  7.8417e-02,  1.3679e+00],\n",
       "        [-1.8002e+00, -1.5733e+00, -4.3637e-01,  6.8140e-01, -3.9129e-01,\n",
       "          8.6139e-01, -1.2019e+00,  1.8099e-01],\n",
       "        [-1.6414e+00,  1.3225e+00,  1.0147e+00, -1.0380e-01,  1.4487e-01,\n",
       "         -3.0927e-01, -1.1938e+00,  1.2040e-01],\n",
       "        [-5.5213e-01,  1.1193e+00, -1.4028e+00,  1.1878e-01,  1.4526e-01,\n",
       "         -1.0379e+00,  7.1071e-02, -2.8419e-02],\n",
       "        [-1.1925e+00,  7.2419e-01,  1.4360e+00,  3.7648e-01,  4.5018e-01,\n",
       "         -5.0017e-01, -4.5160e-01,  1.9503e-01],\n",
       "        [-9.8780e-01, -1.6870e-01, -1.6765e+00,  1.0586e-01,  1.3860e+00,\n",
       "         -1.3207e+00,  3.5643e-01,  3.0798e+00]], grad_fn=<EmbeddingBackward0>)"
      ]
     },
     "execution_count": 50,
     "metadata": {},
     "output_type": "execute_result"
    }
   ],
   "source": [
    "embeddings = nn.Embedding(27, 8)\n",
    "embeddings(torch.Tensor(np.arange(27)).to(torch.int64))"
   ]
  },
  {
   "cell_type": "code",
   "execution_count": 51,
   "metadata": {},
   "outputs": [],
   "source": [
    "import pycuber as pc\n",
    "from pycuber import *\n",
    "\n",
    "def convert_string_state_to_cube(string_state) -> Cube:\n",
    "    '''\n",
    "    Convert the string state to a Pycube object.\n",
    "    ULFRBD ordered. 6 x 9 x 6 state encoding.\n",
    "    '''\n",
    "    cubie_set = set([eval(cubie_string) for cubie_string in string_state.split(';')])\n",
    "    return pc.Cube(cubie_set)\n",
    "\n",
    "\n",
    "def convert_cube_to_state(cube):\n",
    "    '''\n",
    "    Convert a cube object to the NN state representation.\n",
    "    ULFRBD ordered. 6 x 9 x 6 state encoding.\n",
    "    '''\n",
    "    color_vectors = {\n",
    "        'b': np.array([1, 0, 0, 0, 0, 0]),\n",
    "        'g': np.array([0, 1, 0, 0, 0, 0]),\n",
    "        'o': np.array([0, 0, 1, 0, 0, 0]),\n",
    "        'r': np.array([0, 0, 0, 1, 0, 0]),\n",
    "        'w': np.array([0, 0, 0, 0, 1, 0]),\n",
    "        'y': np.array([0, 0, 0, 0, 0, 1]),\n",
    "    }\n",
    "    state = np.zeros(shape=(6, 9, 6))\n",
    "    for i, face in enumerate('ULFRBD'):\n",
    "        unpacked_face = [str(x)[1] for x in np.array(cube.get_face(face)).flatten()]\n",
    "        for j, square in enumerate(unpacked_face):\n",
    "            state[i, j] = color_vectors[square]\n",
    "    return state.flatten()\n",
    "\n",
    "\n",
    "def load_sequences(filename, num_sequences=1000):\n",
    "    '''Load a train.dat file and transform it into a series of cube states to move sequences.\n",
    "    '''\n",
    "    move_mapping = {\n",
    "        'U': 0, 'U\\'': 1, 'U2': 2,\n",
    "        'L': 3, 'L\\'': 4, 'L2': 5,\n",
    "        'F': 6, 'F\\'': 1, 'F2': 8,\n",
    "        'R': 9, 'R\\'': 1, 'R2': 11,\n",
    "        'B': 12, 'B\\'': 1, 'B2': 14,\n",
    "        'D': 15, 'D\\'': 1, 'D2': 17, '$': 18\n",
    "    }\n",
    "    with open(filename, 'r') as f:\n",
    "        print(f'OPENING FILE: {filename}')\n",
    "        log_i = 100\n",
    "        sequences = []\n",
    "        for i, line in enumerate(f):\n",
    "            if i == num_sequences:\n",
    "                return sequences\n",
    "            if i % log_i == 0:\n",
    "                print(f'LINE: {i}')\n",
    "            string_state, solution = line.strip().split('|')\n",
    "            unsolved_cube = convert_string_state_to_cube(string_state)\n",
    "            sequence = []\n",
    "            for step in solution.split():\n",
    "                sequence.append((convert_cube_to_state(unsolved_cube), move_mapping[step]))\n",
    "                unsolved_cube.perform_step(step)\n",
    "            sequence.append((convert_cube_to_state(unsolved_cube), '$'))\n",
    "            sequences.append(sequence)\n",
    "        return sequences"
   ]
  },
  {
   "cell_type": "code",
   "execution_count": 52,
   "metadata": {},
   "outputs": [
    {
     "name": "stdout",
     "output_type": "stream",
     "text": [
      "Model Output: tensor([[0.0659, 0.0718, 0.0836, 0.0907, 0.0802, 0.1144, 0.0817, 0.0904, 0.0834,\n",
      "         0.0736, 0.0789, 0.0854]], grad_fn=<SoftmaxBackward0>)\n"
     ]
    }
   ],
   "source": [
    "class CubeRNN(nn.Module):\n",
    "    def __init__(self, num_pieces, embedding_dim, hidden_size, output_size, num_layers=1):\n",
    "        super(CubeRNN, self).__init__()\n",
    "        self.embedding = nn.Embedding(num_pieces, embedding_dim)\n",
    "        self.rnn = nn.RNN(embedding_dim, hidden_size, num_layers, batch_first=True)\n",
    "        self.fc = nn.Linear(hidden_size, output_size)\n",
    "        self.softmax = nn.Softmax(dim=-1)\n",
    "    \n",
    "    def forward(self, x):\n",
    "        x = self.embedding(x)\n",
    "        h0 = torch.zeros(1, x.size(0), hidden_size)\n",
    "        out, _ = self.rnn(x, h0)\n",
    "        out = self.fc(out[:, -1, :]) \n",
    "        out = self.softmax(out)\n",
    "        return out\n",
    "\n",
    "flattened_cube_state = torch.arange(27)\n",
    "\n",
    "hidden_size = 128\n",
    "output_size = 12 \n",
    "\n",
    "model = CubeRNN(27, 8, hidden_size, output_size)\n",
    "\n",
    "input_tensor = torch.Tensor(np.arange(27)).to(torch.int64)\n",
    "\n",
    "input_tensor = input_tensor.unsqueeze(0)\n",
    "\n",
    "output = model(input_tensor)\n",
    "print(\"Model Output:\", output)"
   ]
  },
  {
   "cell_type": "markdown",
   "metadata": {},
   "source": [
    "#### we want to pull one line -- turn it into a sequence of cube states to moves -- then train on it -- then pull the next line and repeat."
   ]
  },
  {
   "cell_type": "code",
   "execution_count": 53,
   "metadata": {},
   "outputs": [
    {
     "name": "stdout",
     "output_type": "stream",
     "text": [
      "('BDL', Corner(D=Square('red'), L=Square('white'), B=Square('green')))\n",
      "('FDL', Corner(F=Square('red'), D=Square('white'), L=Square('blue')))\n",
      "('ULF', Corner(U=Square('red'), F=Square('yellow'), L=Square('green')))\n",
      "('ULB', Corner(U=Square('red'), B=Square('yellow'), L=Square('blue')))\n",
      "('RUF', Corner(F=Square('orange'), R=Square('white'), U=Square('blue')))\n",
      "('RUB', Corner(U=Square('orange'), B=Square('yellow'), R=Square('blue')))\n",
      "('RDB', Corner(D=Square('orange'), B=Square('yellow'), R=Square('green')))\n",
      "('RDF', Corner(R=Square('orange'), D=Square('white'), F=Square('green')))\n",
      "('LU', Edge(L=Square('yellow'), U=Square('green')))\n",
      "('FU', Edge(U=Square('red'), F=Square('white')))\n",
      "('RU', Edge(U=Square('red'), R=Square('yellow')))\n",
      "('BU', Edge(U=Square('orange'), B=Square('green')))\n",
      "('LF', Edge(L=Square('orange'), F=Square('blue')))\n",
      "('LB', Edge(L=Square('white'), B=Square('blue')))\n",
      "('RF', Edge(F=Square('white'), R=Square('green')))\n",
      "('RB', Edge(R=Square('orange'), B=Square('white')))\n",
      "('FD', Edge(F=Square('red'), D=Square('green')))\n",
      "('LD', Edge(D=Square('orange'), L=Square('yellow')))\n",
      "('BD', Edge(B=Square('yellow'), D=Square('blue')))\n",
      "('RD', Edge(D=Square('red'), R=Square('blue')))\n",
      "('F', Centre(F=Square('green')))\n",
      "('U', Centre(U=Square('yellow')))\n",
      "('R', Centre(R=Square('orange')))\n",
      "('L', Centre(L=Square('red')))\n",
      "('D', Centre(D=Square('white')))\n",
      "('B', Centre(B=Square('blue')))\n"
     ]
    }
   ],
   "source": [
    "cube = pc.Cube()\n",
    "\n",
    "alg = pc.Formula()\n",
    "random_alg = alg.random()\n",
    "cube(random_alg)\n",
    "\n",
    "index = 0\n",
    "for c in cube:\n",
    "    # piece_to_index_mapping[c[1]] = index\n",
    "    # location_to_array_position_mapping\n",
    "    print(c)\n",
    "    # index += 1"
   ]
  },
  {
   "cell_type": "markdown",
   "metadata": {},
   "source": [
    "do we even need centers?"
   ]
  },
  {
   "cell_type": "code",
   "execution_count": 54,
   "metadata": {},
   "outputs": [],
   "source": [
    "def encode_cube(cube, piece_to_index_mapping, location_to_array_position_mapping):\n",
    "    cube_array = [None for _ in range(26)]\n",
    "    for i, cubie_tuple in enumerate(cube):\n",
    "        location, cubie = cubie_tuple\n",
    "        squares = []\n",
    "        for square in cubie:\n",
    "            squares.append(str(square[1]))\n",
    "        squares = tuple(squares)\n",
    "        cube_array[location_to_array_position_mapping[location]] = piece_to_index_mapping[squares]\n",
    "    return torch.Tensor([c for c in cube_array]).to(torch.int64)\n",
    "\n",
    "def encode_move(move):\n",
    "    move_mapping = {\n",
    "        'U': 0, 'U\\'': 1,\n",
    "        'L': 2, 'L\\'': 3,\n",
    "        'F': 4, 'F\\'': 5,\n",
    "        'R': 6, 'R\\'': 7,\n",
    "        'B': 8, 'B\\'': 9,\n",
    "        'D': 10, 'D\\'': 11,\n",
    "        '$': 12\n",
    "    }\n",
    "    return move_mapping[move]\n",
    "\n",
    "def get_sequences(filename, num_sequences=1000):\n",
    "    sequences = []\n",
    "    with open(filename, 'r') as f:\n",
    "        for line in f:\n",
    "            if len(sequences) == num_sequences:\n",
    "                return sequences\n",
    "            cubies_string, solution_string = line.split('|')\n",
    "            solution_string.translate(str.maketrans({'U2': 'U U', 'L2': 'L L', 'R2': 'R R', 'F2': 'F F', 'D2': 'D D', 'B2': 'B B'}))\n",
    "            cubies_set = set([eval(cubie_string) for cubie_string in cubies_string])\n",
    "            cube = pc.Cube(cubies_set)\n",
    "            moves = solution_string.split()\n",
    "            cube_states = []\n",
    "            move_states = []\n",
    "            for move in moves:\n",
    "                cube_states.append(encode_cube(cube))\n",
    "                move_states.append(encode_move(move))\n",
    "                cube.perform_step(move)\n",
    "            cube_states.append(encode_cube(cube))\n",
    "            move_states.append(encode_move('$'))\n",
    "            sequences.append(cube_states, move_states)\n",
    "    return sequences"
   ]
  },
  {
   "cell_type": "code",
   "execution_count": 55,
   "metadata": {},
   "outputs": [],
   "source": [
    "piece_to_index_mapping = {}\n",
    "location_to_array_position_mapping = {}\n",
    "\n",
    "cube = pc.Cube()\n",
    "index = 0\n",
    "for c in cube:\n",
    "    piece_to_index_mapping[tuple([str(square[1]) for square in c[1]])] = index\n",
    "    location_to_array_position_mapping[c[0]] = index\n",
    "    index += 1\n"
   ]
  },
  {
   "cell_type": "code",
   "execution_count": 56,
   "metadata": {},
   "outputs": [
    {
     "data": {
      "text/plain": [
       "{'BDL': 0,\n",
       " 'FDL': 1,\n",
       " 'ULF': 2,\n",
       " 'ULB': 3,\n",
       " 'RUF': 4,\n",
       " 'RUB': 5,\n",
       " 'RDB': 6,\n",
       " 'RDF': 7,\n",
       " 'LU': 8,\n",
       " 'FU': 9,\n",
       " 'RU': 10,\n",
       " 'BU': 11,\n",
       " 'LF': 12,\n",
       " 'LB': 13,\n",
       " 'RF': 14,\n",
       " 'RB': 15,\n",
       " 'FD': 16,\n",
       " 'LD': 17,\n",
       " 'BD': 18,\n",
       " 'RD': 19,\n",
       " 'F': 20,\n",
       " 'U': 21,\n",
       " 'R': 22,\n",
       " 'L': 23,\n",
       " 'D': 24,\n",
       " 'B': 25}"
      ]
     },
     "execution_count": 56,
     "metadata": {},
     "output_type": "execute_result"
    }
   ],
   "source": [
    "location_to_array_position_mapping"
   ]
  },
  {
   "cell_type": "code",
   "execution_count": 57,
   "metadata": {},
   "outputs": [
    {
     "data": {
      "text/plain": [
       "{('[r]', '[w]', '[b]'): 0,\n",
       " ('[r]', '[w]', '[g]'): 1,\n",
       " ('[r]', '[y]', '[g]'): 2,\n",
       " ('[r]', '[y]', '[b]'): 3,\n",
       " ('[o]', '[y]', '[g]'): 4,\n",
       " ('[o]', '[y]', '[b]'): 5,\n",
       " ('[o]', '[w]', '[b]'): 6,\n",
       " ('[o]', '[w]', '[g]'): 7,\n",
       " ('[r]', '[y]'): 8,\n",
       " ('[y]', '[g]'): 9,\n",
       " ('[o]', '[y]'): 10,\n",
       " ('[y]', '[b]'): 11,\n",
       " ('[r]', '[g]'): 12,\n",
       " ('[r]', '[b]'): 13,\n",
       " ('[o]', '[g]'): 14,\n",
       " ('[o]', '[b]'): 15,\n",
       " ('[w]', '[g]'): 16,\n",
       " ('[r]', '[w]'): 17,\n",
       " ('[w]', '[b]'): 18,\n",
       " ('[o]', '[w]'): 19,\n",
       " ('[g]',): 20,\n",
       " ('[y]',): 21,\n",
       " ('[o]',): 22,\n",
       " ('[r]',): 23,\n",
       " ('[w]',): 24,\n",
       " ('[b]',): 25}"
      ]
     },
     "execution_count": 57,
     "metadata": {},
     "output_type": "execute_result"
    }
   ],
   "source": [
    "piece_to_index_mapping"
   ]
  },
  {
   "cell_type": "code",
   "execution_count": 58,
   "metadata": {},
   "outputs": [
    {
     "name": "stdout",
     "output_type": "stream",
     "text": [
      "CUBE 0:\n",
      "SCRAMBLED:\n",
      "tensor([ 7,  3,  2,  0,  4,  1,  6,  5, 16, 18, 10, 15,  8, 14, 11,  9, 12, 17,\n",
      "        19, 13, 20, 21, 22, 23, 24, 25])\n",
      "         [r][b][r]\n",
      "         [g][y][o]\n",
      "         [r][w][y]\n",
      "[w][w][g][y][b][g][o][y][w][g][o][b]\n",
      "[o][r][y][r][g][b][y][o][g][y][b][g]\n",
      "[w][r][r][b][g][b][o][b][o][b][o][o]\n",
      "         [y][r][y]\n",
      "         [w][w][r]\n",
      "         [g][w][w]\n",
      "\n",
      "\n",
      "U2 R' B2 U F R' U2 R' U R U R' L U' L' U R' U' R F U2 F' U' B' U' B U F U F' L' U L F U F' U R U B U' B' R' U R' U' R B2 D L' U L U' L D' B2\n",
      "SOLVED:\n",
      "tensor([ 0,  1,  2,  3,  4,  5,  6,  7,  8,  9, 10, 11, 12, 13, 14, 15, 16, 17,\n",
      "        18, 19, 20, 21, 22, 23, 24, 25])\n",
      "         [y][y][y]\n",
      "         [y][y][y]\n",
      "         [y][y][y]\n",
      "[r][r][r][g][g][g][o][o][o][b][b][b]\n",
      "[r][r][r][g][g][g][o][o][o][b][b][b]\n",
      "[r][r][r][g][g][g][o][o][o][b][b][b]\n",
      "         [w][w][w]\n",
      "         [w][w][w]\n",
      "         [w][w][w]\n",
      "\n",
      "\n",
      "\n",
      "CUBE 1:\n",
      "SCRAMBLED:\n",
      "tensor([ 0,  1,  6,  4,  7,  5,  2,  3, 19, 17, 13,  8,  9, 11, 14, 18, 12, 15,\n",
      "        16, 10, 20, 21, 22, 23, 24, 25])\n",
      "         [g][y][y]\n",
      "         [w][y][b]\n",
      "         [b][w][g]\n",
      "[y][o][o][w][r][w][o][r][o][b][r][o]\n",
      "[y][r][g][y][g][o][g][o][w][b][b][b]\n",
      "[w][o][w][r][r][r][b][y][r][y][g][r]\n",
      "         [g][g][y]\n",
      "         [b][w][o]\n",
      "         [b][w][g]\n",
      "\n",
      "\n",
      "U' R2 F D F D B U B' R U' R' U R U' R' L' U L F U' F' B U B' F U F' U2 F U' F' U2 L U L' F U2 F' U F U' F' U' B L F' L F L' F' L F L2 B' U2 B' U2 B U2 B' R B U B' U' B' R' B2 U'\n",
      "SOLVED:\n",
      "tensor([ 0,  1,  2,  3,  4,  5,  6,  7,  8,  9, 10, 11, 12, 13, 14, 15, 16, 17,\n",
      "        18, 19, 20, 21, 22, 23, 24, 25])\n",
      "         [y][y][y]\n",
      "         [y][y][y]\n",
      "         [y][y][y]\n",
      "[r][r][r][g][g][g][o][o][o][b][b][b]\n",
      "[r][r][r][g][g][g][o][o][o][b][b][b]\n",
      "[r][r][r][g][g][g][o][o][o][b][b][b]\n",
      "         [w][w][w]\n",
      "         [w][w][w]\n",
      "         [w][w][w]\n",
      "\n",
      "\n",
      "\n",
      "CUBE 2:\n",
      "SCRAMBLED:\n",
      "tensor([ 4,  3,  2,  6,  1,  5,  7,  0, 10, 14, 17, 13,  9, 15, 16, 18, 19,  8,\n",
      "        11, 12, 20, 21, 22, 23, 24, 25])\n",
      "         [o][r][b]\n",
      "         [o][y][w]\n",
      "         [y][g][r]\n",
      "[b][y][r][g][o][w][g][r][y][o][b][w]\n",
      "[b][r][g][y][g][w][g][o][b][w][b][o]\n",
      "[g][y][b][y][w][w][b][g][g][o][b][o]\n",
      "         [r][o][r]\n",
      "         [r][w][r]\n",
      "         [y][y][w]\n",
      "\n",
      "\n",
      "D R F U' D' R B2 D2 B' U2 B F' U' F R' U' R U' B U B' U B' U2 B U B' U' B F U F' U' L' U' L R U B U' B' R' U L F U F' U' L' U' F U F' L' F U2 F' U2 F' L F U F U2 F' U'\n",
      "SOLVED:\n",
      "tensor([ 0,  1,  2,  3,  4,  5,  6,  7,  8,  9, 10, 11, 12, 13, 14, 15, 16, 17,\n",
      "        18, 19, 20, 21, 22, 23, 24, 25])\n",
      "         [y][y][y]\n",
      "         [y][y][y]\n",
      "         [y][y][y]\n",
      "[r][r][r][g][g][g][o][o][o][b][b][b]\n",
      "[r][r][r][g][g][g][o][o][o][b][b][b]\n",
      "[r][r][r][g][g][g][o][o][o][b][b][b]\n",
      "         [w][w][w]\n",
      "         [w][w][w]\n",
      "         [w][w][w]\n",
      "\n",
      "\n",
      "\n",
      "CUBE 3:\n",
      "SCRAMBLED:\n",
      "tensor([ 5,  2,  1,  0,  6,  3,  7,  4,  8,  9, 13, 16, 19, 12, 11, 10, 14, 18,\n",
      "        17, 15, 20, 21, 22, 23, 24, 25])\n",
      "         [r][w][b]\n",
      "         [y][y][b]\n",
      "         [w][y][o]\n",
      "[w][r][g][r][g][w][b][r][r][y][g][b]\n",
      "[r][r][w][o][g][y][b][o][o][y][b][g]\n",
      "[y][w][g][r][g][y][o][o][o][w][w][o]\n",
      "         [y][o][g]\n",
      "         [b][w][b]\n",
      "         [b][r][g]\n",
      "\n",
      "\n",
      "B R B D F' R' D B U B' U' R U R' B U' B' U B U B' U L' U' L U2 B' U' B U2 L' U L U' L' U' L U F U F' U' F' L F L' U2 F U F' U' F' L F2 U' F' U' F U F' L'\n",
      "SOLVED:\n",
      "tensor([ 0,  1,  2,  3,  4,  5,  6,  7,  8,  9, 10, 11, 12, 13, 14, 15, 16, 17,\n",
      "        18, 19, 20, 21, 22, 23, 24, 25])\n",
      "         [y][y][y]\n",
      "         [y][y][y]\n",
      "         [y][y][y]\n",
      "[r][r][r][g][g][g][o][o][o][b][b][b]\n",
      "[r][r][r][g][g][g][o][o][o][b][b][b]\n",
      "[r][r][r][g][g][g][o][o][o][b][b][b]\n",
      "         [w][w][w]\n",
      "         [w][w][w]\n",
      "         [w][w][w]\n",
      "\n",
      "\n",
      "\n",
      "CUBE 4:\n",
      "SCRAMBLED:\n",
      "tensor([ 1,  5,  6,  4,  7,  0,  3,  2,  9,  8, 13, 16, 17, 11, 19, 15, 14, 18,\n",
      "        12, 10, 20, 21, 22, 23, 24, 25])\n",
      "         [y][g][b]\n",
      "         [y][y][r]\n",
      "         [w][r][g]\n",
      "[o][g][b][o][y][w][o][b][w][r][w][g]\n",
      "[b][r][w][r][g][w][o][o][b][o][b][y]\n",
      "[r][b][o][y][g][y][g][o][y][r][r][w]\n",
      "         [b][o][r]\n",
      "         [w][w][y]\n",
      "         [g][g][b]\n",
      "\n",
      "\n",
      "B' R U' F' B2 D' U2 R' U' R L U L' U B' U' B U F U F' U F U' F' U B' R' F R' F' R2 B U2 F2 B2 D F2 B2 U2 F2 B2 D F2 B2\n",
      "SOLVED:\n",
      "tensor([ 0,  1,  2,  3,  4,  5,  6,  7,  8,  9, 10, 11, 12, 13, 14, 15, 16, 17,\n",
      "        18, 19, 20, 21, 22, 23, 24, 25])\n",
      "         [y][y][y]\n",
      "         [y][y][y]\n",
      "         [y][y][y]\n",
      "[r][r][r][g][g][g][o][o][o][b][b][b]\n",
      "[r][r][r][g][g][g][o][o][o][b][b][b]\n",
      "[r][r][r][g][g][g][o][o][o][b][b][b]\n",
      "         [w][w][w]\n",
      "         [w][w][w]\n",
      "         [w][w][w]\n",
      "\n",
      "\n",
      "\n"
     ]
    }
   ],
   "source": [
    "from pycuber.solver import CFOPSolver\n",
    "\n",
    "for i in range(5):\n",
    "    print(f'CUBE {i}:')\n",
    "    cube = pc.Cube()\n",
    "    alg = pc.Formula()\n",
    "    random_alg = alg.random()\n",
    "    cube(random_alg)\n",
    "    original_cube = cube.copy()\n",
    "    print(f'SCRAMBLED:\\n{encode_cube(cube, piece_to_index_mapping, location_to_array_position_mapping)}')\n",
    "    print(cube)\n",
    "    print()\n",
    "    solver = CFOPSolver(cube)\n",
    "    solution = solver.solve(cube)\n",
    "    print(solution)\n",
    "    original_cube.perform_algo(solution)\n",
    "    print(f'SOLVED:\\n{encode_cube(original_cube, piece_to_index_mapping, location_to_array_position_mapping)}')\n",
    "    print(original_cube)\n",
    "    print()\n",
    "    print()"
   ]
  },
  {
   "cell_type": "code",
   "execution_count": 59,
   "metadata": {},
   "outputs": [],
   "source": [
    "# sequences = get_sequences('data/train_0.dat', num_sequences=100)\n",
    "\n",
    "# num_pieces = 27\n",
    "# embedding_dim = 16 \n",
    "# hidden_size = 128\n",
    "# output_size = 13\n",
    "# num_layers = 1\n",
    "\n",
    "# model = CubeRNN(num_pieces, embedding_dim, hidden_size, output_size, num_layers)\n",
    "\n",
    "# criterion = nn.CrossEntropyLoss()\n",
    "# optimizer = torch.optim.Adam(model.parameters(), lr=0.001)"
   ]
  },
  {
   "cell_type": "code",
   "execution_count": 60,
   "metadata": {},
   "outputs": [
    {
     "data": {
      "text/plain": [
       "tensor(1., grad_fn=<SumBackward0>)"
      ]
     },
     "execution_count": 60,
     "metadata": {},
     "output_type": "execute_result"
    }
   ],
   "source": [
    "output[0].sum()"
   ]
  },
  {
   "cell_type": "code",
   "execution_count": 61,
   "metadata": {},
   "outputs": [],
   "source": [
    "import random\n",
    "import pycuber as pc\n",
    "from pycuber import *\n",
    "\n",
    "def encode_cube(cube):\n",
    "    piece_to_index_mapping = {}\n",
    "    location_to_array_position_mapping = {}\n",
    "    mapping_cube = pc.Cube()\n",
    "    index = 0\n",
    "    for c in mapping_cube:\n",
    "        piece_to_index_mapping[tuple([str(square[1]) for square in c[1]])] = index\n",
    "        location_to_array_position_mapping[c[0]] = index\n",
    "        index += 1\n",
    "    cube_array = [None for _ in range(26)]\n",
    "    for i, cubie_tuple in enumerate(cube):\n",
    "        location, cubie = cubie_tuple\n",
    "        squares = []\n",
    "        for square in cubie:\n",
    "            squares.append(str(square[1]))\n",
    "        squares = tuple(squares)\n",
    "        cube_array[location_to_array_position_mapping[location]] = piece_to_index_mapping[squares]\n",
    "    print(cube_array)\n",
    "    return torch.Tensor([c for c in cube_array]).to(torch.int64)\n",
    "\n",
    "\n",
    "def encode_move(move):\n",
    "    move_mapping = {\n",
    "        'U': 0, 'U\\'': 1,\n",
    "        'L': 2, 'L\\'': 3,\n",
    "        'F': 4, 'F\\'': 5,\n",
    "        'R': 6, 'R\\'': 7,\n",
    "        'B': 8, 'B\\'': 9,\n",
    "        'D': 10, 'D\\'': 11,\n",
    "        '$': 12\n",
    "    }\n",
    "    return move_mapping[move]\n",
    "\n",
    "\n",
    "def random_line(filename, prev_lines):\n",
    "    with open(filename, 'r') as file:\n",
    "        rand_line = next(file)\n",
    "        rand_num = 0\n",
    "        for num, line in enumerate(file, 2):\n",
    "            if random.randrange(num) or num in prev_lines:\n",
    "                continue\n",
    "            rand_line = line\n",
    "            rand_num = num\n",
    "        return rand_num, rand_line\n",
    "\n",
    "\n",
    "def yield_sequences(filename, num_sequences=1000):\n",
    "    i = 0\n",
    "    prev_lines = []\n",
    "    while i < num_sequences:\n",
    "        line_num, line = random_line(filename, prev_lines)\n",
    "        print(line)\n",
    "        prev_lines.append(line_num)\n",
    "        cubies_string, solution_string = line.split('|')\n",
    "        mapping = {'U2': 'U U', 'L2': 'L L', 'R2': 'R R', 'F2': 'F F', 'D2': 'D D', 'B2': 'B B'}\n",
    "        for k, v in mapping.items():\n",
    "            solution_string = solution_string.replace(k, v)\n",
    "        cubies_set = set([eval(cubie_string) for cubie_string in cubies_string.split(';')])\n",
    "        cube = pc.Cube(cubies_set)\n",
    "        print(cube)\n",
    "        moves = solution_string.split()\n",
    "        cube_states = []\n",
    "        move_states = []\n",
    "        for move in moves:\n",
    "            cube_states.append(encode_cube(cube))\n",
    "            move_states.append(encode_move(move))\n",
    "            cube.perform_step(move)\n",
    "        cube_states.append(encode_cube(cube))\n",
    "        move_states.append(encode_move('$'))\n",
    "        if i % 100 == 0:\n",
    "            print(f'Sequnce {i} of {num_sequences}')\n",
    "        i += 1\n",
    "        sequence = cube_states, move_states\n",
    "        print(sequence)\n",
    "        yield sequence"
   ]
  },
  {
   "cell_type": "code",
   "execution_count": 62,
   "metadata": {},
   "outputs": [
    {
     "name": "stdout",
     "output_type": "stream",
     "text": [
      "Corner(D=Square('red'), L=Square('yellow'), B=Square('blue'));Corner(D=Square('orange'), L=Square('yellow'), F=Square('blue'));Corner(U=Square('red'), L=Square('white'), F=Square('green'));Corner(L=Square('red'), B=Square('yellow'), U=Square('green'));Corner(U=Square('red'), R=Square('white'), F=Square('blue'));Corner(U=Square('orange'), R=Square('white'), B=Square('blue'));Corner(B=Square('orange'), R=Square('yellow'), D=Square('green'));Corner(D=Square('orange'), F=Square('white'), R=Square('green'));Edge(U=Square('orange'), L=Square('blue'));Edge(F=Square('yellow'), U=Square('green'));Edge(R=Square('red'), U=Square('green'));Edge(U=Square('red'), B=Square('white'));Edge(F=Square('red'), L=Square('yellow'));Edge(B=Square('white'), L=Square('green'));Edge(R=Square('orange'), F=Square('white'));Edge(B=Square('orange'), R=Square('green'));Edge(D=Square('red'), F=Square('blue'));Edge(D=Square('white'), L=Square('blue'));Edge(B=Square('yellow'), D=Square('blue'));Edge(D=Square('orange'), R=Square('yellow'));Centre(F=Square('green'));Centre(U=Square('yellow'));Centre(R=Square('orange'));Centre(L=Square('red'));Centre(D=Square('white'));Centre(B=Square('blue'))|U B2 R U' R2 F R2 B2 D' L U L' B U2 B' R' U2 R2 U R' B U B' U2 R' U2 R U L' U' L2 U L' U F U F' U F U' F' U2 F U2 F2 U' F U' F' U2 L F L' U2 B U B' R' B U B' U' B' R B2 U' B' U'\n",
      "\n",
      "         [g][r][o]\n",
      "         [o][y][g]\n",
      "         [r][g][r]\n",
      "[r][b][w][g][y][b][w][r][w][b][w][y]\n",
      "[g][r][y][r][g][w][o][o][g][o][b][w]\n",
      "[y][b][y][b][b][w][g][y][y][o][y][b]\n",
      "         [o][r][o]\n",
      "         [w][w][o]\n",
      "         [r][b][g]\n",
      "\n",
      "[3, 5, 1, 2, 0, 6, 4, 7, 15, 9, 12, 17, 8, 16, 19, 14, 13, 18, 11, 10, 20, 21, 22, 23, 24, 25]\n",
      "[3, 5, 0, 1, 6, 2, 4, 7, 9, 12, 17, 15, 8, 16, 19, 14, 13, 18, 11, 10, 20, 21, 22, 23, 24, 25]\n",
      "[1, 5, 0, 2, 6, 4, 3, 7, 9, 12, 17, 14, 8, 15, 19, 11, 13, 18, 16, 10, 20, 21, 22, 23, 24, 25]\n",
      "[2, 5, 0, 4, 6, 3, 1, 7, 9, 12, 17, 11, 8, 14, 19, 16, 13, 18, 15, 10, 20, 21, 22, 23, 24, 25]\n",
      "[2, 5, 0, 4, 7, 6, 3, 1, 9, 12, 19, 11, 8, 14, 10, 17, 13, 18, 15, 16, 20, 21, 22, 23, 24, 25]\n",
      "[2, 5, 4, 6, 0, 7, 3, 1, 11, 9, 12, 19, 8, 14, 10, 17, 13, 18, 15, 16, 20, 21, 22, 23, 24, 25]\n",
      "[2, 5, 4, 6, 1, 0, 7, 3, 11, 9, 10, 19, 8, 14, 16, 12, 13, 18, 15, 17, 20, 21, 22, 23, 24, 25]\n",
      "[2, 5, 4, 6, 3, 1, 0, 7, 11, 9, 16, 19, 8, 14, 17, 10, 13, 18, 15, 12, 20, 21, 22, 23, 24, 25]\n",
      "[2, 7, 5, 6, 4, 1, 0, 3, 11, 8, 16, 19, 13, 14, 9, 10, 17, 18, 15, 12, 20, 21, 22, 23, 24, 25]\n",
      "[2, 7, 5, 6, 3, 4, 1, 0, 11, 8, 9, 19, 13, 14, 12, 16, 17, 18, 15, 10, 20, 21, 22, 23, 24, 25]\n",
      "[2, 7, 5, 6, 0, 3, 4, 1, 11, 8, 12, 19, 13, 14, 10, 9, 17, 18, 15, 16, 20, 21, 22, 23, 24, 25]\n",
      "[6, 7, 5, 3, 0, 4, 2, 1, 11, 8, 12, 9, 13, 19, 10, 15, 17, 18, 14, 16, 20, 21, 22, 23, 24, 25]\n",
      "[3, 7, 5, 4, 0, 2, 6, 1, 11, 8, 12, 15, 13, 9, 10, 14, 17, 18, 19, 16, 20, 21, 22, 23, 24, 25]\n",
      "[7, 1, 5, 4, 0, 2, 3, 6, 11, 8, 12, 15, 13, 9, 10, 14, 16, 17, 18, 19, 20, 21, 22, 23, 24, 25]\n",
      "[1, 5, 4, 7, 0, 2, 3, 6, 9, 8, 12, 15, 11, 17, 10, 14, 16, 13, 18, 19, 20, 21, 22, 23, 24, 25]\n",
      "[1, 5, 0, 4, 2, 7, 3, 6, 8, 12, 15, 9, 11, 17, 10, 14, 16, 13, 18, 19, 20, 21, 22, 23, 24, 25]\n",
      "[4, 1, 5, 0, 2, 7, 3, 6, 11, 12, 15, 9, 13, 8, 10, 14, 16, 17, 18, 19, 20, 21, 22, 23, 24, 25]\n",
      "[0, 1, 5, 7, 2, 3, 4, 6, 11, 12, 15, 14, 13, 9, 10, 18, 16, 17, 8, 19, 20, 21, 22, 23, 24, 25]\n",
      "[0, 1, 2, 5, 3, 7, 4, 6, 12, 15, 14, 11, 13, 9, 10, 18, 16, 17, 8, 19, 20, 21, 22, 23, 24, 25]\n",
      "[0, 1, 3, 2, 7, 5, 4, 6, 15, 14, 11, 12, 13, 9, 10, 18, 16, 17, 8, 19, 20, 21, 22, 23, 24, 25]\n",
      "[4, 1, 3, 0, 7, 2, 5, 6, 15, 14, 11, 9, 13, 8, 10, 12, 16, 17, 18, 19, 20, 21, 22, 23, 24, 25]\n",
      "[4, 1, 3, 0, 2, 5, 6, 7, 15, 14, 12, 9, 13, 8, 11, 19, 16, 17, 18, 10, 20, 21, 22, 23, 24, 25]\n",
      "[4, 1, 2, 3, 5, 0, 6, 7, 14, 12, 9, 15, 13, 8, 11, 19, 16, 17, 18, 10, 20, 21, 22, 23, 24, 25]\n",
      "[4, 1, 5, 2, 0, 3, 6, 7, 12, 9, 15, 14, 13, 8, 11, 19, 16, 17, 18, 10, 20, 21, 22, 23, 24, 25]\n",
      "[4, 1, 5, 2, 7, 0, 3, 6, 12, 9, 11, 14, 13, 8, 10, 15, 16, 17, 18, 19, 20, 21, 22, 23, 24, 25]\n",
      "[4, 1, 5, 2, 6, 7, 0, 3, 12, 9, 10, 14, 13, 8, 19, 11, 16, 17, 18, 15, 20, 21, 22, 23, 24, 25]\n",
      "[4, 1, 6, 5, 7, 2, 0, 3, 9, 10, 14, 12, 13, 8, 19, 11, 16, 17, 18, 15, 20, 21, 22, 23, 24, 25]\n",
      "[4, 1, 6, 5, 2, 0, 3, 7, 9, 10, 11, 12, 13, 8, 14, 15, 16, 17, 18, 19, 20, 21, 22, 23, 24, 25]\n",
      "[5, 1, 6, 0, 2, 3, 4, 7, 9, 10, 11, 15, 13, 12, 14, 18, 16, 17, 8, 19, 20, 21, 22, 23, 24, 25]\n",
      "[5, 1, 2, 6, 3, 0, 4, 7, 10, 11, 15, 9, 13, 12, 14, 18, 16, 17, 8, 19, 20, 21, 22, 23, 24, 25]\n",
      "[4, 1, 2, 5, 3, 6, 0, 7, 10, 11, 15, 12, 13, 8, 14, 9, 16, 17, 18, 19, 20, 21, 22, 23, 24, 25]\n",
      "[4, 1, 3, 2, 6, 5, 0, 7, 11, 15, 12, 10, 13, 8, 14, 9, 16, 17, 18, 19, 20, 21, 22, 23, 24, 25]\n",
      "[4, 1, 6, 3, 5, 2, 0, 7, 15, 12, 10, 11, 13, 8, 14, 9, 16, 17, 18, 19, 20, 21, 22, 23, 24, 25]\n",
      "[4, 1, 6, 3, 2, 0, 7, 5, 15, 12, 9, 11, 13, 8, 10, 19, 16, 17, 18, 14, 20, 21, 22, 23, 24, 25]\n",
      "[4, 1, 2, 6, 0, 3, 7, 5, 12, 9, 11, 15, 13, 8, 10, 19, 16, 17, 18, 14, 20, 21, 22, 23, 24, 25]\n",
      "[4, 1, 0, 2, 3, 6, 7, 5, 9, 11, 15, 12, 13, 8, 10, 19, 16, 17, 18, 14, 20, 21, 22, 23, 24, 25]\n",
      "[4, 1, 0, 2, 5, 3, 6, 7, 9, 11, 10, 12, 13, 8, 14, 15, 16, 17, 18, 19, 20, 21, 22, 23, 24, 25]\n",
      "[4, 1, 5, 0, 3, 2, 6, 7, 11, 10, 12, 9, 13, 8, 14, 15, 16, 17, 18, 19, 20, 21, 22, 23, 24, 25]\n",
      "[0, 4, 1, 5, 3, 2, 6, 7, 13, 10, 12, 9, 17, 11, 14, 15, 16, 8, 18, 19, 20, 21, 22, 23, 24, 25]\n",
      "[0, 4, 5, 2, 1, 3, 6, 7, 9, 13, 10, 12, 17, 11, 14, 15, 16, 8, 18, 19, 20, 21, 22, 23, 24, 25]\n",
      "[4, 5, 2, 0, 1, 3, 6, 7, 11, 13, 10, 12, 9, 8, 14, 15, 16, 17, 18, 19, 20, 21, 22, 23, 24, 25]\n",
      "[5, 2, 0, 4, 1, 3, 6, 7, 8, 13, 10, 12, 11, 17, 14, 15, 16, 9, 18, 19, 20, 21, 22, 23, 24, 25]\n",
      "[5, 2, 1, 0, 3, 4, 6, 7, 13, 10, 12, 8, 11, 17, 14, 15, 16, 9, 18, 19, 20, 21, 22, 23, 24, 25]\n",
      "[0, 5, 2, 1, 3, 4, 6, 7, 11, 10, 12, 8, 9, 13, 14, 15, 16, 17, 18, 19, 20, 21, 22, 23, 24, 25]\n",
      "[0, 5, 3, 2, 4, 1, 6, 7, 10, 12, 8, 11, 9, 13, 14, 15, 16, 17, 18, 19, 20, 21, 22, 23, 24, 25]\n",
      "[0, 7, 5, 2, 3, 1, 6, 4, 10, 9, 8, 11, 16, 13, 12, 15, 14, 17, 18, 19, 20, 21, 22, 23, 24, 25]\n",
      "[0, 7, 3, 5, 1, 2, 6, 4, 9, 8, 11, 10, 16, 13, 12, 15, 14, 17, 18, 19, 20, 21, 22, 23, 24, 25]\n",
      "[0, 3, 1, 5, 4, 2, 6, 7, 9, 12, 11, 10, 8, 13, 14, 15, 16, 17, 18, 19, 20, 21, 22, 23, 24, 25]\n",
      "[0, 3, 4, 1, 2, 5, 6, 7, 12, 11, 10, 9, 8, 13, 14, 15, 16, 17, 18, 19, 20, 21, 22, 23, 24, 25]\n",
      "[0, 7, 3, 1, 4, 5, 6, 2, 12, 8, 10, 9, 16, 13, 11, 15, 14, 17, 18, 19, 20, 21, 22, 23, 24, 25]\n",
      "[0, 7, 1, 5, 3, 4, 6, 2, 9, 12, 8, 10, 16, 13, 11, 15, 14, 17, 18, 19, 20, 21, 22, 23, 24, 25]\n",
      "[0, 1, 3, 5, 2, 4, 6, 7, 9, 11, 8, 10, 12, 13, 14, 15, 16, 17, 18, 19, 20, 21, 22, 23, 24, 25]\n",
      "[0, 1, 2, 3, 4, 5, 6, 7, 11, 8, 10, 9, 12, 13, 14, 15, 16, 17, 18, 19, 20, 21, 22, 23, 24, 25]\n",
      "[0, 1, 4, 2, 5, 3, 6, 7, 8, 10, 9, 11, 12, 13, 14, 15, 16, 17, 18, 19, 20, 21, 22, 23, 24, 25]\n",
      "[0, 7, 1, 2, 4, 3, 6, 5, 8, 12, 9, 11, 16, 13, 10, 15, 14, 17, 18, 19, 20, 21, 22, 23, 24, 25]\n",
      "[0, 7, 4, 1, 3, 2, 6, 5, 12, 9, 11, 8, 16, 13, 10, 15, 14, 17, 18, 19, 20, 21, 22, 23, 24, 25]\n",
      "[0, 7, 3, 4, 2, 1, 6, 5, 9, 11, 8, 12, 16, 13, 10, 15, 14, 17, 18, 19, 20, 21, 22, 23, 24, 25]\n",
      "[0, 5, 7, 4, 3, 1, 6, 2, 9, 16, 8, 12, 14, 13, 11, 15, 10, 17, 18, 19, 20, 21, 22, 23, 24, 25]\n",
      "[0, 2, 5, 4, 7, 1, 6, 3, 9, 14, 8, 12, 10, 13, 16, 15, 11, 17, 18, 19, 20, 21, 22, 23, 24, 25]\n",
      "[0, 2, 4, 1, 5, 7, 6, 3, 12, 9, 14, 8, 10, 13, 16, 15, 11, 17, 18, 19, 20, 21, 22, 23, 24, 25]\n",
      "[0, 3, 2, 1, 4, 7, 6, 5, 12, 10, 14, 8, 11, 13, 9, 15, 16, 17, 18, 19, 20, 21, 22, 23, 24, 25]\n",
      "[0, 3, 1, 7, 2, 4, 6, 5, 8, 12, 10, 14, 11, 13, 9, 15, 16, 17, 18, 19, 20, 21, 22, 23, 24, 25]\n",
      "[0, 1, 2, 7, 5, 4, 6, 3, 8, 9, 10, 14, 12, 13, 16, 15, 11, 17, 18, 19, 20, 21, 22, 23, 24, 25]\n",
      "[0, 1, 5, 2, 4, 7, 6, 3, 9, 10, 14, 8, 12, 13, 16, 15, 11, 17, 18, 19, 20, 21, 22, 23, 24, 25]\n",
      "[0, 1, 4, 5, 7, 2, 6, 3, 10, 14, 8, 9, 12, 13, 16, 15, 11, 17, 18, 19, 20, 21, 22, 23, 24, 25]\n",
      "[1, 4, 5, 0, 7, 2, 6, 3, 13, 14, 8, 9, 10, 17, 16, 15, 11, 12, 18, 19, 20, 21, 22, 23, 24, 25]\n",
      "[1, 3, 4, 0, 5, 2, 6, 7, 13, 10, 8, 9, 11, 17, 14, 15, 16, 12, 18, 19, 20, 21, 22, 23, 24, 25]\n",
      "[0, 1, 3, 4, 5, 2, 6, 7, 11, 10, 8, 9, 12, 13, 14, 15, 16, 17, 18, 19, 20, 21, 22, 23, 24, 25]\n",
      "[0, 1, 5, 3, 2, 4, 6, 7, 10, 8, 9, 11, 12, 13, 14, 15, 16, 17, 18, 19, 20, 21, 22, 23, 24, 25]\n",
      "[0, 1, 2, 5, 4, 3, 6, 7, 8, 9, 11, 10, 12, 13, 14, 15, 16, 17, 18, 19, 20, 21, 22, 23, 24, 25]\n",
      "[5, 1, 2, 3, 4, 6, 0, 7, 8, 9, 11, 15, 12, 10, 14, 18, 16, 17, 13, 19, 20, 21, 22, 23, 24, 25]\n",
      "[5, 1, 4, 2, 6, 3, 0, 7, 9, 11, 15, 8, 12, 10, 14, 18, 16, 17, 13, 19, 20, 21, 22, 23, 24, 25]\n",
      "[0, 1, 4, 5, 6, 2, 3, 7, 9, 11, 15, 10, 12, 13, 14, 8, 16, 17, 18, 19, 20, 21, 22, 23, 24, 25]\n",
      "[0, 1, 4, 5, 2, 3, 7, 6, 9, 11, 8, 10, 12, 13, 15, 19, 16, 17, 18, 14, 20, 21, 22, 23, 24, 25]\n",
      "[5, 1, 4, 3, 2, 7, 0, 6, 9, 11, 8, 19, 12, 10, 15, 18, 16, 17, 13, 14, 20, 21, 22, 23, 24, 25]\n",
      "[5, 1, 2, 4, 7, 3, 0, 6, 11, 8, 19, 9, 12, 10, 15, 18, 16, 17, 13, 14, 20, 21, 22, 23, 24, 25]\n",
      "[0, 1, 2, 5, 7, 4, 3, 6, 11, 8, 19, 10, 12, 13, 15, 9, 16, 17, 18, 14, 20, 21, 22, 23, 24, 25]\n",
      "[0, 1, 5, 4, 2, 7, 3, 6, 10, 11, 8, 19, 12, 13, 15, 9, 16, 17, 18, 14, 20, 21, 22, 23, 24, 25]\n",
      "[3, 1, 5, 0, 2, 4, 7, 6, 10, 11, 8, 13, 12, 18, 15, 19, 16, 17, 9, 14, 20, 21, 22, 23, 24, 25]\n",
      "[3, 1, 5, 0, 6, 2, 4, 7, 10, 11, 15, 13, 12, 18, 14, 8, 16, 17, 9, 19, 20, 21, 22, 23, 24, 25]\n",
      "[0, 1, 5, 2, 6, 4, 3, 7, 10, 11, 15, 8, 12, 13, 14, 9, 16, 17, 18, 19, 20, 21, 22, 23, 24, 25]\n",
      "[2, 1, 5, 4, 6, 3, 0, 7, 10, 11, 15, 9, 12, 8, 14, 18, 16, 17, 13, 19, 20, 21, 22, 23, 24, 25]\n",
      "[2, 1, 4, 3, 5, 6, 0, 7, 9, 10, 11, 15, 12, 8, 14, 18, 16, 17, 13, 19, 20, 21, 22, 23, 24, 25]\n",
      "[0, 1, 4, 2, 5, 3, 6, 7, 9, 10, 11, 8, 12, 13, 14, 15, 16, 17, 18, 19, 20, 21, 22, 23, 24, 25]\n",
      "[0, 1, 2, 3, 4, 5, 6, 7, 8, 9, 10, 11, 12, 13, 14, 15, 16, 17, 18, 19, 20, 21, 22, 23, 24, 25]\n",
      "Sequnce 0 of 1\n",
      "([tensor([ 3,  5,  1,  2,  0,  6,  4,  7, 15,  9, 12, 17,  8, 16, 19, 14, 13, 18,\n",
      "        11, 10, 20, 21, 22, 23, 24, 25]), tensor([ 3,  5,  0,  1,  6,  2,  4,  7,  9, 12, 17, 15,  8, 16, 19, 14, 13, 18,\n",
      "        11, 10, 20, 21, 22, 23, 24, 25]), tensor([ 1,  5,  0,  2,  6,  4,  3,  7,  9, 12, 17, 14,  8, 15, 19, 11, 13, 18,\n",
      "        16, 10, 20, 21, 22, 23, 24, 25]), tensor([ 2,  5,  0,  4,  6,  3,  1,  7,  9, 12, 17, 11,  8, 14, 19, 16, 13, 18,\n",
      "        15, 10, 20, 21, 22, 23, 24, 25]), tensor([ 2,  5,  0,  4,  7,  6,  3,  1,  9, 12, 19, 11,  8, 14, 10, 17, 13, 18,\n",
      "        15, 16, 20, 21, 22, 23, 24, 25]), tensor([ 2,  5,  4,  6,  0,  7,  3,  1, 11,  9, 12, 19,  8, 14, 10, 17, 13, 18,\n",
      "        15, 16, 20, 21, 22, 23, 24, 25]), tensor([ 2,  5,  4,  6,  1,  0,  7,  3, 11,  9, 10, 19,  8, 14, 16, 12, 13, 18,\n",
      "        15, 17, 20, 21, 22, 23, 24, 25]), tensor([ 2,  5,  4,  6,  3,  1,  0,  7, 11,  9, 16, 19,  8, 14, 17, 10, 13, 18,\n",
      "        15, 12, 20, 21, 22, 23, 24, 25]), tensor([ 2,  7,  5,  6,  4,  1,  0,  3, 11,  8, 16, 19, 13, 14,  9, 10, 17, 18,\n",
      "        15, 12, 20, 21, 22, 23, 24, 25]), tensor([ 2,  7,  5,  6,  3,  4,  1,  0, 11,  8,  9, 19, 13, 14, 12, 16, 17, 18,\n",
      "        15, 10, 20, 21, 22, 23, 24, 25]), tensor([ 2,  7,  5,  6,  0,  3,  4,  1, 11,  8, 12, 19, 13, 14, 10,  9, 17, 18,\n",
      "        15, 16, 20, 21, 22, 23, 24, 25]), tensor([ 6,  7,  5,  3,  0,  4,  2,  1, 11,  8, 12,  9, 13, 19, 10, 15, 17, 18,\n",
      "        14, 16, 20, 21, 22, 23, 24, 25]), tensor([ 3,  7,  5,  4,  0,  2,  6,  1, 11,  8, 12, 15, 13,  9, 10, 14, 17, 18,\n",
      "        19, 16, 20, 21, 22, 23, 24, 25]), tensor([ 7,  1,  5,  4,  0,  2,  3,  6, 11,  8, 12, 15, 13,  9, 10, 14, 16, 17,\n",
      "        18, 19, 20, 21, 22, 23, 24, 25]), tensor([ 1,  5,  4,  7,  0,  2,  3,  6,  9,  8, 12, 15, 11, 17, 10, 14, 16, 13,\n",
      "        18, 19, 20, 21, 22, 23, 24, 25]), tensor([ 1,  5,  0,  4,  2,  7,  3,  6,  8, 12, 15,  9, 11, 17, 10, 14, 16, 13,\n",
      "        18, 19, 20, 21, 22, 23, 24, 25]), tensor([ 4,  1,  5,  0,  2,  7,  3,  6, 11, 12, 15,  9, 13,  8, 10, 14, 16, 17,\n",
      "        18, 19, 20, 21, 22, 23, 24, 25]), tensor([ 0,  1,  5,  7,  2,  3,  4,  6, 11, 12, 15, 14, 13,  9, 10, 18, 16, 17,\n",
      "         8, 19, 20, 21, 22, 23, 24, 25]), tensor([ 0,  1,  2,  5,  3,  7,  4,  6, 12, 15, 14, 11, 13,  9, 10, 18, 16, 17,\n",
      "         8, 19, 20, 21, 22, 23, 24, 25]), tensor([ 0,  1,  3,  2,  7,  5,  4,  6, 15, 14, 11, 12, 13,  9, 10, 18, 16, 17,\n",
      "         8, 19, 20, 21, 22, 23, 24, 25]), tensor([ 4,  1,  3,  0,  7,  2,  5,  6, 15, 14, 11,  9, 13,  8, 10, 12, 16, 17,\n",
      "        18, 19, 20, 21, 22, 23, 24, 25]), tensor([ 4,  1,  3,  0,  2,  5,  6,  7, 15, 14, 12,  9, 13,  8, 11, 19, 16, 17,\n",
      "        18, 10, 20, 21, 22, 23, 24, 25]), tensor([ 4,  1,  2,  3,  5,  0,  6,  7, 14, 12,  9, 15, 13,  8, 11, 19, 16, 17,\n",
      "        18, 10, 20, 21, 22, 23, 24, 25]), tensor([ 4,  1,  5,  2,  0,  3,  6,  7, 12,  9, 15, 14, 13,  8, 11, 19, 16, 17,\n",
      "        18, 10, 20, 21, 22, 23, 24, 25]), tensor([ 4,  1,  5,  2,  7,  0,  3,  6, 12,  9, 11, 14, 13,  8, 10, 15, 16, 17,\n",
      "        18, 19, 20, 21, 22, 23, 24, 25]), tensor([ 4,  1,  5,  2,  6,  7,  0,  3, 12,  9, 10, 14, 13,  8, 19, 11, 16, 17,\n",
      "        18, 15, 20, 21, 22, 23, 24, 25]), tensor([ 4,  1,  6,  5,  7,  2,  0,  3,  9, 10, 14, 12, 13,  8, 19, 11, 16, 17,\n",
      "        18, 15, 20, 21, 22, 23, 24, 25]), tensor([ 4,  1,  6,  5,  2,  0,  3,  7,  9, 10, 11, 12, 13,  8, 14, 15, 16, 17,\n",
      "        18, 19, 20, 21, 22, 23, 24, 25]), tensor([ 5,  1,  6,  0,  2,  3,  4,  7,  9, 10, 11, 15, 13, 12, 14, 18, 16, 17,\n",
      "         8, 19, 20, 21, 22, 23, 24, 25]), tensor([ 5,  1,  2,  6,  3,  0,  4,  7, 10, 11, 15,  9, 13, 12, 14, 18, 16, 17,\n",
      "         8, 19, 20, 21, 22, 23, 24, 25]), tensor([ 4,  1,  2,  5,  3,  6,  0,  7, 10, 11, 15, 12, 13,  8, 14,  9, 16, 17,\n",
      "        18, 19, 20, 21, 22, 23, 24, 25]), tensor([ 4,  1,  3,  2,  6,  5,  0,  7, 11, 15, 12, 10, 13,  8, 14,  9, 16, 17,\n",
      "        18, 19, 20, 21, 22, 23, 24, 25]), tensor([ 4,  1,  6,  3,  5,  2,  0,  7, 15, 12, 10, 11, 13,  8, 14,  9, 16, 17,\n",
      "        18, 19, 20, 21, 22, 23, 24, 25]), tensor([ 4,  1,  6,  3,  2,  0,  7,  5, 15, 12,  9, 11, 13,  8, 10, 19, 16, 17,\n",
      "        18, 14, 20, 21, 22, 23, 24, 25]), tensor([ 4,  1,  2,  6,  0,  3,  7,  5, 12,  9, 11, 15, 13,  8, 10, 19, 16, 17,\n",
      "        18, 14, 20, 21, 22, 23, 24, 25]), tensor([ 4,  1,  0,  2,  3,  6,  7,  5,  9, 11, 15, 12, 13,  8, 10, 19, 16, 17,\n",
      "        18, 14, 20, 21, 22, 23, 24, 25]), tensor([ 4,  1,  0,  2,  5,  3,  6,  7,  9, 11, 10, 12, 13,  8, 14, 15, 16, 17,\n",
      "        18, 19, 20, 21, 22, 23, 24, 25]), tensor([ 4,  1,  5,  0,  3,  2,  6,  7, 11, 10, 12,  9, 13,  8, 14, 15, 16, 17,\n",
      "        18, 19, 20, 21, 22, 23, 24, 25]), tensor([ 0,  4,  1,  5,  3,  2,  6,  7, 13, 10, 12,  9, 17, 11, 14, 15, 16,  8,\n",
      "        18, 19, 20, 21, 22, 23, 24, 25]), tensor([ 0,  4,  5,  2,  1,  3,  6,  7,  9, 13, 10, 12, 17, 11, 14, 15, 16,  8,\n",
      "        18, 19, 20, 21, 22, 23, 24, 25]), tensor([ 4,  5,  2,  0,  1,  3,  6,  7, 11, 13, 10, 12,  9,  8, 14, 15, 16, 17,\n",
      "        18, 19, 20, 21, 22, 23, 24, 25]), tensor([ 5,  2,  0,  4,  1,  3,  6,  7,  8, 13, 10, 12, 11, 17, 14, 15, 16,  9,\n",
      "        18, 19, 20, 21, 22, 23, 24, 25]), tensor([ 5,  2,  1,  0,  3,  4,  6,  7, 13, 10, 12,  8, 11, 17, 14, 15, 16,  9,\n",
      "        18, 19, 20, 21, 22, 23, 24, 25]), tensor([ 0,  5,  2,  1,  3,  4,  6,  7, 11, 10, 12,  8,  9, 13, 14, 15, 16, 17,\n",
      "        18, 19, 20, 21, 22, 23, 24, 25]), tensor([ 0,  5,  3,  2,  4,  1,  6,  7, 10, 12,  8, 11,  9, 13, 14, 15, 16, 17,\n",
      "        18, 19, 20, 21, 22, 23, 24, 25]), tensor([ 0,  7,  5,  2,  3,  1,  6,  4, 10,  9,  8, 11, 16, 13, 12, 15, 14, 17,\n",
      "        18, 19, 20, 21, 22, 23, 24, 25]), tensor([ 0,  7,  3,  5,  1,  2,  6,  4,  9,  8, 11, 10, 16, 13, 12, 15, 14, 17,\n",
      "        18, 19, 20, 21, 22, 23, 24, 25]), tensor([ 0,  3,  1,  5,  4,  2,  6,  7,  9, 12, 11, 10,  8, 13, 14, 15, 16, 17,\n",
      "        18, 19, 20, 21, 22, 23, 24, 25]), tensor([ 0,  3,  4,  1,  2,  5,  6,  7, 12, 11, 10,  9,  8, 13, 14, 15, 16, 17,\n",
      "        18, 19, 20, 21, 22, 23, 24, 25]), tensor([ 0,  7,  3,  1,  4,  5,  6,  2, 12,  8, 10,  9, 16, 13, 11, 15, 14, 17,\n",
      "        18, 19, 20, 21, 22, 23, 24, 25]), tensor([ 0,  7,  1,  5,  3,  4,  6,  2,  9, 12,  8, 10, 16, 13, 11, 15, 14, 17,\n",
      "        18, 19, 20, 21, 22, 23, 24, 25]), tensor([ 0,  1,  3,  5,  2,  4,  6,  7,  9, 11,  8, 10, 12, 13, 14, 15, 16, 17,\n",
      "        18, 19, 20, 21, 22, 23, 24, 25]), tensor([ 0,  1,  2,  3,  4,  5,  6,  7, 11,  8, 10,  9, 12, 13, 14, 15, 16, 17,\n",
      "        18, 19, 20, 21, 22, 23, 24, 25]), tensor([ 0,  1,  4,  2,  5,  3,  6,  7,  8, 10,  9, 11, 12, 13, 14, 15, 16, 17,\n",
      "        18, 19, 20, 21, 22, 23, 24, 25]), tensor([ 0,  7,  1,  2,  4,  3,  6,  5,  8, 12,  9, 11, 16, 13, 10, 15, 14, 17,\n",
      "        18, 19, 20, 21, 22, 23, 24, 25]), tensor([ 0,  7,  4,  1,  3,  2,  6,  5, 12,  9, 11,  8, 16, 13, 10, 15, 14, 17,\n",
      "        18, 19, 20, 21, 22, 23, 24, 25]), tensor([ 0,  7,  3,  4,  2,  1,  6,  5,  9, 11,  8, 12, 16, 13, 10, 15, 14, 17,\n",
      "        18, 19, 20, 21, 22, 23, 24, 25]), tensor([ 0,  5,  7,  4,  3,  1,  6,  2,  9, 16,  8, 12, 14, 13, 11, 15, 10, 17,\n",
      "        18, 19, 20, 21, 22, 23, 24, 25]), tensor([ 0,  2,  5,  4,  7,  1,  6,  3,  9, 14,  8, 12, 10, 13, 16, 15, 11, 17,\n",
      "        18, 19, 20, 21, 22, 23, 24, 25]), tensor([ 0,  2,  4,  1,  5,  7,  6,  3, 12,  9, 14,  8, 10, 13, 16, 15, 11, 17,\n",
      "        18, 19, 20, 21, 22, 23, 24, 25]), tensor([ 0,  3,  2,  1,  4,  7,  6,  5, 12, 10, 14,  8, 11, 13,  9, 15, 16, 17,\n",
      "        18, 19, 20, 21, 22, 23, 24, 25]), tensor([ 0,  3,  1,  7,  2,  4,  6,  5,  8, 12, 10, 14, 11, 13,  9, 15, 16, 17,\n",
      "        18, 19, 20, 21, 22, 23, 24, 25]), tensor([ 0,  1,  2,  7,  5,  4,  6,  3,  8,  9, 10, 14, 12, 13, 16, 15, 11, 17,\n",
      "        18, 19, 20, 21, 22, 23, 24, 25]), tensor([ 0,  1,  5,  2,  4,  7,  6,  3,  9, 10, 14,  8, 12, 13, 16, 15, 11, 17,\n",
      "        18, 19, 20, 21, 22, 23, 24, 25]), tensor([ 0,  1,  4,  5,  7,  2,  6,  3, 10, 14,  8,  9, 12, 13, 16, 15, 11, 17,\n",
      "        18, 19, 20, 21, 22, 23, 24, 25]), tensor([ 1,  4,  5,  0,  7,  2,  6,  3, 13, 14,  8,  9, 10, 17, 16, 15, 11, 12,\n",
      "        18, 19, 20, 21, 22, 23, 24, 25]), tensor([ 1,  3,  4,  0,  5,  2,  6,  7, 13, 10,  8,  9, 11, 17, 14, 15, 16, 12,\n",
      "        18, 19, 20, 21, 22, 23, 24, 25]), tensor([ 0,  1,  3,  4,  5,  2,  6,  7, 11, 10,  8,  9, 12, 13, 14, 15, 16, 17,\n",
      "        18, 19, 20, 21, 22, 23, 24, 25]), tensor([ 0,  1,  5,  3,  2,  4,  6,  7, 10,  8,  9, 11, 12, 13, 14, 15, 16, 17,\n",
      "        18, 19, 20, 21, 22, 23, 24, 25]), tensor([ 0,  1,  2,  5,  4,  3,  6,  7,  8,  9, 11, 10, 12, 13, 14, 15, 16, 17,\n",
      "        18, 19, 20, 21, 22, 23, 24, 25]), tensor([ 5,  1,  2,  3,  4,  6,  0,  7,  8,  9, 11, 15, 12, 10, 14, 18, 16, 17,\n",
      "        13, 19, 20, 21, 22, 23, 24, 25]), tensor([ 5,  1,  4,  2,  6,  3,  0,  7,  9, 11, 15,  8, 12, 10, 14, 18, 16, 17,\n",
      "        13, 19, 20, 21, 22, 23, 24, 25]), tensor([ 0,  1,  4,  5,  6,  2,  3,  7,  9, 11, 15, 10, 12, 13, 14,  8, 16, 17,\n",
      "        18, 19, 20, 21, 22, 23, 24, 25]), tensor([ 0,  1,  4,  5,  2,  3,  7,  6,  9, 11,  8, 10, 12, 13, 15, 19, 16, 17,\n",
      "        18, 14, 20, 21, 22, 23, 24, 25]), tensor([ 5,  1,  4,  3,  2,  7,  0,  6,  9, 11,  8, 19, 12, 10, 15, 18, 16, 17,\n",
      "        13, 14, 20, 21, 22, 23, 24, 25]), tensor([ 5,  1,  2,  4,  7,  3,  0,  6, 11,  8, 19,  9, 12, 10, 15, 18, 16, 17,\n",
      "        13, 14, 20, 21, 22, 23, 24, 25]), tensor([ 0,  1,  2,  5,  7,  4,  3,  6, 11,  8, 19, 10, 12, 13, 15,  9, 16, 17,\n",
      "        18, 14, 20, 21, 22, 23, 24, 25]), tensor([ 0,  1,  5,  4,  2,  7,  3,  6, 10, 11,  8, 19, 12, 13, 15,  9, 16, 17,\n",
      "        18, 14, 20, 21, 22, 23, 24, 25]), tensor([ 3,  1,  5,  0,  2,  4,  7,  6, 10, 11,  8, 13, 12, 18, 15, 19, 16, 17,\n",
      "         9, 14, 20, 21, 22, 23, 24, 25]), tensor([ 3,  1,  5,  0,  6,  2,  4,  7, 10, 11, 15, 13, 12, 18, 14,  8, 16, 17,\n",
      "         9, 19, 20, 21, 22, 23, 24, 25]), tensor([ 0,  1,  5,  2,  6,  4,  3,  7, 10, 11, 15,  8, 12, 13, 14,  9, 16, 17,\n",
      "        18, 19, 20, 21, 22, 23, 24, 25]), tensor([ 2,  1,  5,  4,  6,  3,  0,  7, 10, 11, 15,  9, 12,  8, 14, 18, 16, 17,\n",
      "        13, 19, 20, 21, 22, 23, 24, 25]), tensor([ 2,  1,  4,  3,  5,  6,  0,  7,  9, 10, 11, 15, 12,  8, 14, 18, 16, 17,\n",
      "        13, 19, 20, 21, 22, 23, 24, 25]), tensor([ 0,  1,  4,  2,  5,  3,  6,  7,  9, 10, 11,  8, 12, 13, 14, 15, 16, 17,\n",
      "        18, 19, 20, 21, 22, 23, 24, 25]), tensor([ 0,  1,  2,  3,  4,  5,  6,  7,  8,  9, 10, 11, 12, 13, 14, 15, 16, 17,\n",
      "        18, 19, 20, 21, 22, 23, 24, 25])], [0, 8, 8, 6, 1, 6, 6, 4, 6, 6, 8, 8, 11, 2, 0, 3, 8, 0, 0, 9, 7, 0, 0, 6, 6, 0, 7, 8, 0, 9, 0, 0, 7, 0, 0, 6, 0, 3, 1, 2, 2, 0, 3, 0, 4, 0, 5, 0, 4, 1, 5, 0, 0, 4, 0, 0, 4, 4, 1, 4, 1, 5, 0, 0, 2, 4, 3, 0, 0, 8, 0, 9, 7, 8, 0, 9, 1, 9, 6, 8, 8, 1, 9, 1, 12])\n",
      "[ 3  5  1  2  0  6  4  7 15  9 12 17  8 16 19 14 13 18 11 10 20 21 22 23\n",
      " 24 25]\n",
      "\n",
      "[ 3  5  0  1  6  2  4  7  9 12 17 15  8 16 19 14 13 18 11 10 20 21 22 23\n",
      " 24 25]\n",
      "\n",
      "[ 1  5  0  2  6  4  3  7  9 12 17 14  8 15 19 11 13 18 16 10 20 21 22 23\n",
      " 24 25]\n",
      "\n",
      "[ 2  5  0  4  6  3  1  7  9 12 17 11  8 14 19 16 13 18 15 10 20 21 22 23\n",
      " 24 25]\n",
      "\n",
      "[ 2  5  0  4  7  6  3  1  9 12 19 11  8 14 10 17 13 18 15 16 20 21 22 23\n",
      " 24 25]\n",
      "\n",
      "[ 2  5  4  6  0  7  3  1 11  9 12 19  8 14 10 17 13 18 15 16 20 21 22 23\n",
      " 24 25]\n",
      "\n",
      "[ 2  5  4  6  1  0  7  3 11  9 10 19  8 14 16 12 13 18 15 17 20 21 22 23\n",
      " 24 25]\n",
      "\n",
      "[ 2  5  4  6  3  1  0  7 11  9 16 19  8 14 17 10 13 18 15 12 20 21 22 23\n",
      " 24 25]\n",
      "\n",
      "[ 2  7  5  6  4  1  0  3 11  8 16 19 13 14  9 10 17 18 15 12 20 21 22 23\n",
      " 24 25]\n",
      "\n",
      "[ 2  7  5  6  3  4  1  0 11  8  9 19 13 14 12 16 17 18 15 10 20 21 22 23\n",
      " 24 25]\n",
      "\n",
      "[ 2  7  5  6  0  3  4  1 11  8 12 19 13 14 10  9 17 18 15 16 20 21 22 23\n",
      " 24 25]\n",
      "\n",
      "[ 6  7  5  3  0  4  2  1 11  8 12  9 13 19 10 15 17 18 14 16 20 21 22 23\n",
      " 24 25]\n",
      "\n",
      "[ 3  7  5  4  0  2  6  1 11  8 12 15 13  9 10 14 17 18 19 16 20 21 22 23\n",
      " 24 25]\n",
      "\n",
      "[ 7  1  5  4  0  2  3  6 11  8 12 15 13  9 10 14 16 17 18 19 20 21 22 23\n",
      " 24 25]\n",
      "\n",
      "[ 1  5  4  7  0  2  3  6  9  8 12 15 11 17 10 14 16 13 18 19 20 21 22 23\n",
      " 24 25]\n",
      "\n",
      "[ 1  5  0  4  2  7  3  6  8 12 15  9 11 17 10 14 16 13 18 19 20 21 22 23\n",
      " 24 25]\n",
      "\n",
      "[ 4  1  5  0  2  7  3  6 11 12 15  9 13  8 10 14 16 17 18 19 20 21 22 23\n",
      " 24 25]\n",
      "\n",
      "[ 0  1  5  7  2  3  4  6 11 12 15 14 13  9 10 18 16 17  8 19 20 21 22 23\n",
      " 24 25]\n",
      "\n",
      "[ 0  1  2  5  3  7  4  6 12 15 14 11 13  9 10 18 16 17  8 19 20 21 22 23\n",
      " 24 25]\n",
      "\n",
      "[ 0  1  3  2  7  5  4  6 15 14 11 12 13  9 10 18 16 17  8 19 20 21 22 23\n",
      " 24 25]\n",
      "\n",
      "[ 4  1  3  0  7  2  5  6 15 14 11  9 13  8 10 12 16 17 18 19 20 21 22 23\n",
      " 24 25]\n",
      "\n",
      "[ 4  1  3  0  2  5  6  7 15 14 12  9 13  8 11 19 16 17 18 10 20 21 22 23\n",
      " 24 25]\n",
      "\n",
      "[ 4  1  2  3  5  0  6  7 14 12  9 15 13  8 11 19 16 17 18 10 20 21 22 23\n",
      " 24 25]\n",
      "\n",
      "[ 4  1  5  2  0  3  6  7 12  9 15 14 13  8 11 19 16 17 18 10 20 21 22 23\n",
      " 24 25]\n",
      "\n",
      "[ 4  1  5  2  7  0  3  6 12  9 11 14 13  8 10 15 16 17 18 19 20 21 22 23\n",
      " 24 25]\n",
      "\n",
      "[ 4  1  5  2  6  7  0  3 12  9 10 14 13  8 19 11 16 17 18 15 20 21 22 23\n",
      " 24 25]\n",
      "\n",
      "[ 4  1  6  5  7  2  0  3  9 10 14 12 13  8 19 11 16 17 18 15 20 21 22 23\n",
      " 24 25]\n",
      "\n",
      "[ 4  1  6  5  2  0  3  7  9 10 11 12 13  8 14 15 16 17 18 19 20 21 22 23\n",
      " 24 25]\n",
      "\n",
      "[ 5  1  6  0  2  3  4  7  9 10 11 15 13 12 14 18 16 17  8 19 20 21 22 23\n",
      " 24 25]\n",
      "\n",
      "[ 5  1  2  6  3  0  4  7 10 11 15  9 13 12 14 18 16 17  8 19 20 21 22 23\n",
      " 24 25]\n",
      "\n",
      "[ 4  1  2  5  3  6  0  7 10 11 15 12 13  8 14  9 16 17 18 19 20 21 22 23\n",
      " 24 25]\n",
      "\n",
      "[ 4  1  3  2  6  5  0  7 11 15 12 10 13  8 14  9 16 17 18 19 20 21 22 23\n",
      " 24 25]\n",
      "\n",
      "[ 4  1  6  3  5  2  0  7 15 12 10 11 13  8 14  9 16 17 18 19 20 21 22 23\n",
      " 24 25]\n",
      "\n",
      "[ 4  1  6  3  2  0  7  5 15 12  9 11 13  8 10 19 16 17 18 14 20 21 22 23\n",
      " 24 25]\n",
      "\n",
      "[ 4  1  2  6  0  3  7  5 12  9 11 15 13  8 10 19 16 17 18 14 20 21 22 23\n",
      " 24 25]\n",
      "\n",
      "[ 4  1  0  2  3  6  7  5  9 11 15 12 13  8 10 19 16 17 18 14 20 21 22 23\n",
      " 24 25]\n",
      "\n",
      "[ 4  1  0  2  5  3  6  7  9 11 10 12 13  8 14 15 16 17 18 19 20 21 22 23\n",
      " 24 25]\n",
      "\n",
      "[ 4  1  5  0  3  2  6  7 11 10 12  9 13  8 14 15 16 17 18 19 20 21 22 23\n",
      " 24 25]\n",
      "\n",
      "[ 0  4  1  5  3  2  6  7 13 10 12  9 17 11 14 15 16  8 18 19 20 21 22 23\n",
      " 24 25]\n",
      "\n",
      "[ 0  4  5  2  1  3  6  7  9 13 10 12 17 11 14 15 16  8 18 19 20 21 22 23\n",
      " 24 25]\n",
      "\n",
      "[ 4  5  2  0  1  3  6  7 11 13 10 12  9  8 14 15 16 17 18 19 20 21 22 23\n",
      " 24 25]\n",
      "\n",
      "[ 5  2  0  4  1  3  6  7  8 13 10 12 11 17 14 15 16  9 18 19 20 21 22 23\n",
      " 24 25]\n",
      "\n",
      "[ 5  2  1  0  3  4  6  7 13 10 12  8 11 17 14 15 16  9 18 19 20 21 22 23\n",
      " 24 25]\n",
      "\n",
      "[ 0  5  2  1  3  4  6  7 11 10 12  8  9 13 14 15 16 17 18 19 20 21 22 23\n",
      " 24 25]\n",
      "\n",
      "[ 0  5  3  2  4  1  6  7 10 12  8 11  9 13 14 15 16 17 18 19 20 21 22 23\n",
      " 24 25]\n",
      "\n",
      "[ 0  7  5  2  3  1  6  4 10  9  8 11 16 13 12 15 14 17 18 19 20 21 22 23\n",
      " 24 25]\n",
      "\n",
      "[ 0  7  3  5  1  2  6  4  9  8 11 10 16 13 12 15 14 17 18 19 20 21 22 23\n",
      " 24 25]\n",
      "\n",
      "[ 0  3  1  5  4  2  6  7  9 12 11 10  8 13 14 15 16 17 18 19 20 21 22 23\n",
      " 24 25]\n",
      "\n",
      "[ 0  3  4  1  2  5  6  7 12 11 10  9  8 13 14 15 16 17 18 19 20 21 22 23\n",
      " 24 25]\n",
      "\n",
      "[ 0  7  3  1  4  5  6  2 12  8 10  9 16 13 11 15 14 17 18 19 20 21 22 23\n",
      " 24 25]\n",
      "\n",
      "[ 0  7  1  5  3  4  6  2  9 12  8 10 16 13 11 15 14 17 18 19 20 21 22 23\n",
      " 24 25]\n",
      "\n",
      "[ 0  1  3  5  2  4  6  7  9 11  8 10 12 13 14 15 16 17 18 19 20 21 22 23\n",
      " 24 25]\n",
      "\n",
      "[ 0  1  2  3  4  5  6  7 11  8 10  9 12 13 14 15 16 17 18 19 20 21 22 23\n",
      " 24 25]\n",
      "\n",
      "[ 0  1  4  2  5  3  6  7  8 10  9 11 12 13 14 15 16 17 18 19 20 21 22 23\n",
      " 24 25]\n",
      "\n",
      "[ 0  7  1  2  4  3  6  5  8 12  9 11 16 13 10 15 14 17 18 19 20 21 22 23\n",
      " 24 25]\n",
      "\n",
      "[ 0  7  4  1  3  2  6  5 12  9 11  8 16 13 10 15 14 17 18 19 20 21 22 23\n",
      " 24 25]\n",
      "\n",
      "[ 0  7  3  4  2  1  6  5  9 11  8 12 16 13 10 15 14 17 18 19 20 21 22 23\n",
      " 24 25]\n",
      "\n",
      "[ 0  5  7  4  3  1  6  2  9 16  8 12 14 13 11 15 10 17 18 19 20 21 22 23\n",
      " 24 25]\n",
      "\n",
      "[ 0  2  5  4  7  1  6  3  9 14  8 12 10 13 16 15 11 17 18 19 20 21 22 23\n",
      " 24 25]\n",
      "\n",
      "[ 0  2  4  1  5  7  6  3 12  9 14  8 10 13 16 15 11 17 18 19 20 21 22 23\n",
      " 24 25]\n",
      "\n",
      "[ 0  3  2  1  4  7  6  5 12 10 14  8 11 13  9 15 16 17 18 19 20 21 22 23\n",
      " 24 25]\n",
      "\n",
      "[ 0  3  1  7  2  4  6  5  8 12 10 14 11 13  9 15 16 17 18 19 20 21 22 23\n",
      " 24 25]\n",
      "\n",
      "[ 0  1  2  7  5  4  6  3  8  9 10 14 12 13 16 15 11 17 18 19 20 21 22 23\n",
      " 24 25]\n",
      "\n",
      "[ 0  1  5  2  4  7  6  3  9 10 14  8 12 13 16 15 11 17 18 19 20 21 22 23\n",
      " 24 25]\n",
      "\n",
      "[ 0  1  4  5  7  2  6  3 10 14  8  9 12 13 16 15 11 17 18 19 20 21 22 23\n",
      " 24 25]\n",
      "\n",
      "[ 1  4  5  0  7  2  6  3 13 14  8  9 10 17 16 15 11 12 18 19 20 21 22 23\n",
      " 24 25]\n",
      "\n",
      "[ 1  3  4  0  5  2  6  7 13 10  8  9 11 17 14 15 16 12 18 19 20 21 22 23\n",
      " 24 25]\n",
      "\n",
      "[ 0  1  3  4  5  2  6  7 11 10  8  9 12 13 14 15 16 17 18 19 20 21 22 23\n",
      " 24 25]\n",
      "\n",
      "[ 0  1  5  3  2  4  6  7 10  8  9 11 12 13 14 15 16 17 18 19 20 21 22 23\n",
      " 24 25]\n",
      "\n",
      "[ 0  1  2  5  4  3  6  7  8  9 11 10 12 13 14 15 16 17 18 19 20 21 22 23\n",
      " 24 25]\n",
      "\n",
      "[ 5  1  2  3  4  6  0  7  8  9 11 15 12 10 14 18 16 17 13 19 20 21 22 23\n",
      " 24 25]\n",
      "\n",
      "[ 5  1  4  2  6  3  0  7  9 11 15  8 12 10 14 18 16 17 13 19 20 21 22 23\n",
      " 24 25]\n",
      "\n",
      "[ 0  1  4  5  6  2  3  7  9 11 15 10 12 13 14  8 16 17 18 19 20 21 22 23\n",
      " 24 25]\n",
      "\n",
      "[ 0  1  4  5  2  3  7  6  9 11  8 10 12 13 15 19 16 17 18 14 20 21 22 23\n",
      " 24 25]\n",
      "\n",
      "[ 5  1  4  3  2  7  0  6  9 11  8 19 12 10 15 18 16 17 13 14 20 21 22 23\n",
      " 24 25]\n",
      "\n",
      "[ 5  1  2  4  7  3  0  6 11  8 19  9 12 10 15 18 16 17 13 14 20 21 22 23\n",
      " 24 25]\n",
      "\n",
      "[ 0  1  2  5  7  4  3  6 11  8 19 10 12 13 15  9 16 17 18 14 20 21 22 23\n",
      " 24 25]\n",
      "\n",
      "[ 0  1  5  4  2  7  3  6 10 11  8 19 12 13 15  9 16 17 18 14 20 21 22 23\n",
      " 24 25]\n",
      "\n",
      "[ 3  1  5  0  2  4  7  6 10 11  8 13 12 18 15 19 16 17  9 14 20 21 22 23\n",
      " 24 25]\n",
      "\n",
      "[ 3  1  5  0  6  2  4  7 10 11 15 13 12 18 14  8 16 17  9 19 20 21 22 23\n",
      " 24 25]\n",
      "\n",
      "[ 0  1  5  2  6  4  3  7 10 11 15  8 12 13 14  9 16 17 18 19 20 21 22 23\n",
      " 24 25]\n",
      "\n",
      "[ 2  1  5  4  6  3  0  7 10 11 15  9 12  8 14 18 16 17 13 19 20 21 22 23\n",
      " 24 25]\n",
      "\n",
      "[ 2  1  4  3  5  6  0  7  9 10 11 15 12  8 14 18 16 17 13 19 20 21 22 23\n",
      " 24 25]\n",
      "\n",
      "[ 0  1  4  2  5  3  6  7  9 10 11  8 12 13 14 15 16 17 18 19 20 21 22 23\n",
      " 24 25]\n",
      "\n",
      "[ 0  1  2  3  4  5  6  7  8  9 10 11 12 13 14 15 16 17 18 19 20 21 22 23\n",
      " 24 25]\n",
      "\n",
      "[0, 8, 8, 6, 1, 6, 6, 4, 6, 6, 8, 8, 11, 2, 0, 3, 8, 0, 0, 9, 7, 0, 0, 6, 6, 0, 7, 8, 0, 9, 0, 0, 7, 0, 0, 6, 0, 3, 1, 2, 2, 0, 3, 0, 4, 0, 5, 0, 4, 1, 5, 0, 0, 4, 0, 0, 4, 4, 1, 4, 1, 5, 0, 0, 2, 4, 3, 0, 0, 8, 0, 9, 7, 8, 0, 9, 1, 9, 6, 8, 8, 1, 9, 1, 12]\n"
     ]
    }
   ],
   "source": [
    "for sequence in yield_sequences('data/train_0.dat', num_sequences=1):\n",
    "    for state in sequence[0]:\n",
    "        print(state.numpy())\n",
    "        print()\n",
    "    print(sequence[1])"
   ]
  },
  {
   "cell_type": "code",
   "execution_count": 63,
   "metadata": {},
   "outputs": [],
   "source": [
    "from torch.utils.tensorboard import SummaryWriter\n",
    "from torch.utils.data import Dataset, DataLoader\n",
    "from pycuber.solver import CFOPSolver\n",
    "from datetime import datetime\n",
    "import torch.optim as optim\n",
    "import torch.nn as nn\n",
    "import pycuber as pc\n",
    "from pycuber import *\n",
    "import pandas as pd\n",
    "import numpy as np\n",
    "import random\n",
    "import torch\n",
    "import math\n",
    "import os\n",
    "\n",
    "\n",
    "def encode_cube(cube):\n",
    "    piece_to_index_mapping = {}\n",
    "    location_to_array_position_mapping = {}\n",
    "    mapping_cube = pc.Cube()\n",
    "    index = 0\n",
    "    for c in mapping_cube:\n",
    "        piece_to_index_mapping[tuple([str(square[1]) for square in c[1]])] = index\n",
    "        location_to_array_position_mapping[c[0]] = index\n",
    "        index += 1\n",
    "    cube_array = [None for _ in range(26)]\n",
    "    for i, cubie_tuple in enumerate(cube):\n",
    "        location, cubie = cubie_tuple\n",
    "        squares = []\n",
    "        for square in cubie:\n",
    "            squares.append(str(square[1]))\n",
    "        squares = tuple(squares)\n",
    "        cube_array[location_to_array_position_mapping[location]] = piece_to_index_mapping[squares]\n",
    "    return torch.Tensor([c for c in cube_array]).to(torch.int64)\n",
    "\n",
    "\n",
    "def encode_move(move):\n",
    "    move_mapping = {\n",
    "        'U': 0, 'U\\'': 1,\n",
    "        'L': 2, 'L\\'': 3,\n",
    "        'F': 4, 'F\\'': 5,\n",
    "        'R': 6, 'R\\'': 7,\n",
    "        'B': 8, 'B\\'': 9,\n",
    "        'D': 10, 'D\\'': 11,\n",
    "        '$': 12\n",
    "    }\n",
    "    return move_mapping[move]\n",
    "\n",
    "\n",
    "def random_line(filename, prev_lines):\n",
    "    with open(filename, 'r') as file:\n",
    "        rand_line = next(file)\n",
    "        rand_num = 0\n",
    "        for num, line in enumerate(file, 2):\n",
    "            if random.randrange(num) or num in prev_lines:\n",
    "                continue\n",
    "            rand_line = line\n",
    "            rand_num = num\n",
    "        return rand_num, rand_line\n",
    "\n",
    "def yield_sequences(filename, num_sequences=1000):\n",
    "    i = 0\n",
    "    prev_lines = []\n",
    "    while i < num_sequences:\n",
    "        line_num, line = random_line(filename, prev_lines)\n",
    "        prev_lines.append(line_num)\n",
    "        cubies_string, solution_string = line.split('|')\n",
    "        mapping = {'U2': 'U U', 'L2': 'L L', 'R2': 'R R', 'F2': 'F F', 'D2': 'D D', 'B2': 'B B'}\n",
    "        for k, v in mapping.items():\n",
    "            solution_string = solution_string.replace(k, v)\n",
    "        cubies_set = set([eval(cubie_string) for cubie_string in cubies_string.split(';')])\n",
    "        cube = pc.Cube(cubies_set)\n",
    "        moves = solution_string.split()\n",
    "        cube_states = []\n",
    "        move_states = []\n",
    "        for move in moves:\n",
    "            cube_states.append(encode_cube(cube))\n",
    "            move_states.append(encode_move(move))\n",
    "            cube.perform_step(move)\n",
    "        cube_states.append(encode_cube(cube))\n",
    "        move_states.append(encode_move('$'))\n",
    "        if i % 100 == 0:\n",
    "            print(f'Sequnce {i} of {num_sequences}')\n",
    "        i += 1\n",
    "        sequence = cube_states, move_states\n",
    "        yield sequence\n",
    "\n",
    "\n",
    "def train_one_epoch(epoch_index, tb_writer, model, device, num_sequences):\n",
    "    running_loss = 0.\n",
    "    last_loss = 0.\n",
    "    for i, sequence in enumerate(yield_sequences('../data/train_0.dat', num_sequences=num_sequences)):\n",
    "        cube_states, move_states = sequence\n",
    "        input_tensor = torch.stack(cube_states).to(device)\n",
    "        output_tensor = torch.Tensor(move_states).to(torch.int64).to(device)\n",
    "        optimizer.zero_grad()\n",
    "        outputs = model(input_tensor)\n",
    "        loss = loss_fn(outputs, output_tensor)\n",
    "        loss.backward()\n",
    "        optimizer.step()\n",
    "        running_loss += loss.item()\n",
    "        running_loss += loss.item()\n",
    "        if i % 10 == 0:\n",
    "            last_loss = running_loss / num_sequences \n",
    "            print(f'    batch {i} loss: {last_loss}')\n",
    "            tb_x = epoch_index * num_sequences + i + 1\n",
    "            tb_writer.add_scalar('Loss/train', last_loss, tb_x)\n",
    "            # running_loss = 0.\n",
    "    return last_loss"
   ]
  },
  {
   "cell_type": "code",
   "execution_count": 64,
   "metadata": {},
   "outputs": [],
   "source": [
    "import torch\n",
    "\n",
    "sentence = torch.arange(0, 8)"
   ]
  },
  {
   "cell_type": "code",
   "execution_count": 65,
   "metadata": {},
   "outputs": [],
   "source": [
    "idx = torch.randperm(sentence.nelement())\n",
    "sentence = sentence.view(-1)[idx].view(sentence.size())\n",
    "# sentence.view(-1)[idx].view(sentence.size())"
   ]
  },
  {
   "cell_type": "code",
   "execution_count": null,
   "metadata": {},
   "outputs": [],
   "source": []
  },
  {
   "cell_type": "code",
   "execution_count": 66,
   "metadata": {},
   "outputs": [
    {
     "data": {
      "text/plain": [
       "tensor([2, 7, 3, 4, 6, 0, 1, 5])"
      ]
     },
     "execution_count": 66,
     "metadata": {},
     "output_type": "execute_result"
    }
   ],
   "source": [
    "sentence"
   ]
  },
  {
   "cell_type": "code",
   "execution_count": 67,
   "metadata": {},
   "outputs": [
    {
     "data": {
      "text/plain": [
       "torch.Size([8, 16])"
      ]
     },
     "execution_count": 67,
     "metadata": {},
     "output_type": "execute_result"
    }
   ],
   "source": [
    "embed = torch.nn.Embedding(10, 16)\n",
    "embedded_sentence = embed(sentence).detach()\n",
    "embedded_sentence.shape"
   ]
  },
  {
   "cell_type": "code",
   "execution_count": 68,
   "metadata": {},
   "outputs": [
    {
     "data": {
      "text/plain": [
       "tensor([[30.5859, -1.6835, -5.0010, -4.5412, 10.3589,  0.5859,  2.8233, -2.3926],\n",
       "        [-1.6835, 10.3304,  0.9520,  0.0650, -2.0344,  1.8744, -1.0258, -2.1827],\n",
       "        [-5.0010,  0.9520,  9.8521,  0.7721, -3.6917, -0.8281, -0.0680, -0.8761],\n",
       "        [-4.5412,  0.0650,  0.7721,  8.1944, -2.6785, -0.7268,  2.1990,  2.0559],\n",
       "        [10.3589, -2.0344, -3.6917, -2.6785, 13.2716, -2.7364,  0.1823,  0.4077],\n",
       "        [ 0.5859,  1.8744, -0.8281, -0.7268, -2.7364, 10.7646,  2.2258,  0.7146],\n",
       "        [ 2.8233, -1.0258, -0.0680,  2.1990,  0.1823,  2.2258, 11.2329,  6.7669],\n",
       "        [-2.3926, -2.1827, -0.8761,  2.0559,  0.4077,  0.7146,  6.7669, 17.1591]])"
      ]
     },
     "execution_count": 68,
     "metadata": {},
     "output_type": "execute_result"
    }
   ],
   "source": [
    "omega = embedded_sentence.matmul(embedded_sentence.T)\n",
    "omega"
   ]
  },
  {
   "cell_type": "code",
   "execution_count": 69,
   "metadata": {},
   "outputs": [
    {
     "data": {
      "text/plain": [
       "tensor([[1.0000e+00, 9.6735e-15, 3.5060e-16, 5.5526e-16, 1.6425e-09, 9.3580e-14,\n",
       "         8.7674e-13, 4.7603e-15],\n",
       "        [6.0575e-06, 9.9964e-01, 8.4502e-05, 3.4805e-05, 4.2648e-06, 2.1255e-04,\n",
       "         1.1693e-05, 3.6769e-06],\n",
       "        [3.5420e-07, 1.3633e-04, 9.9965e-01, 1.1389e-04, 1.3118e-06, 2.2987e-05,\n",
       "         4.9161e-05, 2.1910e-05],\n",
       "        [2.9277e-06, 2.9307e-04, 5.9440e-04, 9.9434e-01, 1.8858e-05, 1.3277e-04,\n",
       "         2.4761e-03, 2.1458e-03],\n",
       "        [5.1530e-02, 2.1366e-07, 4.0736e-08, 1.1221e-07, 9.4846e-01, 1.0589e-07,\n",
       "         1.9607e-06, 2.4566e-06],\n",
       "        [3.7955e-05, 1.3767e-04, 9.2288e-06, 1.0213e-05, 1.3690e-06, 9.9956e-01,\n",
       "         1.9564e-04, 4.3168e-05],\n",
       "        [2.2009e-04, 4.6878e-06, 1.2216e-05, 1.1789e-04, 1.5689e-05, 1.2109e-04,\n",
       "         9.8815e-01, 1.1358e-02],\n",
       "        [3.2269e-09, 3.9804e-09, 1.4701e-08, 2.7587e-07, 5.3081e-08, 7.2148e-08,\n",
       "         3.0670e-05, 9.9997e-01]])"
      ]
     },
     "execution_count": 69,
     "metadata": {},
     "output_type": "execute_result"
    }
   ],
   "source": [
    "import torch.nn.functional as F\n",
    "\n",
    "attention_weights = F.softmax(omega, dim=1)\n",
    "attention_weights"
   ]
  },
  {
   "cell_type": "code",
   "execution_count": 70,
   "metadata": {},
   "outputs": [
    {
     "data": {
      "text/plain": [
       "tensor([1.0000, 1.0000, 1.0000, 1.0000, 1.0000, 1.0000, 1.0000, 1.0000])"
      ]
     },
     "execution_count": 70,
     "metadata": {},
     "output_type": "execute_result"
    }
   ],
   "source": [
    "attention_weights.sum(dim=1)"
   ]
  },
  {
   "cell_type": "code",
   "execution_count": 71,
   "metadata": {},
   "outputs": [
    {
     "data": {
      "text/plain": [
       "tensor([[ 1.8214e-01, -1.8071e+00,  2.3507e+00, -1.0171e+00,  9.3166e-01,\n",
       "         -1.1708e-01,  6.4920e-01,  5.5399e-01, -1.5104e+00,  2.8744e+00,\n",
       "          1.8704e+00,  1.2297e+00, -2.8569e-01,  1.4936e+00,  9.4406e-01,\n",
       "         -5.9935e-01],\n",
       "        [-3.9658e-01, -1.4014e+00,  1.1160e-01,  7.8798e-01,  5.8859e-01,\n",
       "         -5.3292e-02, -8.8156e-01, -2.5182e-01,  8.0266e-02, -1.1236e-03,\n",
       "         -1.2436e+00, -1.4629e+00,  1.2504e+00,  2.6471e-01,  9.8724e-01,\n",
       "          2.7972e-01],\n",
       "        [-6.3173e-01,  6.3181e-01,  3.2120e-01,  9.0285e-02,  6.8418e-01,\n",
       "          3.5224e-01,  5.9307e-01, -1.1164e+00,  2.0550e+00, -5.1463e-01,\n",
       "         -6.0559e-01, -2.7657e-01,  1.6238e-02,  1.2465e+00, -4.2071e-01,\n",
       "          2.8885e-01],\n",
       "        [-4.3178e-01, -5.4785e-02, -2.3598e-01,  3.6818e-01, -2.4583e-03,\n",
       "         -1.0478e+00,  4.0684e-01, -1.8021e+00,  4.5521e-01,  4.1029e-03,\n",
       "          5.4243e-02,  8.0920e-02,  8.3607e-02, -1.7221e+00, -4.4488e-02,\n",
       "         -1.9827e-01],\n",
       "        [ 1.2266e+00, -1.0492e+00,  2.4755e-01, -1.7421e+00, -5.0742e-01,\n",
       "         -3.5640e-01, -1.1676e+00, -1.1748e-01, -5.6184e-01,  1.1229e+00,\n",
       "          8.3358e-01,  6.9408e-01,  2.0518e-01,  1.0579e+00, -5.5507e-01,\n",
       "         -1.1606e+00],\n",
       "        [-1.7358e+00, -2.8746e-01,  9.1595e-01,  7.7259e-01, -1.1234e+00,\n",
       "         -2.3698e-01,  4.2849e-02,  8.9759e-01, -1.3017e-01, -5.4478e-01,\n",
       "          1.3421e+00, -1.0226e+00,  9.2180e-01,  8.8952e-02, -8.4130e-02,\n",
       "          2.7270e-01],\n",
       "        [-1.3425e+00, -2.9905e-01, -3.9644e-01, -1.1452e+00, -4.1120e-01,\n",
       "         -5.8800e-01,  6.4309e-01, -1.2692e+00, -7.8429e-01, -9.7953e-01,\n",
       "          1.0900e+00,  4.0101e-01, -1.3521e-01,  4.7433e-01,  1.4145e+00,\n",
       "          2.3902e-01],\n",
       "        [-1.9274e+00,  2.4023e-01, -1.6874e+00, -9.9529e-01,  1.2114e-01,\n",
       "         -1.7605e+00,  9.4625e-01, -1.9654e-01, -1.4391e+00, -7.8448e-01,\n",
       "         -2.9317e-01, -4.0973e-02, -4.0374e-01,  5.3873e-01, -5.8340e-01,\n",
       "         -1.3902e+00]])"
      ]
     },
     "execution_count": 71,
     "metadata": {},
     "output_type": "execute_result"
    }
   ],
   "source": [
    "context_vectors = torch.matmul(attention_weights, embedded_sentence)\n",
    "context_vectors"
   ]
  },
  {
   "cell_type": "code",
   "execution_count": null,
   "metadata": {},
   "outputs": [],
   "source": []
  }
 ],
 "metadata": {
  "kernelspec": {
   "display_name": "rubiks",
   "language": "python",
   "name": "python3"
  },
  "language_info": {
   "codemirror_mode": {
    "name": "ipython",
    "version": 3
   },
   "file_extension": ".py",
   "mimetype": "text/x-python",
   "name": "python",
   "nbconvert_exporter": "python",
   "pygments_lexer": "ipython3",
   "version": "3.11.9"
  }
 },
 "nbformat": 4,
 "nbformat_minor": 2
}
