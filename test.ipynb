{
 "cells": [
  {
   "cell_type": "code",
   "execution_count": 1,
   "metadata": {},
   "outputs": [],
   "source": [
    "import torch\n",
    "import numpy as np"
   ]
  },
  {
   "cell_type": "code",
   "execution_count": 4,
   "metadata": {},
   "outputs": [
    {
     "data": {
      "text/plain": [
       "device(type='cuda')"
      ]
     },
     "execution_count": 4,
     "metadata": {},
     "output_type": "execute_result"
    }
   ],
   "source": [
    "torch.cuda.is_available()\n",
    "device = torch.device('cuda')\n",
    "device"
   ]
  },
  {
   "cell_type": "code",
   "execution_count": 5,
   "metadata": {},
   "outputs": [
    {
     "data": {
      "text/plain": [
       "tensor([[[[0., 0., 0.],\n",
       "          [0., 0., 0.],\n",
       "          [0., 0., 0.]],\n",
       "\n",
       "         [[0., 0., 0.],\n",
       "          [0., 0., 0.],\n",
       "          [0., 0., 0.]],\n",
       "\n",
       "         [[0., 0., 0.],\n",
       "          [0., 0., 0.],\n",
       "          [0., 0., 0.]]],\n",
       "\n",
       "\n",
       "        [[[0., 0., 0.],\n",
       "          [0., 0., 0.],\n",
       "          [0., 0., 0.]],\n",
       "\n",
       "         [[0., 0., 0.],\n",
       "          [0., 0., 0.],\n",
       "          [0., 0., 0.]],\n",
       "\n",
       "         [[0., 0., 0.],\n",
       "          [0., 0., 0.],\n",
       "          [0., 0., 0.]]],\n",
       "\n",
       "\n",
       "        [[[0., 0., 0.],\n",
       "          [0., 0., 0.],\n",
       "          [0., 0., 0.]],\n",
       "\n",
       "         [[0., 0., 0.],\n",
       "          [0., 0., 0.],\n",
       "          [0., 0., 0.]],\n",
       "\n",
       "         [[0., 0., 0.],\n",
       "          [0., 0., 0.],\n",
       "          [0., 0., 0.]]]])"
      ]
     },
     "execution_count": 5,
     "metadata": {},
     "output_type": "execute_result"
    }
   ],
   "source": [
    "torch.zeros(3, 3, 3, 3)"
   ]
  },
  {
   "cell_type": "code",
   "execution_count": 6,
   "metadata": {},
   "outputs": [
    {
     "data": {
      "text/plain": [
       "tensor([[0.7544, 0.7682, 0.6727]])"
      ]
     },
     "execution_count": 6,
     "metadata": {},
     "output_type": "execute_result"
    }
   ],
   "source": [
    "torch.rand(1, 3)"
   ]
  },
  {
   "cell_type": "code",
   "execution_count": 7,
   "metadata": {},
   "outputs": [
    {
     "data": {
      "text/plain": [
       "(tensor([[[0.2662, 0.4256, 0.4592],\n",
       "          [0.3416, 0.3950, 0.2324],\n",
       "          [0.8806, 0.9216, 0.7627],\n",
       "          [0.7451, 0.5215, 0.5231],\n",
       "          [0.8720, 0.8128, 0.1447]],\n",
       " \n",
       "         [[0.6062, 0.7066, 0.9658],\n",
       "          [0.9789, 0.4777, 0.1646],\n",
       "          [0.0304, 0.0348, 0.6393],\n",
       "          [0.5738, 0.9400, 0.3064],\n",
       "          [0.9341, 0.6881, 0.1466]],\n",
       " \n",
       "         [[0.3040, 0.0764, 0.7105],\n",
       "          [0.2172, 0.8099, 0.9170],\n",
       "          [0.8368, 0.4498, 0.0738],\n",
       "          [0.6515, 0.7407, 0.8365],\n",
       "          [0.8439, 0.3692, 0.4515]]]),\n",
       " tensor([[[0.2662, 0.3416, 0.8806, 0.7451, 0.8720],\n",
       "          [0.4256, 0.3950, 0.9216, 0.5215, 0.8128],\n",
       "          [0.4592, 0.2324, 0.7627, 0.5231, 0.1447]],\n",
       " \n",
       "         [[0.6062, 0.9789, 0.0304, 0.5738, 0.9341],\n",
       "          [0.7066, 0.4777, 0.0348, 0.9400, 0.6881],\n",
       "          [0.9658, 0.1646, 0.6393, 0.3064, 0.1466]],\n",
       " \n",
       "         [[0.3040, 0.2172, 0.8368, 0.6515, 0.8439],\n",
       "          [0.0764, 0.8099, 0.4498, 0.7407, 0.3692],\n",
       "          [0.7105, 0.9170, 0.0738, 0.8365, 0.4515]]]))"
      ]
     },
     "execution_count": 7,
     "metadata": {},
     "output_type": "execute_result"
    }
   ],
   "source": [
    "t = torch.rand(3, 5, 3)\n",
    "t, torch.transpose(t, 2, 1)"
   ]
  },
  {
   "cell_type": "code",
   "execution_count": 8,
   "metadata": {},
   "outputs": [
    {
     "data": {
      "text/plain": [
       "(tensor([[[0.2662, 0.4256, 0.4592],\n",
       "          [0.3416, 0.3950, 0.2324],\n",
       "          [0.8806, 0.9216, 0.7627],\n",
       "          [0.7451, 0.5215, 0.5231],\n",
       "          [0.8720, 0.8128, 0.1447]],\n",
       " \n",
       "         [[0.6062, 0.7066, 0.9658],\n",
       "          [0.9789, 0.4777, 0.1646],\n",
       "          [0.0304, 0.0348, 0.6393],\n",
       "          [0.5738, 0.9400, 0.3064],\n",
       "          [0.9341, 0.6881, 0.1466]],\n",
       " \n",
       "         [[0.3040, 0.0764, 0.7105],\n",
       "          [0.2172, 0.8099, 0.9170],\n",
       "          [0.8368, 0.4498, 0.0738],\n",
       "          [0.6515, 0.7407, 0.8365],\n",
       "          [0.8439, 0.3692, 0.4515]]]),\n",
       " tensor([[[0.2662, 0.3416, 0.8806, 0.7451, 0.8720],\n",
       "          [0.4256, 0.3950, 0.9216, 0.5215, 0.8128],\n",
       "          [0.4592, 0.2324, 0.7627, 0.5231, 0.1447]],\n",
       " \n",
       "         [[0.6062, 0.9789, 0.0304, 0.5738, 0.9341],\n",
       "          [0.7066, 0.4777, 0.0348, 0.9400, 0.6881],\n",
       "          [0.9658, 0.1646, 0.6393, 0.3064, 0.1466]],\n",
       " \n",
       "         [[0.3040, 0.2172, 0.8368, 0.6515, 0.8439],\n",
       "          [0.0764, 0.8099, 0.4498, 0.7407, 0.3692],\n",
       "          [0.7105, 0.9170, 0.0738, 0.8365, 0.4515]]]))"
      ]
     },
     "execution_count": 8,
     "metadata": {},
     "output_type": "execute_result"
    }
   ],
   "source": [
    "t, torch.transpose(t, 1, 2)"
   ]
  },
  {
   "cell_type": "code",
   "execution_count": 9,
   "metadata": {},
   "outputs": [],
   "source": [
    "X_train = np.arange(10, dtype='float32').reshape((10, 1))\n",
    "y_train = np.array([1.0, 1.3, 3.1, 2.0, 5.0, 6.3, 6.6, 7.4, 8.0, 9.0], dtype='float32')"
   ]
  },
  {
   "cell_type": "code",
   "execution_count": 10,
   "metadata": {},
   "outputs": [],
   "source": [
    "from torch.utils.data import TensorDataset, DataLoader\n",
    "\n",
    "X_train_norm = (X_train - np.mean(X_train)) / np.std(X_train)\n",
    "X_train_norm = torch.from_numpy(X_train_norm)\n",
    "\n",
    "y_train = torch.from_numpy(y_train).float()\n",
    "\n",
    "train_ds = TensorDataset(X_train_norm, y_train)\n",
    "\n",
    "batch_size = 1\n",
    "train_dl = DataLoader(train_ds, batch_size, shuffle=True)"
   ]
  },
  {
   "cell_type": "code",
   "execution_count": 11,
   "metadata": {},
   "outputs": [],
   "source": [
    "weight = torch.randn(1)\n",
    "weight.requires_grad_()\n",
    "bias = torch.zeros(1, requires_grad=True)\n",
    "\n",
    "def model(xb):\n",
    "    return xb @ weight + bias"
   ]
  },
  {
   "cell_type": "code",
   "execution_count": 12,
   "metadata": {},
   "outputs": [],
   "source": [
    "def loss_fn(input, target):\n",
    "    return (input - target).pow(2).mean()"
   ]
  },
  {
   "cell_type": "code",
   "execution_count": 13,
   "metadata": {},
   "outputs": [
    {
     "name": "stdout",
     "output_type": "stream",
     "text": [
      "Epoch 0 Loss 94.8229\n",
      "Epoch 10 Loss 83.5500\n",
      "Epoch 20 Loss 24.7538\n",
      "Epoch 30 Loss 15.6998\n",
      "Epoch 40 Loss 23.9138\n",
      "Epoch 50 Loss 0.9721\n",
      "Epoch 60 Loss 0.0313\n",
      "Epoch 70 Loss 0.6721\n",
      "Epoch 80 Loss 3.9561\n",
      "Epoch 90 Loss 1.2100\n",
      "Epoch 100 Loss 1.1340\n",
      "Epoch 110 Loss 0.0116\n",
      "Epoch 120 Loss 1.8565\n",
      "Epoch 130 Loss 0.3808\n",
      "Epoch 140 Loss 0.2168\n",
      "Epoch 150 Loss 0.1169\n",
      "Epoch 160 Loss 0.2918\n",
      "Epoch 170 Loss 1.0862\n",
      "Epoch 180 Loss 0.1393\n",
      "Epoch 190 Loss 0.0667\n"
     ]
    }
   ],
   "source": [
    "learning_rate = 0.001\n",
    "num_epochs = 200\n",
    "log_epochs = 10\n",
    "\n",
    "for epoch in range(num_epochs):\n",
    "    for x_batch, y_batch in train_dl:\n",
    "        pred = model(x_batch)\n",
    "        loss = loss_fn(pred, y_batch)\n",
    "        loss.backward()\n",
    "    with torch.no_grad():\n",
    "        weight -= weight.grad * learning_rate\n",
    "        bias -= bias.grad * learning_rate\n",
    "        weight.grad.zero_()\n",
    "        bias.grad.zero_()\n",
    "    if epoch % log_epochs == 0:\n",
    "        print(f'Epoch {epoch} Loss {loss.item():.4f}')"
   ]
  },
  {
   "cell_type": "code",
   "execution_count": 14,
   "metadata": {},
   "outputs": [
    {
     "name": "stdout",
     "output_type": "stream",
     "text": [
      "Final Params: 2.6342x + 4.8826\n"
     ]
    }
   ],
   "source": [
    "print(f'Final Params: {weight.item():.4f}x + {bias.item():.4f}')"
   ]
  },
  {
   "cell_type": "code",
   "execution_count": 15,
   "metadata": {},
   "outputs": [
    {
     "data": {
      "image/png": "[encoded data removed]",
      "text/plain": [
       "<Figure size 1300x500 with 1 Axes>"
      ]
     },
     "metadata": {},
     "output_type": "display_data"
    }
   ],
   "source": [
    "import matplotlib.pyplot as plt\n",
    "\n",
    "X_test = np.linspace(0, 9, num=100, dtype='float32').reshape(-1, 1)\n",
    "X_test_norm = (X_test - np.mean(X_train)) / np.std(X_train)\n",
    "X_test_norm = torch.from_numpy(X_test_norm)\n",
    "y_pred = model(X_test_norm).detach().numpy()\n",
    "\n",
    "\n",
    "fig = plt.figure(figsize=(13, 5))\n",
    "ax = fig.add_subplot(1, 2, 1)\n",
    "plt.plot(X_train_norm, y_train, 'o', markersize=10)\n",
    "plt.plot(X_test_norm, y_pred, '--', lw=3)\n",
    "plt.legend(['Training examples', 'Linear Reg.'], fontsize=15)\n",
    "ax.set_xlabel('x', size=15)\n",
    "ax.set_ylabel('y', size=15)\n",
    "ax.tick_params(axis='both', which='major', labelsize=15)"
   ]
  },
  {
   "cell_type": "code",
   "execution_count": 16,
   "metadata": {},
   "outputs": [],
   "source": [
    "import torch.nn as nn\n",
    "\n",
    "loss_fn = nn.MSELoss(reduction='mean')\n",
    "\n",
    "input_size = 1\n",
    "output_size = 1\n",
    "\n",
    "model = nn.Linear(input_size, output_size)\n",
    "\n",
    "optimizer = torch.optim.SGD(model.parameters(), lr=learning_rate)"
   ]
  },
  {
   "cell_type": "code",
   "execution_count": 18,
   "metadata": {},
   "outputs": [
    {
     "name": "stdout",
     "output_type": "stream",
     "text": [
      "Epoch 0 Loss 2.2205\n",
      "Epoch 10 Loss 0.2801\n",
      "Epoch 20 Loss 0.0921\n",
      "Epoch 30 Loss 2.3154\n",
      "Epoch 40 Loss 0.0377\n",
      "Epoch 50 Loss 0.8113\n",
      "Epoch 60 Loss 0.0654\n",
      "Epoch 70 Loss 2.3809\n",
      "Epoch 80 Loss 0.7791\n",
      "Epoch 90 Loss 0.1355\n",
      "Epoch 100 Loss 0.0550\n",
      "Epoch 110 Loss 0.1367\n",
      "Epoch 120 Loss 0.7579\n",
      "Epoch 130 Loss 0.0661\n",
      "Epoch 140 Loss 0.2578\n",
      "Epoch 150 Loss 0.0747\n",
      "Epoch 160 Loss 0.0690\n",
      "Epoch 170 Loss 0.7470\n",
      "Epoch 180 Loss 0.2548\n",
      "Epoch 190 Loss 0.2389\n"
     ]
    }
   ],
   "source": [
    "for epoch in range(num_epochs):\n",
    "    for x_batch, y_batch in train_dl:\n",
    "        pred = model(x_batch)[:, 0]\n",
    "        loss = loss_fn(pred, y_batch)\n",
    "        loss.backward()\n",
    "        optimizer.step()\n",
    "        optimizer.zero_grad()\n",
    "    if epoch % log_epochs == 0:\n",
    "        print(f'Epoch {epoch} Loss {loss.item():.4f}')"
   ]
  },
  {
   "cell_type": "code",
   "execution_count": 19,
   "metadata": {},
   "outputs": [],
   "source": [
    "from sklearn.datasets import load_iris\n",
    "from sklearn.model_selection import train_test_split\n",
    "\n",
    "iris = load_iris()\n",
    "X = iris['data']\n",
    "y = iris['target']\n",
    " \n",
    "X_train, X_test, y_train, y_test = train_test_split(X, y, test_size=1./3, random_state=1)\n"
   ]
  },
  {
   "cell_type": "code",
   "execution_count": 20,
   "metadata": {},
   "outputs": [],
   "source": [
    "X_train_norm = (X_train - np.mean(X_train)) / np.std(X_train)\n",
    "X_train_norm = torch.from_numpy(X_train_norm).float()\n",
    "y_train = torch.from_numpy(y_train)\n",
    "train_ds = TensorDataset(X_train_norm, y_train)\n",
    "batch_size = 2\n",
    "train_dl = DataLoader(train_ds, batch_size, shuffle=True)"
   ]
  },
  {
   "cell_type": "code",
   "execution_count": 21,
   "metadata": {},
   "outputs": [],
   "source": [
    "class Model(nn.Module):\n",
    "    def __init__(self, input_size, hidden_size, output_size):\n",
    "        super().__init__()\n",
    "        self.layer1 = nn.Linear(input_size, hidden_size)\n",
    "        self.layer2 = nn.Linear(hidden_size, output_size)\n",
    "    \n",
    "    def forward(self, x):\n",
    "        x = self.layer1(x)\n",
    "        x = nn.Sigmoid()(x)\n",
    "        x = self.layer2(x)\n",
    "        x = nn.Softmax(dim=1)(x)\n",
    "        return X"
   ]
  },
  {
   "cell_type": "code",
   "execution_count": 22,
   "metadata": {},
   "outputs": [],
   "source": [
    "input_size = X_train_norm.shape[1]\n",
    "hidden_size = 16\n",
    "output_size = 3\n",
    "model = Model(input_size, hidden_size, output_size)"
   ]
  },
  {
   "cell_type": "code",
   "execution_count": 23,
   "metadata": {},
   "outputs": [],
   "source": [
    "learning_rate = 0.001\n",
    "loss_fn = nn.CrossEntropyLoss()\n",
    "optimizer = torch.optim.Adam(model.parameters(), lr=learning_rate)"
   ]
  },
  {
   "cell_type": "code",
   "execution_count": null,
   "metadata": {},
   "outputs": [],
   "source": [
    "# num_epochs = 100\n",
    "# loss_hist = [0] * num_epochs\n",
    "# accuracy_hist = [0] * num_epochs\n",
    "# for epoch in range(num_epochs):\n",
    "#     for x_batch, y_batch in train_dl:\n",
    "#         pred = model(x_batch)\n",
    "#         loss = loss_fn(pred, y_batch.long())\n",
    "#         loss.backward()\n",
    "#         optimizer.step()\n",
    "#         optimizer.zero_grad()\n",
    "#         loss_hist[epoch] += loss.item()*y_batch.size(0)\n",
    "#         is_correct = (torch.argmax(pred, dim=1) == y_batch).float()\n",
    "#         accuracy_hist[epoch] += is_correct.mean()\n",
    "#     loss_hist[epoch] /= len(train_dl.dataset)\n",
    "#     accuracy_hist[epoch] /= len(train_dl.dataset)"
   ]
  },
  {
   "cell_type": "code",
   "execution_count": 24,
   "metadata": {},
   "outputs": [
    {
     "data": {
      "image/png": "[encoded data removed]",
      "text/plain": [
       "<Figure size 1200x500 with 2 Axes>"
      ]
     },
     "metadata": {},
     "output_type": "display_data"
    }
   ],
   "source": [
    "\n",
    "iris = load_iris()\n",
    "X = iris['data']\n",
    "y = iris['target']\n",
    " \n",
    "X_train, X_test, y_train, y_test = train_test_split(\n",
    "    X, y, test_size=1./3, random_state=1)\n",
    "\n",
    "X_train_norm = (X_train - np.mean(X_train)) / np.std(X_train)\n",
    "X_train_norm = torch.from_numpy(X_train_norm).float()\n",
    "y_train = torch.from_numpy(y_train) \n",
    "\n",
    "train_ds = TensorDataset(X_train_norm, y_train)\n",
    "\n",
    "torch.manual_seed(1)\n",
    "batch_size = 2\n",
    "train_dl = DataLoader(train_ds, batch_size, shuffle=True)\n",
    "\n",
    "class Model(nn.Module):\n",
    "    def __init__(self, input_size, hidden_size, output_size):\n",
    "        super().__init__()\n",
    "        self.layer1 = nn.Linear(input_size, hidden_size)  \n",
    "        self.layer2 = nn.Linear(hidden_size, output_size)  \n",
    "\n",
    "    def forward(self, x):\n",
    "        x = self.layer1(x)\n",
    "        x = nn.Sigmoid()(x)\n",
    "        x = self.layer2(x)\n",
    "        x = nn.Softmax(dim=1)(x)\n",
    "        return x\n",
    "    \n",
    "input_size = X_train_norm.shape[1]\n",
    "hidden_size = 16\n",
    "output_size = 3\n",
    " \n",
    "model = Model(input_size, hidden_size, output_size)\n",
    "\n",
    "learning_rate = 0.001\n",
    "\n",
    "loss_fn = nn.CrossEntropyLoss()\n",
    " \n",
    "optimizer = torch.optim.Adam(model.parameters(), lr=learning_rate)\n",
    "\n",
    "num_epochs = 100\n",
    "loss_hist = [0] * num_epochs\n",
    "accuracy_hist = [0] * num_epochs\n",
    "\n",
    "for epoch in range(num_epochs):\n",
    "\n",
    "    for x_batch, y_batch in train_dl:\n",
    "        pred = model(x_batch)\n",
    "        loss = loss_fn(pred, y_batch.long())\n",
    "        loss.backward()\n",
    "        optimizer.step()\n",
    "        optimizer.zero_grad()\n",
    "    \n",
    "        loss_hist[epoch] += loss.item()*y_batch.size(0)\n",
    "        is_correct = (torch.argmax(pred, dim=1) == y_batch).float()\n",
    "        accuracy_hist[epoch] += is_correct.sum()\n",
    "        \n",
    "    loss_hist[epoch] /= len(train_dl.dataset)\n",
    "    accuracy_hist[epoch] /= len(train_dl.dataset)\n",
    "\n",
    "fig = plt.figure(figsize=(12, 5))\n",
    "ax = fig.add_subplot(1, 2, 1)\n",
    "ax.plot(loss_hist, lw=3)\n",
    "ax.set_title('Training loss', size=15)\n",
    "ax.set_xlabel('Epoch', size=15)\n",
    "ax.tick_params(axis='both', which='major', labelsize=15)\n",
    "\n",
    "ax = fig.add_subplot(1, 2, 2)\n",
    "ax.plot(accuracy_hist, lw=3)\n",
    "ax.set_title('Training accuracy', size=15)\n",
    "ax.set_xlabel('Epoch', size=15)\n",
    "ax.tick_params(axis='both', which='major', labelsize=15)\n",
    "plt.tight_layout()"
   ]
  },
  {
   "cell_type": "code",
   "execution_count": 25,
   "metadata": {},
   "outputs": [
    {
     "name": "stdout",
     "output_type": "stream",
     "text": [
      "Test Acc.: 0.9800\n"
     ]
    }
   ],
   "source": [
    "X_test_norm = (X_test - np.mean(X_train)) / np.std(X_train)\n",
    "X_test_norm = torch.from_numpy(X_test_norm).float()\n",
    "y_test = torch.from_numpy(y_test) \n",
    "pred_test = model(X_test_norm)\n",
    "\n",
    "correct = (torch.argmax(pred_test, dim=1) == y_test).float()\n",
    "accuracy = correct.mean()\n",
    " \n",
    "print(f'Test Acc.: {accuracy:.4f}')\n"
   ]
  },
  {
   "cell_type": "code",
   "execution_count": 28,
   "metadata": {},
   "outputs": [
    {
     "name": "stdout",
     "output_type": "stream",
     "text": [
      "R' F2 D' R2 B D' R' F2 L2 B' R' D2 F R' U' F D2 L2 U R' D' F' U B' R'\n",
      "         [g][w][y]\n",
      "         [o][y][r]\n",
      "         [o][y][r]\n",
      "[o][w][w][b][r][w][g][b][g][o][r][w]\n",
      "[b][r][y][b][g][o][b][o][g][r][b][w]\n",
      "[o][g][w][b][g][r][y][o][r][b][y][b]\n",
      "         [r][y][g]\n",
      "         [w][w][g]\n",
      "         [y][o][y]\n",
      "\n",
      "B2 U2 R' F R2 D B U B' U F' U2 F U' F' U' F B U2 B' U2 B U B' U' L U2 L' B' U2 B U B' U2 B L' U' L F U2 F' L' U' L B' R' F R' F' R F R' F' R2 B R B' R' F R B R' F' R B R' F R B' R' F'\n",
      "         [b][b][b]\n",
      "         [b][b][b]\n",
      "         [b][b][b]\n",
      "[r][r][r][y][y][y][o][o][o][w][w][w]\n",
      "[r][r][r][y][y][y][o][o][o][w][w][w]\n",
      "[r][r][r][y][y][y][o][o][o][w][w][w]\n",
      "         [g][g][g]\n",
      "         [g][g][g]\n",
      "         [g][g][g]\n",
      "\n"
     ]
    }
   ],
   "source": [
    "import pycuber as pc\n",
    "from pycuber.solver import CFOPSolver\n",
    "\n",
    "c = pc.Cube()\n",
    "alg = pc.Formula()\n",
    "random_alg = alg.random()\n",
    "\n",
    "print(random_alg)\n",
    "c(random_alg)\n",
    "\n",
    "print(c)\n",
    "solver = CFOPSolver(c)\n",
    "\n",
    "solution = solver.solve(suppress_progress_messages=True)\n",
    "print(solution)\n",
    "\n",
    "print(c)"
   ]
  },
  {
   "cell_type": "code",
   "execution_count": 29,
   "metadata": {},
   "outputs": [
    {
     "name": "stdout",
     "output_type": "stream",
     "text": [
      "         [b][b][b]\n",
      "         [b][b][b]\n",
      "         [b][b][b]\n",
      "[r][r][r][y][y][y][o][o][o][w][w][w]\n",
      "[r][r][r][y][y][y][o][o][o][w][w][w]\n",
      "[r][r][r][y][y][y][o][o][o][w][w][w]\n",
      "         [g][g][g]\n",
      "         [g][g][g]\n",
      "         [g][g][g]\n",
      "\n"
     ]
    }
   ],
   "source": [
    "print(c)"
   ]
  },
  {
   "cell_type": "code",
   "execution_count": 30,
   "metadata": {},
   "outputs": [
    {
     "name": "stdout",
     "output_type": "stream",
     "text": [
      "['[y]', '[y]', '[y]', '[y]', '[y]', '[y]', '[y]', '[y]', '[y]']\n"
     ]
    }
   ],
   "source": [
    "print([str(x) for x in np.array(c.get_face('F')).flatten()])"
   ]
  },
  {
   "cell_type": "code",
   "execution_count": 31,
   "metadata": {},
   "outputs": [
    {
     "data": {
      "text/plain": [
       "\u001b[42m  \u001b[49m"
      ]
     },
     "execution_count": 31,
     "metadata": {},
     "output_type": "execute_result"
    }
   ],
   "source": [
    "pc.Square('green')"
   ]
  },
  {
   "cell_type": "code",
   "execution_count": 32,
   "metadata": {},
   "outputs": [
    {
     "data": {
      "text/plain": [
       "Cubie(U=Square('yellow'))"
      ]
     },
     "execution_count": 32,
     "metadata": {},
     "output_type": "execute_result"
    }
   ],
   "source": [
    "pc.Cubie(U=pc.Square('yellow'))"
   ]
  },
  {
   "cell_type": "code",
   "execution_count": null,
   "metadata": {},
   "outputs": [],
   "source": []
  },
  {
   "cell_type": "code",
   "execution_count": null,
   "metadata": {},
   "outputs": [],
   "source": [
    "# # from src.train import *\n",
    "# # from src.data import *\n",
    "\n",
    "\n",
    "# load_sequences('./data/train_0.dat', num_sequences=1)"
   ]
  },
  {
   "cell_type": "markdown",
   "metadata": {},
   "source": [
    "RNN testing"
   ]
  },
  {
   "cell_type": "code",
   "execution_count": 33,
   "metadata": {},
   "outputs": [],
   "source": [
    "from torchtext.datasets import IMDB\n",
    "\n",
    "train_dataset = IMDB(split='train')\n",
    "test_dataset = IMDB(split='test')\n"
   ]
  },
  {
   "cell_type": "code",
   "execution_count": 34,
   "metadata": {},
   "outputs": [],
   "source": [
    "from torch.utils.data import random_split\n",
    "\n",
    "torch.manual_seed(42)\n",
    "\n",
    "train_dataset, valid_dataset = random_split(\n",
    "    list(train_dataset), [20000, 5000]\n",
    ")"
   ]
  },
  {
   "cell_type": "code",
   "execution_count": 35,
   "metadata": {},
   "outputs": [
    {
     "name": "stdout",
     "output_type": "stream",
     "text": [
      "Vocab-size: 69209\n"
     ]
    }
   ],
   "source": [
    "import re\n",
    "from collections import Counter, OrderedDict\n",
    "\n",
    "\n",
    "token_counts = Counter()\n",
    "\n",
    "def tokenizer(text):\n",
    "    text = re.sub('<[^>]*>', '', text)\n",
    "    emoticons = re.findall('(?::|;|=)(?:-)?(?:\\)|\\(|D|P)', text.lower())\n",
    "    text = re.sub('[\\W]+', ' ', text.lower()) +        ' '.join(emoticons).replace('-', '')\n",
    "    tokenized = text.split()\n",
    "    return tokenized\n",
    "\n",
    "\n",
    "for label, line in train_dataset:\n",
    "    tokens = tokenizer(line)\n",
    "    token_counts.update(tokens)\n",
    " \n",
    "    \n",
    "print('Vocab-size:', len(token_counts))\n"
   ]
  },
  {
   "cell_type": "code",
   "execution_count": 36,
   "metadata": {},
   "outputs": [],
   "source": [
    "from torchtext.vocab import vocab\n",
    "\n",
    "sorted_by_freq_tuples = sorted(\n",
    "    token_counts.items(), key=lambda x: x[1], reverse=True\n",
    ")"
   ]
  },
  {
   "cell_type": "code",
   "execution_count": 37,
   "metadata": {},
   "outputs": [],
   "source": [
    "ordered_dict = OrderedDict(sorted_by_freq_tuples)\n",
    "\n",
    "vocab = vocab(ordered_dict)\n",
    "\n",
    "vocab.insert_token('<pad>', 0)\n",
    "vocab.insert_token('<unk>', 1)\n",
    "vocab.set_default_index(1)"
   ]
  },
  {
   "cell_type": "code",
   "execution_count": 38,
   "metadata": {},
   "outputs": [
    {
     "name": "stdout",
     "output_type": "stream",
     "text": [
      "[11, 7, 4, 4453]\n"
     ]
    }
   ],
   "source": [
    "print([vocab[token] for token in ['this', 'is', 'a', 'sentence']])"
   ]
  },
  {
   "cell_type": "code",
   "execution_count": 39,
   "metadata": {},
   "outputs": [],
   "source": [
    "text_pipline = lambda x: [vocab[token] for token in tokenizer(x)]\n",
    "label_pipeline = lambda x: 1. if x == 2 else 0."
   ]
  },
  {
   "cell_type": "code",
   "execution_count": 40,
   "metadata": {},
   "outputs": [],
   "source": [
    "def collate_batch(batch):\n",
    "    label_list, text_list, len_list = [], [], []\n",
    "    for _label, _text in batch:\n",
    "        label_list.append(label_pipeline(_label))\n",
    "        processed_text = torch.tensor(text_pipline(_text), dtype=torch.int64)\n",
    "        text_list.append(processed_text)\n",
    "        len_list.append(processed_text.size(0))\n",
    "    label_list = torch.tensor(label_list)\n",
    "    lengths = torch.tensor(len_list)\n",
    "    padded_text_list = nn.utils.rnn.pad_sequence(\n",
    "        text_list, batch_first=True\n",
    "    )\n",
    "    return padded_text_list.to(device), label_list.to(device), lengths.to(device)"
   ]
  },
  {
   "cell_type": "code",
   "execution_count": 41,
   "metadata": {},
   "outputs": [],
   "source": [
    "from torch.utils.data import DataLoader\n",
    "\n",
    "dataloader = DataLoader(\n",
    "    train_dataset, batch_size=4, shuffle=False, collate_fn=collate_batch\n",
    ")"
   ]
  },
  {
   "cell_type": "code",
   "execution_count": 42,
   "metadata": {},
   "outputs": [],
   "source": [
    "batch_size = 32\n",
    "\n",
    "train_dl = DataLoader(\n",
    "    train_dataset, batch_size=batch_size, shuffle=True, collate_fn=collate_batch\n",
    ")\n",
    "\n",
    "valid_dl = DataLoader(\n",
    "    valid_dataset, batch_size=batch_size, shuffle=False, collate_fn=collate_batch\n",
    ")\n",
    "\n",
    "test_dl = DataLoader(\n",
    "    test_dataset, batch_size=batch_size, shuffle=False, collate_fn=collate_batch\n",
    ")"
   ]
  },
  {
   "cell_type": "code",
   "execution_count": 43,
   "metadata": {},
   "outputs": [
    {
     "data": {
      "text/plain": [
       "tensor([[[-0.7269, -0.8673, -1.0324],\n",
       "         [ 1.4106,  1.0425, -0.9140],\n",
       "         [-0.3351,  1.5477,  0.3904],\n",
       "         [-1.0513,  1.0709,  1.8281]],\n",
       "\n",
       "        [[-0.3351,  1.5477,  0.3904],\n",
       "         [ 1.1367, -0.9850, -0.0713],\n",
       "         [ 1.4106,  1.0425, -0.9140],\n",
       "         [ 0.0000,  0.0000,  0.0000]]], grad_fn=<EmbeddingBackward0>)"
      ]
     },
     "execution_count": 43,
     "metadata": {},
     "output_type": "execute_result"
    }
   ],
   "source": [
    "embedding = nn.Embedding(\n",
    "    num_embeddings=10,\n",
    "    embedding_dim=3,\n",
    "    padding_idx=0\n",
    ")\n",
    "\n",
    "text_encoded_input = torch.LongTensor([[1, 2, 4, 5], [4, 3, 2, 0]])\n",
    "\n",
    "embedding(text_encoded_input)"
   ]
  },
  {
   "cell_type": "code",
   "execution_count": 44,
   "metadata": {},
   "outputs": [
    {
     "data": {
      "text/plain": [
       "RNN(\n",
       "  (rnn): RNN(64, 32, num_layers=2, batch_first=True)\n",
       "  (fc): Linear(in_features=32, out_features=1, bias=True)\n",
       ")"
      ]
     },
     "execution_count": 44,
     "metadata": {},
     "output_type": "execute_result"
    }
   ],
   "source": [
    "class RNN(nn.Module):\n",
    "    def __init__(self, input_size, hidden_size):\n",
    "        super().__init__()\n",
    "        self.rnn = nn.RNN(input_size, hidden_size, num_layers=2, batch_first=True)\n",
    "        # self.rnn = nn.GRU(input_size, hidden_size, num_layers=2, batch_first=True)\n",
    "        # self.rnn = nn.LSTM(input_size, hidden_size, num_layers=2, batch_first=True)\n",
    "        self.fc = nn.Linear(hidden_size, 1)\n",
    "    \n",
    "    def forward(self, x):\n",
    "        _, hidden = self.rnn(x)\n",
    "        out = hidden[-1, :, :]\n",
    "        out = self.fc(out)\n",
    "        return out\n",
    "\n",
    "\n",
    "model = RNN(64, 32)\n",
    "model"
   ]
  },
  {
   "cell_type": "code",
   "execution_count": 45,
   "metadata": {},
   "outputs": [
    {
     "data": {
      "text/plain": [
       "tensor([[-0.4234],\n",
       "        [-0.2282],\n",
       "        [ 0.0191],\n",
       "        [-0.0981],\n",
       "        [-0.2579]], grad_fn=<AddmmBackward0>)"
      ]
     },
     "execution_count": 45,
     "metadata": {},
     "output_type": "execute_result"
    }
   ],
   "source": [
    "model(torch.randn(5, 3, 64))"
   ]
  },
  {
   "cell_type": "code",
   "execution_count": 48,
   "metadata": {},
   "outputs": [],
   "source": [
    "class RNN(nn.Module):\n",
    "    def __init__(self, vocab_size, embed_dim, rnn_hidden_size, fc_hidden_size):\n",
    "        super().__init__()\n",
    "        self.embedding = nn.Embedding(vocab_size, embed_dim, padding_idx=0)\n",
    "        self.rnn = nn.LSTM(embed_dim, rnn_hidden_size, batch_first=True)\n",
    "        self.fc1 = nn.Linear(rnn_hidden_size, fc_hidden_size)\n",
    "        self.relu = nn.ReLU()\n",
    "        self.fc2 = nn.Linear(fc_hidden_size, 1)\n",
    "        self.sigmoid = nn.Sigmoid()\n",
    "\n",
    "    def forward(self, text, lengths):\n",
    "        out = self.embedding(text)\n",
    "        out = nn.utils.rnn.pack_padded_sequence(\n",
    "            out, lengths.cpu().numpy(), enforce_sorted=False, batch_first=True\n",
    "        )\n",
    "        out, (hidden, cell) = self.rnn(out)\n",
    "        out = hidden[-1, :, :]\n",
    "        out = self.fc1(out)\n",
    "        out = self.relu(out)\n",
    "        out = self.fc2(out)\n",
    "        out = self.sigmoid(out)\n",
    "        return out"
   ]
  },
  {
   "cell_type": "code",
   "execution_count": 49,
   "metadata": {},
   "outputs": [
    {
     "data": {
      "text/plain": [
       "RNN(\n",
       "  (embedding): Embedding(69211, 20, padding_idx=0)\n",
       "  (rnn): LSTM(20, 64, batch_first=True)\n",
       "  (fc1): Linear(in_features=64, out_features=64, bias=True)\n",
       "  (relu): ReLU()\n",
       "  (fc2): Linear(in_features=64, out_features=1, bias=True)\n",
       "  (sigmoid): Sigmoid()\n",
       ")"
      ]
     },
     "execution_count": 49,
     "metadata": {},
     "output_type": "execute_result"
    }
   ],
   "source": [
    "vocab_size = len(vocab)\n",
    "embed_dim = 20\n",
    "rnn_hidden_size = 64\n",
    "fc_hidden_size = 64\n",
    "torch.manual_seed(42)\n",
    "device = torch.device(\"cuda:0\" if torch.cuda.is_available() else \"cpu\")\n",
    "model = RNN(vocab_size, embed_dim, rnn_hidden_size, fc_hidden_size)\n",
    "model.to(device)\n",
    "model"
   ]
  },
  {
   "cell_type": "code",
   "execution_count": 50,
   "metadata": {},
   "outputs": [],
   "source": [
    "def train(dataloader):\n",
    "    model.train()\n",
    "    total_acc, total_loss = 0, 0\n",
    "    for text_batch, label_batch, lengths in dataloader:\n",
    "        optimizer.zero_grad()\n",
    "        pred = model(text_batch, lengths)[:, 0]\n",
    "        loss = loss_fn(pred, label_batch)\n",
    "        loss.backward()\n",
    "        optimizer.step()\n",
    "        total_acc += (\n",
    "            (pred >= 0.5).float() == label_batch\n",
    "        ).float().sum().item()\n",
    "        total_loss += loss.item() * label_batch.size(0)\n",
    "    return total_acc/len(dataloader.dataset), total_loss/len(dataloader.dataset)"
   ]
  },
  {
   "cell_type": "code",
   "execution_count": 51,
   "metadata": {},
   "outputs": [],
   "source": [
    "def evaluate(dataloader):\n",
    "    model.eval()\n",
    "    total_acc, total_loss = 0, 0\n",
    "    with torch.no_grad():\n",
    "        for text_batch, label_batch, lengths in dataloader:\n",
    "            pred = model(text_batch, lengths)[:, 0]\n",
    "            loss = loss_fn(pred, label_batch)\n",
    "            total_acc += (\n",
    "                (pred >= 0.5).float() == label_batch\n",
    "            ).float().sum().item()\n",
    "            total_loss += loss.item() * label_batch.size(0)\n",
    "    return total_acc/len(dataloader.dataset), total_loss/len(dataloader.dataset)"
   ]
  },
  {
   "cell_type": "code",
   "execution_count": 52,
   "metadata": {},
   "outputs": [],
   "source": [
    "loss_fn = nn.BCELoss()\n",
    "optimizer = torch.optim.Adam(model.parameters(), lr=0.001)"
   ]
  },
  {
   "cell_type": "code",
   "execution_count": 54,
   "metadata": {},
   "outputs": [
    {
     "name": "stdout",
     "output_type": "stream",
     "text": [
      "Epoch 0 accuracy: 0.6127 val_accuracy: 0.5790\n",
      "Epoch 1 accuracy: 0.7107 val_accuracy: 0.7628\n",
      "Epoch 2 accuracy: 0.7544 val_accuracy: 0.7702\n",
      "Epoch 3 accuracy: 0.8267 val_accuracy: 0.7702\n",
      "Epoch 4 accuracy: 0.8679 val_accuracy: 0.8360\n",
      "Epoch 5 accuracy: 0.8790 val_accuracy: 0.8456\n",
      "Epoch 6 accuracy: 0.9150 val_accuracy: 0.8504\n",
      "Epoch 7 accuracy: 0.9323 val_accuracy: 0.8632\n",
      "Epoch 8 accuracy: 0.9433 val_accuracy: 0.8650\n",
      "Epoch 9 accuracy: 0.9518 val_accuracy: 0.8568\n"
     ]
    }
   ],
   "source": [
    "class RNN(nn.Module):\n",
    "    def __init__(self, vocab_size, embed_dim, rnn_hidden_size, fc_hidden_size):\n",
    "        super().__init__()\n",
    "        self.embedding = nn.Embedding(vocab_size, \n",
    "                                      embed_dim, \n",
    "                                      padding_idx=0) \n",
    "        self.rnn = nn.LSTM(embed_dim, rnn_hidden_size, \n",
    "                           batch_first=True)\n",
    "        self.fc1 = nn.Linear(rnn_hidden_size, fc_hidden_size)\n",
    "        self.relu = nn.ReLU()\n",
    "        self.fc2 = nn.Linear(fc_hidden_size, 1)\n",
    "        self.sigmoid = nn.Sigmoid()\n",
    "\n",
    "    def forward(self, text, lengths):\n",
    "        out = self.embedding(text)\n",
    "        out = nn.utils.rnn.pack_padded_sequence(out, lengths.cpu().numpy(), enforce_sorted=False, batch_first=True)\n",
    "        out, (hidden, cell) = self.rnn(out)\n",
    "        out = hidden[-1, :, :]\n",
    "        out = self.fc1(out)\n",
    "        out = self.relu(out)\n",
    "        out = self.fc2(out)\n",
    "        out = self.sigmoid(out)\n",
    "        return out\n",
    "         \n",
    "vocab_size = len(vocab)\n",
    "embed_dim = 20\n",
    "rnn_hidden_size = 64\n",
    "fc_hidden_size = 64\n",
    "\n",
    "torch.manual_seed(1)\n",
    "model = RNN(vocab_size, embed_dim, rnn_hidden_size, fc_hidden_size) \n",
    "model = model.to(device)\n",
    "\n",
    "def train(dataloader):\n",
    "    model.train()\n",
    "    total_acc, total_loss = 0, 0\n",
    "    for text_batch, label_batch, lengths in dataloader:\n",
    "        optimizer.zero_grad()\n",
    "        pred = model(text_batch, lengths)[:, 0]\n",
    "        loss = loss_fn(pred, label_batch)\n",
    "        loss.backward()\n",
    "        optimizer.step()\n",
    "        total_acc += ((pred>=0.5).float() == label_batch).float().sum().item()\n",
    "        total_loss += loss.item()*label_batch.size(0)\n",
    "    return total_acc/len(dataloader.dataset), total_loss/len(dataloader.dataset)\n",
    " \n",
    "def evaluate(dataloader):\n",
    "    model.eval()\n",
    "    total_acc, total_loss = 0, 0\n",
    "    with torch.no_grad():\n",
    "        for text_batch, label_batch, lengths in dataloader:\n",
    "            pred = model(text_batch, lengths)[:, 0]\n",
    "            loss = loss_fn(pred, label_batch)\n",
    "            total_acc += ((pred>=0.5).float() == label_batch).float().sum().item()\n",
    "            total_loss += loss.item()*label_batch.size(0)\n",
    "    return total_acc/len(dataloader.dataset), total_loss/len(dataloader.dataset)\n",
    "\n",
    "loss_fn = nn.BCELoss()\n",
    "optimizer = torch.optim.Adam(model.parameters(), lr=0.001)\n",
    "\n",
    "num_epochs = 10 \n",
    "\n",
    "torch.manual_seed(1)\n",
    " \n",
    "for epoch in range(num_epochs):\n",
    "    acc_train, loss_train = train(train_dl)\n",
    "    acc_valid, loss_valid = evaluate(valid_dl)\n",
    "    print(f'Epoch {epoch} accuracy: {acc_train:.4f} val_accuracy: {acc_valid:.4f}')"
   ]
  },
  {
   "cell_type": "code",
   "execution_count": 55,
   "metadata": {},
   "outputs": [],
   "source": [
    "rnn = nn.RNN(10, 20, 2)\n",
    "input = torch.randn(5, 3, 10)\n",
    "h0 = torch.randn(2, 3, 20)\n",
    "output, hn = rnn(input, h0)"
   ]
  },
  {
   "cell_type": "code",
   "execution_count": 56,
   "metadata": {},
   "outputs": [
    {
     "data": {
      "text/plain": [
       "tensor([[ 1.1043e+00,  2.8337e-01,  4.0992e-01,  1.0463e+00,  3.8046e-01,\n",
       "         -3.6512e-01, -7.0509e-02, -1.5148e+00],\n",
       "        [-6.7212e-01,  5.7079e-01, -9.3948e-01, -2.2135e+00,  1.8021e-01,\n",
       "         -6.7027e-01, -4.9000e-01,  9.5105e-01],\n",
       "        [-1.8558e+00,  3.9005e-01,  8.5839e-01,  6.3271e-01, -5.3382e-02,\n",
       "          1.1806e-01,  1.3405e+00, -9.2249e-01],\n",
       "        [-4.1984e-01,  1.0553e+00, -6.3664e-01,  1.6225e+00,  2.9110e-01,\n",
       "          6.2976e-02,  1.7065e-02, -8.7682e-01],\n",
       "        [-2.5958e-01, -1.7663e+00,  8.8077e-01, -1.4067e+00,  2.3293e+00,\n",
       "          1.7243e-01,  1.5408e+00, -1.5856e+00],\n",
       "        [ 8.0107e-01,  4.0051e-01,  2.7087e+00, -4.3913e-01,  3.2906e-01,\n",
       "          5.4770e-01,  7.1314e-01,  6.6375e-01],\n",
       "        [ 1.1859e+00,  4.4372e-01, -8.1697e-01, -2.2163e-01,  3.2017e-01,\n",
       "          1.2325e+00,  4.5436e-01, -5.9678e-01],\n",
       "        [ 4.4148e-01, -9.6937e-02, -3.0496e-01, -1.7810e+00, -1.1760e+00,\n",
       "         -5.0248e-01,  6.6957e-01, -7.1728e-01],\n",
       "        [ 3.2523e-01,  5.8414e-01,  3.0636e-01,  1.5087e+00,  2.4284e-01,\n",
       "         -1.4631e+00, -9.0681e-01,  1.5935e+00],\n",
       "        [ 1.7921e-01, -1.4058e+00,  6.8121e-01,  3.1093e-01, -4.7313e-01,\n",
       "         -8.6712e-01,  1.7557e+00,  6.6546e-01],\n",
       "        [ 1.4066e+00, -7.4039e-01, -2.6428e-01,  1.7371e-01, -2.9756e-01,\n",
       "          8.5735e-01,  5.6355e-01, -7.1716e-01],\n",
       "        [ 4.7391e-02,  3.4583e-01,  3.8568e-01, -1.0581e+00,  2.5622e-01,\n",
       "         -1.4171e+00, -2.3747e-01, -5.3485e-01],\n",
       "        [-8.8506e-01,  3.9086e-01,  4.9451e-01, -3.2465e-01,  5.3101e-01,\n",
       "         -1.6991e+00,  8.4430e-01, -1.0595e+00],\n",
       "        [-1.1636e-01,  1.7785e-01, -2.8443e-01,  8.3678e-01,  3.6226e-01,\n",
       "          8.4476e-02,  3.3745e-01, -4.3797e-01],\n",
       "        [ 5.2680e-01,  5.0859e-01,  1.1163e-01, -1.5343e+00, -1.3442e+00,\n",
       "          7.3621e-01,  5.2027e-01, -1.7429e-01],\n",
       "        [ 3.3280e-01,  8.5502e-01, -9.2637e-01, -1.2666e+00, -1.5918e+00,\n",
       "         -3.2155e+00, -1.1615e+00, -1.8405e+00],\n",
       "        [-8.6802e-01, -5.4732e-01,  1.3635e+00, -2.1613e+00, -6.3594e-01,\n",
       "          6.2418e-01,  1.1942e+00,  1.8871e+00],\n",
       "        [ 5.0677e-02,  7.3237e-01,  1.6020e-02, -4.2241e-01, -9.1422e-01,\n",
       "          6.8961e-01,  1.2523e+00,  1.5266e-03],\n",
       "        [ 4.9850e-01,  2.2760e+00, -3.0709e+00, -9.6944e-01, -1.1053e-01,\n",
       "          7.9699e-02, -1.4893e+00, -9.5025e-01],\n",
       "        [ 2.0441e+00, -1.3229e+00,  1.0491e+00, -2.2162e+00,  1.0833e+00,\n",
       "          1.5990e+00,  9.8024e-01, -9.9082e-02],\n",
       "        [ 1.7139e+00,  1.5981e+00, -7.9248e-01,  2.9912e+00, -5.5697e-01,\n",
       "         -1.1629e-01, -6.4275e-01,  7.5584e-01],\n",
       "        [-4.8964e-01,  9.6428e-01, -7.2219e-01,  7.7773e-01,  4.7165e-01,\n",
       "          1.2296e+00, -3.4041e-03,  1.0828e+00],\n",
       "        [ 2.7895e-01, -4.0261e-02,  3.8977e-01, -7.9291e-01, -6.6884e-01,\n",
       "          2.0879e+00, -1.2654e+00,  6.3779e-02],\n",
       "        [ 1.3764e+00,  2.3581e-01,  1.3150e+00, -3.2451e-01, -2.9602e-02,\n",
       "         -8.8960e-01, -1.1640e-01,  6.0518e-01],\n",
       "        [ 2.0862e+00, -8.2399e-01, -4.0755e-01,  1.8772e+00,  2.1884e+00,\n",
       "          3.6784e-01,  2.9258e-02,  2.3794e-01],\n",
       "        [ 1.3701e+00,  1.0716e+00,  1.6625e-01,  7.7849e-01,  4.9712e-01,\n",
       "         -1.1947e+00,  5.1836e-01,  1.0541e+00],\n",
       "        [-4.9890e-01, -1.0193e+00,  2.0163e-01,  4.4660e-01, -3.8192e-01,\n",
       "         -1.5184e+00,  4.6669e-01, -4.7731e-01]], grad_fn=<EmbeddingBackward0>)"
      ]
     },
     "execution_count": 56,
     "metadata": {},
     "output_type": "execute_result"
    }
   ],
   "source": [
    "embeddings = nn.Embedding(27, 8)\n",
    "embeddings(torch.Tensor(np.arange(27)).to(torch.int64))"
   ]
  },
  {
   "cell_type": "code",
   "execution_count": null,
   "metadata": {},
   "outputs": [],
   "source": [
    "import pycuber as pc\n",
    "from pycuber import *\n",
    "\n",
    "def convert_string_state_to_cube(string_state) -> Cube:\n",
    "    '''\n",
    "    Convert the string state to a Pycube object.\n",
    "    ULFRBD ordered. 6 x 9 x 6 state encoding.\n",
    "    '''\n",
    "    cubie_set = set([eval(cubie_string) for cubie_string in string_state.split(';')])\n",
    "    return pc.Cube(cubie_set)\n",
    "\n",
    "\n",
    "def convert_cube_to_state(cube):\n",
    "    '''\n",
    "    Convert a cube object to the NN state representation.\n",
    "    ULFRBD ordered. 6 x 9 x 6 state encoding.\n",
    "    '''\n",
    "    color_vectors = {\n",
    "        'b': np.array([1, 0, 0, 0, 0, 0]),\n",
    "        'g': np.array([0, 1, 0, 0, 0, 0]),\n",
    "        'o': np.array([0, 0, 1, 0, 0, 0]),\n",
    "        'r': np.array([0, 0, 0, 1, 0, 0]),\n",
    "        'w': np.array([0, 0, 0, 0, 1, 0]),\n",
    "        'y': np.array([0, 0, 0, 0, 0, 1]),\n",
    "    }\n",
    "    state = np.zeros(shape=(6, 9, 6))\n",
    "    for i, face in enumerate('ULFRBD'):\n",
    "        unpacked_face = [str(x)[1] for x in np.array(cube.get_face(face)).flatten()]\n",
    "        for j, square in enumerate(unpacked_face):\n",
    "            state[i, j] = color_vectors[square]\n",
    "    return state.flatten()\n",
    "\n",
    "\n",
    "def load_sequences(filename, num_sequences=1000):\n",
    "    '''Load a train.dat file and transform it into a series of cube states to move sequences.\n",
    "    '''\n",
    "    move_mapping = {\n",
    "        'U': 0, 'U\\'': 1, 'U2': 2,\n",
    "        'L': 3, 'L\\'': 4, 'L2': 5,\n",
    "        'F': 6, 'F\\'': 1, 'F2': 8,\n",
    "        'R': 9, 'R\\'': 1, 'R2': 11,\n",
    "        'B': 12, 'B\\'': 1, 'B2': 14,\n",
    "        'D': 15, 'D\\'': 1, 'D2': 17, '$': 18\n",
    "    }\n",
    "    with open(filename, 'r') as f:\n",
    "        print(f'OPENING FILE: {filename}')\n",
    "        log_i = 100\n",
    "        sequences = []\n",
    "        for i, line in enumerate(f):\n",
    "            if i == num_sequences:\n",
    "                return sequences\n",
    "            if i % log_i == 0:\n",
    "                print(f'LINE: {i}')\n",
    "            string_state, solution = line.strip().split('|')\n",
    "            unsolved_cube = convert_string_state_to_cube(string_state)\n",
    "            sequence = []\n",
    "            for step in solution.split():\n",
    "                sequence.append((convert_cube_to_state(unsolved_cube), move_mapping[step]))\n",
    "                unsolved_cube.perform_step(step)\n",
    "            sequence.append((convert_cube_to_state(unsolved_cube), '$'))\n",
    "            sequences.append(sequence)\n",
    "        return sequences"
   ]
  },
  {
   "cell_type": "code",
   "execution_count": null,
   "metadata": {},
   "outputs": [],
   "source": [
    "class CubeRNN(nn.Module):\n",
    "    def __init__(self, num_pieces, embedding_dim, hidden_size, output_size, num_layers=1):\n",
    "        super(CubeRNN, self).__init__()\n",
    "        self.embedding = nn.Embedding(num_pieces, embedding_dim)\n",
    "        self.rnn = nn.RNN(embedding_dim, hidden_size, num_layers, batch_first=True)\n",
    "        self.fc = nn.Linear(hidden_size, output_size)\n",
    "        self.softmax = nn.Softmax(dim=-1)\n",
    "    \n",
    "    def forward(self, x):\n",
    "        x = self.embedding(x)\n",
    "        h0 = torch.zeros(1, x.size(0), hidden_size)\n",
    "        out, _ = self.rnn(x, h0)\n",
    "        out = self.fc(out[:, -1, :]) \n",
    "        out = self.softmax(out)\n",
    "        return out\n",
    "\n",
    "flattened_cube_state = torch.arange(27)\n",
    "\n",
    "hidden_size = 128\n",
    "output_size = 12 \n",
    "\n",
    "model = CubeRNN(27, 8, hidden_size, output_size)\n",
    "\n",
    "input_tensor = torch.Tensor(np.arange(27)).to(torch.int64)\n",
    "\n",
    "input_tensor = input_tensor.unsqueeze(0)\n",
    "\n",
    "output = model(input_tensor)\n",
    "print(\"Model Output:\", output)"
   ]
  },
  {
   "cell_type": "markdown",
   "metadata": {},
   "source": [
    "#### we want to pull one line -- turn it into a sequence of cube states to moves -- then train on it -- then pull the next line and repeat."
   ]
  },
  {
   "cell_type": "code",
   "execution_count": 57,
   "metadata": {},
   "outputs": [
    {
     "name": "stdout",
     "output_type": "stream",
     "text": [
      "('BDL', Corner(L=Square('red'), D=Square('yellow'), B=Square('green')))\n",
      "('FDL', Corner(F=Square('red'), L=Square('yellow'), D=Square('blue')))\n",
      "('ULF', Corner(U=Square('red'), F=Square('white'), L=Square('blue')))\n",
      "('ULB', Corner(L=Square('orange'), U=Square('yellow'), B=Square('green')))\n",
      "('RUF', Corner(R=Square('orange'), F=Square('white'), U=Square('green')))\n",
      "('RUB', Corner(U=Square('orange'), R=Square('white'), B=Square('blue')))\n",
      "('RDB', Corner(D=Square('red'), B=Square('white'), R=Square('green')))\n",
      "('RDF', Corner(D=Square('orange'), F=Square('yellow'), R=Square('blue')))\n",
      "('LU', Edge(U=Square('red'), L=Square('green')))\n",
      "('FU', Edge(U=Square('orange'), F=Square('yellow')))\n",
      "('RU', Edge(R=Square('orange'), U=Square('blue')))\n",
      "('BU', Edge(U=Square('white'), B=Square('green')))\n",
      "('LF', Edge(F=Square('orange'), L=Square('white')))\n",
      "('LB', Edge(L=Square('red'), B=Square('blue')))\n",
      "('RF', Edge(F=Square('red'), R=Square('white')))\n",
      "('RB', Edge(R=Square('white'), B=Square('blue')))\n",
      "('FD', Edge(D=Square('orange'), F=Square('green')))\n",
      "('LD', Edge(D=Square('yellow'), L=Square('green')))\n",
      "('BD', Edge(D=Square('red'), B=Square('yellow')))\n",
      "('RD', Edge(R=Square('yellow'), D=Square('blue')))\n",
      "('F', Centre(F=Square('green')))\n",
      "('U', Centre(U=Square('yellow')))\n",
      "('R', Centre(R=Square('orange')))\n",
      "('L', Centre(L=Square('red')))\n",
      "('D', Centre(D=Square('white')))\n",
      "('B', Centre(B=Square('blue')))\n"
     ]
    }
   ],
   "source": [
    "cube = pc.Cube()\n",
    "\n",
    "alg = pc.Formula()\n",
    "random_alg = alg.random()\n",
    "cube(random_alg)\n",
    "\n",
    "index = 0\n",
    "for c in cube:\n",
    "    # piece_to_index_mapping[c[1]] = index\n",
    "    # location_to_array_position_mapping\n",
    "    print(c)\n",
    "    # index += 1"
   ]
  },
  {
   "cell_type": "markdown",
   "metadata": {},
   "source": [
    "do we even need centers?"
   ]
  },
  {
   "cell_type": "code",
   "execution_count": 58,
   "metadata": {},
   "outputs": [],
   "source": [
    "def encode_cube(cube, piece_to_index_mapping, location_to_array_position_mapping):\n",
    "    cube_array = [None for _ in range(26)]\n",
    "    for i, cubie_tuple in enumerate(cube):\n",
    "        location, cubie = cubie_tuple\n",
    "        squares = []\n",
    "        for square in cubie:\n",
    "            squares.append(str(square[1]))\n",
    "        squares = tuple(squares)\n",
    "        cube_array[location_to_array_position_mapping[location]] = piece_to_index_mapping[squares]\n",
    "    return torch.Tensor([c for c in cube_array]).to(torch.int64)\n",
    "\n",
    "def encode_move(move):\n",
    "    move_mapping = {\n",
    "        'U': 0, 'U\\'': 1,\n",
    "        'L': 2, 'L\\'': 3,\n",
    "        'F': 4, 'F\\'': 5,\n",
    "        'R': 6, 'R\\'': 7,\n",
    "        'B': 8, 'B\\'': 9,\n",
    "        'D': 10, 'D\\'': 11,\n",
    "        '$': 12\n",
    "    }\n",
    "    return move_mapping[move]\n",
    "\n",
    "def get_sequences(filename, num_sequences=1000):\n",
    "    log_sequences = 0\n",
    "    sequences = []\n",
    "    with open(filename, 'r') as f:\n",
    "        for line in f:\n",
    "            if len(sequences) == num_sequences:\n",
    "                return sequences\n",
    "            if len(sequences) % log_sequences == 0:\n",
    "                print(f'Sequence {log_sequences} of {num_sequences}...')\n",
    "            cubies_string, solution_string = line.split('|')\n",
    "            solution_string.translate(str.maketrans({'U2': 'U U', 'L2': 'L L', 'R2': 'R R', 'F2': 'F F', 'D2': 'D D', 'B2': 'B B'}))\n",
    "            cubies_set = set([eval(cubie_string) for cubie_string in cubies_string])\n",
    "            cube = pc.Cube(cubies_set)\n",
    "            moves = solution_string.split()\n",
    "            cube_states = []\n",
    "            move_states = []\n",
    "            for move in moves:\n",
    "                cube_states.append(encode_cube(cube))\n",
    "                move_states.append(encode_move(move))\n",
    "                cube.perform_step(move)\n",
    "            cube_states.append(encode_cube(cube))\n",
    "            move_states.append(encode_move('$'))\n",
    "            sequences.append(cube_states, move_states)\n",
    "    return sequences"
   ]
  },
  {
   "cell_type": "code",
   "execution_count": 59,
   "metadata": {},
   "outputs": [],
   "source": [
    "piece_to_index_mapping = {}\n",
    "location_to_array_position_mapping = {}\n",
    "\n",
    "cube = pc.Cube()\n",
    "index = 0\n",
    "for c in cube:\n",
    "    piece_to_index_mapping[tuple([str(square[1]) for square in c[1]])] = index\n",
    "    location_to_array_position_mapping[c[0]] = index\n",
    "    index += 1\n"
   ]
  },
  {
   "cell_type": "code",
   "execution_count": 60,
   "metadata": {},
   "outputs": [
    {
     "data": {
      "text/plain": [
       "{'BDL': 0,\n",
       " 'FDL': 1,\n",
       " 'ULF': 2,\n",
       " 'ULB': 3,\n",
       " 'RUF': 4,\n",
       " 'RUB': 5,\n",
       " 'RDB': 6,\n",
       " 'RDF': 7,\n",
       " 'LU': 8,\n",
       " 'FU': 9,\n",
       " 'RU': 10,\n",
       " 'BU': 11,\n",
       " 'LF': 12,\n",
       " 'LB': 13,\n",
       " 'RF': 14,\n",
       " 'RB': 15,\n",
       " 'FD': 16,\n",
       " 'LD': 17,\n",
       " 'BD': 18,\n",
       " 'RD': 19,\n",
       " 'F': 20,\n",
       " 'U': 21,\n",
       " 'R': 22,\n",
       " 'L': 23,\n",
       " 'D': 24,\n",
       " 'B': 25}"
      ]
     },
     "execution_count": 60,
     "metadata": {},
     "output_type": "execute_result"
    }
   ],
   "source": [
    "location_to_array_position_mapping"
   ]
  },
  {
   "cell_type": "code",
   "execution_count": 61,
   "metadata": {},
   "outputs": [
    {
     "data": {
      "text/plain": [
       "{('[r]', '[w]', '[b]'): 0,\n",
       " ('[r]', '[w]', '[g]'): 1,\n",
       " ('[r]', '[y]', '[g]'): 2,\n",
       " ('[r]', '[y]', '[b]'): 3,\n",
       " ('[o]', '[y]', '[g]'): 4,\n",
       " ('[o]', '[y]', '[b]'): 5,\n",
       " ('[o]', '[w]', '[b]'): 6,\n",
       " ('[o]', '[w]', '[g]'): 7,\n",
       " ('[r]', '[y]'): 8,\n",
       " ('[y]', '[g]'): 9,\n",
       " ('[o]', '[y]'): 10,\n",
       " ('[y]', '[b]'): 11,\n",
       " ('[r]', '[g]'): 12,\n",
       " ('[r]', '[b]'): 13,\n",
       " ('[o]', '[g]'): 14,\n",
       " ('[o]', '[b]'): 15,\n",
       " ('[w]', '[g]'): 16,\n",
       " ('[r]', '[w]'): 17,\n",
       " ('[w]', '[b]'): 18,\n",
       " ('[o]', '[w]'): 19,\n",
       " ('[g]',): 20,\n",
       " ('[y]',): 21,\n",
       " ('[o]',): 22,\n",
       " ('[r]',): 23,\n",
       " ('[w]',): 24,\n",
       " ('[b]',): 25}"
      ]
     },
     "execution_count": 61,
     "metadata": {},
     "output_type": "execute_result"
    }
   ],
   "source": [
    "piece_to_index_mapping"
   ]
  },
  {
   "cell_type": "code",
   "execution_count": 62,
   "metadata": {},
   "outputs": [
    {
     "name": "stdout",
     "output_type": "stream",
     "text": [
      "CUBE 0:\n",
      "SCRAMBLED:\n",
      "tensor([ 3,  7,  6,  0,  5,  4,  1,  2, 16, 15,  8, 10, 19, 14, 12,  9, 18, 17,\n",
      "        13, 11, 20, 21, 22, 23, 24, 25])\n",
      "         [r][y][o]\n",
      "         [w][y][r]\n",
      "         [b][b][o]\n",
      "[w][g][o][w][o][b][y][y][y][g][o][b]\n",
      "[o][r][o][w][g][r][g][o][g][y][b][g]\n",
      "[y][r][o][w][w][r][y][b][w][r][b][b]\n",
      "         [g][b][g]\n",
      "         [w][w][y]\n",
      "         [r][r][g]\n",
      "\n",
      "\n",
      "F2 U' R F2 B' R2 U L U L' U F' U' F U F U F' U R' U' R U L' U2 L B' U' B U' F U F' U L' U' L B L' B' U' B U L U' B' U2 L U L' B' L U2 L' U2 L' B L U L U2 L' U'\n",
      "SOLVED:\n",
      "tensor([ 0,  1,  2,  3,  4,  5,  6,  7,  8,  9, 10, 11, 12, 13, 14, 15, 16, 17,\n",
      "        18, 19, 20, 21, 22, 23, 24, 25])\n",
      "         [y][y][y]\n",
      "         [y][y][y]\n",
      "         [y][y][y]\n",
      "[r][r][r][g][g][g][o][o][o][b][b][b]\n",
      "[r][r][r][g][g][g][o][o][o][b][b][b]\n",
      "[r][r][r][g][g][g][o][o][o][b][b][b]\n",
      "         [w][w][w]\n",
      "         [w][w][w]\n",
      "         [w][w][w]\n",
      "\n",
      "\n",
      "\n",
      "CUBE 1:\n",
      "SCRAMBLED:\n",
      "tensor([ 3,  5,  6,  7,  0,  2,  4,  1, 19, 14, 11, 18,  9, 12, 10,  8, 16, 13,\n",
      "        17, 15, 20, 21, 22, 23, 24, 25])\n",
      "         [w][b][r]\n",
      "         [w][y][b]\n",
      "         [w][o][r]\n",
      "[g][o][b][o][g][b][w][y][g][y][w][o]\n",
      "[r][r][g][y][g][o][y][o][y][r][b][g]\n",
      "[b][r][y][b][w][r][g][b][o][g][w][r]\n",
      "         [o][g][w]\n",
      "         [b][w][o]\n",
      "         [y][r][y]\n",
      "\n",
      "\n",
      "B F' R' U F2 B2 D2 R D U2 L U' L' R U2 R' U' B U B' U' L U L' U F U F' U2 F U' F' U' F' U' F' L F L' U F U' F' U B' U2 F U' F' U2 B F U'\n",
      "SOLVED:\n",
      "tensor([ 0,  1,  2,  3,  4,  5,  6,  7,  8,  9, 10, 11, 12, 13, 14, 15, 16, 17,\n",
      "        18, 19, 20, 21, 22, 23, 24, 25])\n",
      "         [y][y][y]\n",
      "         [y][y][y]\n",
      "         [y][y][y]\n",
      "[r][r][r][g][g][g][o][o][o][b][b][b]\n",
      "[r][r][r][g][g][g][o][o][o][b][b][b]\n",
      "[r][r][r][g][g][g][o][o][o][b][b][b]\n",
      "         [w][w][w]\n",
      "         [w][w][w]\n",
      "         [w][w][w]\n",
      "\n",
      "\n",
      "\n",
      "CUBE 2:\n",
      "SCRAMBLED:\n",
      "tensor([ 2,  5,  7,  6,  3,  1,  4,  0, 18, 19, 13,  8, 15, 11, 12, 14, 17, 10,\n",
      "        16,  9, 20, 21, 22, 23, 24, 25])\n",
      "         [w][y][g]\n",
      "         [b][y][r]\n",
      "         [g][o][r]\n",
      "[o][w][w][o][w][y][b][b][r][w][r][b]\n",
      "[y][r][b][o][g][g][r][o][g][o][b][b]\n",
      "[g][o][b][o][r][b][r][y][o][g][w][y]\n",
      "         [y][w][w]\n",
      "         [y][w][g]\n",
      "         [r][g][y]\n",
      "\n",
      "\n",
      "B U' R B' D2 F R' F' D U2 R U' R' U R U' R' L' U L U' B U B' F U F' L U2 L' U2 B' U' B L' U2 L U' F U F' U' F' L' F B' U' B U F' L2 F' R2 F L' F' R2 F2\n",
      "SOLVED:\n",
      "tensor([ 0,  1,  2,  3,  4,  5,  6,  7,  8,  9, 10, 11, 12, 13, 14, 15, 16, 17,\n",
      "        18, 19, 20, 21, 22, 23, 24, 25])\n",
      "         [y][y][y]\n",
      "         [y][y][y]\n",
      "         [y][y][y]\n",
      "[r][r][r][g][g][g][o][o][o][b][b][b]\n",
      "[r][r][r][g][g][g][o][o][o][b][b][b]\n",
      "[r][r][r][g][g][g][o][o][o][b][b][b]\n",
      "         [w][w][w]\n",
      "         [w][w][w]\n",
      "         [w][w][w]\n",
      "\n",
      "\n",
      "\n",
      "CUBE 3:\n",
      "SCRAMBLED:\n",
      "tensor([ 0,  7,  3,  6,  2,  4,  5,  1, 19, 18,  9, 13, 16, 12, 17, 10, 14,  8,\n",
      "        11, 15, 20, 21, 22, 23, 24, 25])\n",
      "         [w][b][o]\n",
      "         [o][y][y]\n",
      "         [y][b][g]\n",
      "[o][w][b][r][w][y][r][g][y][g][r][b]\n",
      "[g][r][w][g][g][w][r][o][y][o][b][r]\n",
      "[w][y][g][o][g][w][r][o][o][y][y][r]\n",
      "         [w][o][g]\n",
      "         [r][w][b]\n",
      "         [b][b][b]\n",
      "\n",
      "\n",
      "U' R' F D2 R' F2 R U R' U2 R U' R' U R U R' B U2 B' R' U2 R U R' U2 R L U L' B' U2 B L U L' U' F U F' U2 F U' F' U B L F' L F L' F' L F L2 B' U2 L U' L U L U L U' L' U' L2\n",
      "SOLVED:\n",
      "tensor([ 0,  1,  2,  3,  4,  5,  6,  7,  8,  9, 10, 11, 12, 13, 14, 15, 16, 17,\n",
      "        18, 19, 20, 21, 22, 23, 24, 25])\n",
      "         [y][y][y]\n",
      "         [y][y][y]\n",
      "         [y][y][y]\n",
      "[r][r][r][g][g][g][o][o][o][b][b][b]\n",
      "[r][r][r][g][g][g][o][o][o][b][b][b]\n",
      "[r][r][r][g][g][g][o][o][o][b][b][b]\n",
      "         [w][w][w]\n",
      "         [w][w][w]\n",
      "         [w][w][w]\n",
      "\n",
      "\n",
      "\n",
      "CUBE 4:\n",
      "SCRAMBLED:\n",
      "tensor([ 3,  5,  4,  1,  2,  0,  7,  6,  9, 10, 12, 16, 15, 18, 14, 17,  8, 19,\n",
      "        13, 11, 20, 21, 22, 23, 24, 25])\n",
      "         [g][w][w]\n",
      "         [y][y][g]\n",
      "         [o][o][y]\n",
      "[w][g][y][g][y][r][g][r][r][b][g][r]\n",
      "[b][r][o][b][g][o][g][o][w][r][b][w]\n",
      "[y][o][o][y][y][o][b][y][o][w][b][b]\n",
      "         [b][r][w]\n",
      "         [w][w][b]\n",
      "         [r][r][g]\n",
      "\n",
      "\n",
      "B2 D R B D F U' F' U' F' U' F U B U' B' U B U' B' U L U L' B' U B U2 L U L' U L' U' L U L' U2 L U L F U F' U L' U2 L' B L B' U' B' U2 B U2 B' R B U B' U' B' R' B2 U'\n",
      "SOLVED:\n",
      "tensor([ 0,  1,  2,  3,  4,  5,  6,  7,  8,  9, 10, 11, 12, 13, 14, 15, 16, 17,\n",
      "        18, 19, 20, 21, 22, 23, 24, 25])\n",
      "         [y][y][y]\n",
      "         [y][y][y]\n",
      "         [y][y][y]\n",
      "[r][r][r][g][g][g][o][o][o][b][b][b]\n",
      "[r][r][r][g][g][g][o][o][o][b][b][b]\n",
      "[r][r][r][g][g][g][o][o][o][b][b][b]\n",
      "         [w][w][w]\n",
      "         [w][w][w]\n",
      "         [w][w][w]\n",
      "\n",
      "\n",
      "\n"
     ]
    }
   ],
   "source": [
    "from pycuber.solver import CFOPSolver\n",
    "\n",
    "for i in range(5):\n",
    "    print(f'CUBE {i}:')\n",
    "    cube = pc.Cube()\n",
    "    alg = pc.Formula()\n",
    "    random_alg = alg.random()\n",
    "    cube(random_alg)\n",
    "    original_cube = cube.copy()\n",
    "    print(f'SCRAMBLED:\\n{encode_cube(cube, piece_to_index_mapping, location_to_array_position_mapping)}')\n",
    "    print(cube)\n",
    "    print()\n",
    "    solver = CFOPSolver(cube)\n",
    "    solution = solver.solve(cube)\n",
    "    print(solution)\n",
    "    original_cube.perform_algo(solution)\n",
    "    print(f'SOLVED:\\n{encode_cube(original_cube, piece_to_index_mapping, location_to_array_position_mapping)}')\n",
    "    print(original_cube)\n",
    "    print()\n",
    "    print()"
   ]
  },
  {
   "cell_type": "code",
   "execution_count": 63,
   "metadata": {},
   "outputs": [
    {
     "ename": "ZeroDivisionError",
     "evalue": "integer modulo by zero",
     "output_type": "error",
     "traceback": [
      "\u001b[0;31m---------------------------------------------------------------------------\u001b[0m",
      "\u001b[0;31mZeroDivisionError\u001b[0m                         Traceback (most recent call last)",
      "Cell \u001b[0;32mIn[63], line 1\u001b[0m\n\u001b[0;32m----> 1\u001b[0m sequences \u001b[38;5;241m=\u001b[39m \u001b[43mget_sequences\u001b[49m\u001b[43m(\u001b[49m\u001b[38;5;124;43m'\u001b[39;49m\u001b[38;5;124;43mdata/train_0.dat\u001b[39;49m\u001b[38;5;124;43m'\u001b[39;49m\u001b[43m,\u001b[49m\u001b[43m \u001b[49m\u001b[43mnum_sequences\u001b[49m\u001b[38;5;241;43m=\u001b[39;49m\u001b[38;5;241;43m100\u001b[39;49m\u001b[43m)\u001b[49m\n\u001b[1;32m      3\u001b[0m num_pieces \u001b[38;5;241m=\u001b[39m \u001b[38;5;241m27\u001b[39m\n\u001b[1;32m      4\u001b[0m embedding_dim \u001b[38;5;241m=\u001b[39m \u001b[38;5;241m16\u001b[39m \n",
      "Cell \u001b[0;32mIn[58], line 31\u001b[0m, in \u001b[0;36mget_sequences\u001b[0;34m(filename, num_sequences)\u001b[0m\n\u001b[1;32m     29\u001b[0m \u001b[38;5;28;01mif\u001b[39;00m \u001b[38;5;28mlen\u001b[39m(sequences) \u001b[38;5;241m==\u001b[39m num_sequences:\n\u001b[1;32m     30\u001b[0m     \u001b[38;5;28;01mreturn\u001b[39;00m sequences\n\u001b[0;32m---> 31\u001b[0m \u001b[38;5;28;01mif\u001b[39;00m \u001b[38;5;28;43mlen\u001b[39;49m\u001b[43m(\u001b[49m\u001b[43msequences\u001b[49m\u001b[43m)\u001b[49m\u001b[43m \u001b[49m\u001b[38;5;241;43m%\u001b[39;49m\u001b[43m \u001b[49m\u001b[43mlog_sequences\u001b[49m \u001b[38;5;241m==\u001b[39m \u001b[38;5;241m0\u001b[39m:\n\u001b[1;32m     32\u001b[0m     \u001b[38;5;28mprint\u001b[39m(\u001b[38;5;124mf\u001b[39m\u001b[38;5;124m'\u001b[39m\u001b[38;5;124mSequence \u001b[39m\u001b[38;5;132;01m{\u001b[39;00mlog_sequences\u001b[38;5;132;01m}\u001b[39;00m\u001b[38;5;124m of \u001b[39m\u001b[38;5;132;01m{\u001b[39;00mnum_sequences\u001b[38;5;132;01m}\u001b[39;00m\u001b[38;5;124m...\u001b[39m\u001b[38;5;124m'\u001b[39m)\n\u001b[1;32m     33\u001b[0m cubies_string, solution_string \u001b[38;5;241m=\u001b[39m line\u001b[38;5;241m.\u001b[39msplit(\u001b[38;5;124m'\u001b[39m\u001b[38;5;124m|\u001b[39m\u001b[38;5;124m'\u001b[39m)\n",
      "\u001b[0;31mZeroDivisionError\u001b[0m: integer modulo by zero"
     ]
    }
   ],
   "source": [
    "sequences = get_sequences('data/train_0.dat', num_sequences=100)\n",
    "\n",
    "num_pieces = 27\n",
    "embedding_dim = 16 \n",
    "hidden_size = 128\n",
    "output_size = 13\n",
    "num_layers = 1\n",
    "\n",
    "model = CubeRNN(num_pieces, embedding_dim, hidden_size, output_size, num_layers)\n",
    "\n",
    "criterion = nn.CrossEntropyLoss()\n",
    "optimizer = torch.optim.Adam(model.parameters(), lr=0.001)"
   ]
  },
  {
   "cell_type": "code",
   "execution_count": null,
   "metadata": {},
   "outputs": [],
   "source": [
    "output[0].sum()"
   ]
  },
  {
   "cell_type": "code",
   "execution_count": 83,
   "metadata": {},
   "outputs": [],
   "source": [
    "import random\n",
    "import pycuber as pc\n",
    "from pycuber import *\n",
    "\n",
    "def encode_cube(cube):\n",
    "    piece_to_index_mapping = {}\n",
    "    location_to_array_position_mapping = {}\n",
    "    mapping_cube = pc.Cube()\n",
    "    index = 0\n",
    "    for c in mapping_cube:\n",
    "        piece_to_index_mapping[tuple([str(square[1]) for square in c[1]])] = index\n",
    "        location_to_array_position_mapping[c[0]] = index\n",
    "        index += 1\n",
    "    cube_array = [None for _ in range(26)]\n",
    "    for i, cubie_tuple in enumerate(cube):\n",
    "        location, cubie = cubie_tuple\n",
    "        squares = []\n",
    "        for square in cubie:\n",
    "            squares.append(str(square[1]))\n",
    "        squares = tuple(squares)\n",
    "        cube_array[location_to_array_position_mapping[location]] = piece_to_index_mapping[squares]\n",
    "    print(cube_array)\n",
    "    return torch.Tensor([c for c in cube_array]).to(torch.int64)\n",
    "\n",
    "\n",
    "def encode_move(move):\n",
    "    move_mapping = {\n",
    "        'U': 0, 'U\\'': 1,\n",
    "        'L': 2, 'L\\'': 3,\n",
    "        'F': 4, 'F\\'': 5,\n",
    "        'R': 6, 'R\\'': 7,\n",
    "        'B': 8, 'B\\'': 9,\n",
    "        'D': 10, 'D\\'': 11,\n",
    "        '$': 12\n",
    "    }\n",
    "    return move_mapping[move]\n",
    "\n",
    "\n",
    "def random_line(filename, prev_lines):\n",
    "    with open(filename, 'r') as file:\n",
    "        rand_line = next(file)\n",
    "        rand_num = 0\n",
    "        for num, line in enumerate(file, 2):\n",
    "            if random.randrange(num) or num in prev_lines:\n",
    "                continue\n",
    "            rand_line = line\n",
    "            rand_num = num\n",
    "        return rand_num, rand_line\n",
    "\n",
    "\n",
    "def yield_sequences(filename, num_sequences=1000):\n",
    "    i = 0\n",
    "    prev_lines = []\n",
    "    while i < num_sequences:\n",
    "        line_num, line = random_line(filename, prev_lines)\n",
    "        print(line)\n",
    "        prev_lines.append(line_num)\n",
    "        cubies_string, solution_string = line.split('|')\n",
    "        mapping = {'U2': 'U U', 'L2': 'L L', 'R2': 'R R', 'F2': 'F F', 'D2': 'D D', 'B2': 'B B'}\n",
    "        for k, v in mapping.items():\n",
    "            solution_string = solution_string.replace(k, v)\n",
    "        cubies_set = set([eval(cubie_string) for cubie_string in cubies_string.split(';')])\n",
    "        cube = pc.Cube(cubies_set)\n",
    "        print(cube)\n",
    "        moves = solution_string.split()\n",
    "        cube_states = []\n",
    "        move_states = []\n",
    "        for move in moves:\n",
    "            cube_states.append(encode_cube(cube))\n",
    "            move_states.append(encode_move(move))\n",
    "            cube.perform_step(move)\n",
    "        cube_states.append(encode_cube(cube))\n",
    "        move_states.append(encode_move('$'))\n",
    "        if i % 100 == 0:\n",
    "            print(f'Sequnce {i} of {num_sequences}')\n",
    "        i += 1\n",
    "        sequence = cube_states, move_states\n",
    "        print(sequence)\n",
    "        yield sequence"
   ]
  },
  {
   "cell_type": "code",
   "execution_count": 85,
   "metadata": {},
   "outputs": [
    {
     "name": "stdout",
     "output_type": "stream",
     "text": [
      "Corner(D=Square('orange'), B=Square('white'), L=Square('green'));Corner(L=Square('red'), D=Square('white'), F=Square('green'));Corner(U=Square('orange'), F=Square('yellow'), L=Square('blue'));Corner(B=Square('red'), U=Square('white'), L=Square('blue'));Corner(F=Square('red'), U=Square('yellow'), R=Square('green'));Corner(U=Square('red'), R=Square('yellow'), B=Square('blue'));Corner(D=Square('orange'), B=Square('yellow'), R=Square('green'));Corner(F=Square('orange'), D=Square('white'), R=Square('blue'));Edge(L=Square('red'), U=Square('green'));Edge(U=Square('red'), F=Square('yellow'));Edge(U=Square('red'), R=Square('white'));Edge(B=Square('white'), U=Square('blue'));Edge(L=Square('red'), F=Square('blue'));Edge(L=Square('yellow'), B=Square('green'));Edge(R=Square('orange'), F=Square('green'));Edge(R=Square('yellow'), B=Square('blue'));Edge(F=Square('orange'), D=Square('yellow'));Edge(L=Square('orange'), D=Square('white'));Edge(D=Square('orange'), B=Square('blue'));Edge(D=Square('white'), R=Square('green'));Centre(F=Square('green'));Centre(U=Square('yellow'));Centre(R=Square('orange'));Centre(L=Square('red'));Centre(D=Square('white'));Centre(B=Square('blue'))|B' D R B' D' B D2 U R U2 R' U2 R U' R' L U L' U R' U' R U R' U' R U' L' U L U2 L U L' U L U L' U' L' B L2 U L' U' B' U L2 D' B U' B U B' D L2 F U' F'\n",
      "\n",
      "         [w][b][r]\n",
      "         [g][y][r]\n",
      "         [o][r][y]\n",
      "[b][r][b][y][y][r][g][w][y][b][w][r]\n",
      "[y][r][r][b][g][g][o][o][y][b][b][g]\n",
      "[g][o][r][g][o][o][b][g][g][y][b][w]\n",
      "         [w][y][w]\n",
      "         [w][w][w]\n",
      "         [o][o][o]\n",
      "\n",
      "[7, 1, 5, 0, 2, 3, 4, 6, 12, 8, 17, 18, 13, 9, 14, 11, 10, 19, 15, 16, 20, 21, 22, 23, 24, 25]\n",
      "[4, 1, 5, 7, 2, 0, 3, 6, 12, 8, 17, 9, 13, 15, 14, 18, 10, 19, 11, 16, 20, 21, 22, 23, 24, 25]\n",
      "[3, 4, 5, 7, 2, 0, 6, 1, 12, 8, 17, 9, 13, 15, 14, 18, 19, 11, 16, 10, 20, 21, 22, 23, 24, 25]\n",
      "[3, 4, 5, 7, 1, 2, 0, 6, 12, 8, 14, 9, 13, 15, 10, 17, 19, 11, 16, 18, 20, 21, 22, 23, 24, 25]\n",
      "[0, 4, 5, 3, 1, 7, 2, 6, 12, 8, 14, 15, 13, 16, 10, 9, 19, 11, 17, 18, 20, 21, 22, 23, 24, 25]\n",
      "[4, 6, 5, 3, 1, 7, 0, 2, 12, 8, 14, 15, 13, 16, 10, 9, 18, 19, 11, 17, 20, 21, 22, 23, 24, 25]\n",
      "[3, 6, 5, 7, 1, 0, 4, 2, 12, 8, 14, 9, 13, 15, 10, 11, 18, 19, 16, 17, 20, 21, 22, 23, 24, 25]\n",
      "[4, 3, 5, 7, 1, 0, 2, 6, 12, 8, 14, 9, 13, 15, 10, 11, 19, 16, 17, 18, 20, 21, 22, 23, 24, 25]\n",
      "[2, 4, 5, 7, 1, 0, 6, 3, 12, 8, 14, 9, 13, 15, 10, 11, 16, 17, 18, 19, 20, 21, 22, 23, 24, 25]\n",
      "[2, 4, 1, 5, 0, 7, 6, 3, 8, 14, 9, 12, 13, 15, 10, 11, 16, 17, 18, 19, 20, 21, 22, 23, 24, 25]\n",
      "[2, 4, 1, 5, 3, 0, 7, 6, 8, 14, 10, 12, 13, 15, 19, 9, 16, 17, 18, 11, 20, 21, 22, 23, 24, 25]\n",
      "[2, 4, 3, 1, 0, 5, 7, 6, 14, 10, 12, 8, 13, 15, 19, 9, 16, 17, 18, 11, 20, 21, 22, 23, 24, 25]\n",
      "[2, 4, 0, 3, 5, 1, 7, 6, 10, 12, 8, 14, 13, 15, 19, 9, 16, 17, 18, 11, 20, 21, 22, 23, 24, 25]\n",
      "[2, 4, 0, 3, 1, 7, 6, 5, 10, 12, 9, 14, 13, 15, 8, 11, 16, 17, 18, 19, 20, 21, 22, 23, 24, 25]\n",
      "[2, 4, 1, 0, 7, 3, 6, 5, 12, 9, 14, 10, 13, 15, 8, 11, 16, 17, 18, 19, 20, 21, 22, 23, 24, 25]\n",
      "[2, 4, 7, 1, 3, 0, 6, 5, 9, 14, 10, 12, 13, 15, 8, 11, 16, 17, 18, 19, 20, 21, 22, 23, 24, 25]\n",
      "[2, 4, 7, 1, 5, 3, 0, 6, 9, 14, 8, 12, 13, 15, 19, 10, 16, 17, 18, 11, 20, 21, 22, 23, 24, 25]\n",
      "[2, 4, 1, 3, 7, 5, 0, 6, 12, 9, 14, 8, 13, 15, 19, 10, 16, 17, 18, 11, 20, 21, 22, 23, 24, 25]\n",
      "[2, 4, 1, 3, 5, 0, 6, 7, 12, 9, 10, 8, 13, 15, 14, 11, 16, 17, 18, 19, 20, 21, 22, 23, 24, 25]\n",
      "[4, 1, 3, 2, 5, 0, 6, 7, 15, 9, 10, 8, 12, 17, 14, 11, 16, 13, 18, 19, 20, 21, 22, 23, 24, 25]\n",
      "[4, 1, 5, 3, 0, 2, 6, 7, 9, 10, 8, 15, 12, 17, 14, 11, 16, 13, 18, 19, 20, 21, 22, 23, 24, 25]\n",
      "[3, 4, 1, 5, 0, 2, 6, 7, 12, 10, 8, 15, 13, 9, 14, 11, 16, 17, 18, 19, 20, 21, 22, 23, 24, 25]\n",
      "[3, 4, 0, 1, 2, 5, 6, 7, 10, 8, 15, 12, 13, 9, 14, 11, 16, 17, 18, 19, 20, 21, 22, 23, 24, 25]\n",
      "[3, 4, 0, 1, 5, 6, 7, 2, 10, 8, 11, 12, 13, 9, 15, 19, 16, 17, 18, 14, 20, 21, 22, 23, 24, 25]\n",
      "[3, 4, 1, 6, 0, 5, 7, 2, 12, 10, 8, 11, 13, 9, 15, 19, 16, 17, 18, 14, 20, 21, 22, 23, 24, 25]\n",
      "[3, 4, 1, 6, 2, 0, 5, 7, 12, 10, 15, 11, 13, 9, 14, 8, 16, 17, 18, 19, 20, 21, 22, 23, 24, 25]\n",
      "[3, 4, 2, 1, 0, 6, 5, 7, 10, 15, 11, 12, 13, 9, 14, 8, 16, 17, 18, 19, 20, 21, 22, 23, 24, 25]\n",
      "[3, 4, 2, 1, 6, 5, 7, 0, 10, 15, 8, 12, 13, 9, 11, 19, 16, 17, 18, 14, 20, 21, 22, 23, 24, 25]\n",
      "[3, 4, 1, 5, 2, 6, 7, 0, 12, 10, 15, 8, 13, 9, 11, 19, 16, 17, 18, 14, 20, 21, 22, 23, 24, 25]\n",
      "[3, 4, 1, 5, 0, 2, 6, 7, 12, 10, 11, 8, 13, 9, 14, 15, 16, 17, 18, 19, 20, 21, 22, 23, 24, 25]\n",
      "[3, 4, 5, 2, 1, 0, 6, 7, 8, 12, 10, 11, 13, 9, 14, 15, 16, 17, 18, 19, 20, 21, 22, 23, 24, 25]\n",
      "[2, 3, 4, 5, 1, 0, 6, 7, 13, 12, 10, 11, 17, 8, 14, 15, 16, 9, 18, 19, 20, 21, 22, 23, 24, 25]\n",
      "[2, 3, 1, 4, 0, 5, 6, 7, 12, 10, 11, 13, 17, 8, 14, 15, 16, 9, 18, 19, 20, 21, 22, 23, 24, 25]\n",
      "[3, 1, 4, 2, 0, 5, 6, 7, 8, 10, 11, 13, 12, 9, 14, 15, 16, 17, 18, 19, 20, 21, 22, 23, 24, 25]\n",
      "[3, 1, 0, 4, 5, 2, 6, 7, 10, 11, 13, 8, 12, 9, 14, 15, 16, 17, 18, 19, 20, 21, 22, 23, 24, 25]\n",
      "[3, 1, 5, 0, 2, 4, 6, 7, 11, 13, 8, 10, 12, 9, 14, 15, 16, 17, 18, 19, 20, 21, 22, 23, 24, 25]\n",
      "[1, 5, 0, 3, 2, 4, 6, 7, 9, 13, 8, 10, 11, 17, 14, 15, 16, 12, 18, 19, 20, 21, 22, 23, 24, 25]\n",
      "[1, 5, 2, 0, 4, 3, 6, 7, 13, 8, 10, 9, 11, 17, 14, 15, 16, 12, 18, 19, 20, 21, 22, 23, 24, 25]\n",
      "[0, 1, 5, 2, 4, 3, 6, 7, 11, 8, 10, 9, 12, 13, 14, 15, 16, 17, 18, 19, 20, 21, 22, 23, 24, 25]\n",
      "[0, 1, 4, 5, 3, 2, 6, 7, 8, 10, 9, 11, 12, 13, 14, 15, 16, 17, 18, 19, 20, 21, 22, 23, 24, 25]\n",
      "[1, 4, 5, 0, 3, 2, 6, 7, 13, 10, 9, 11, 8, 17, 14, 15, 16, 12, 18, 19, 20, 21, 22, 23, 24, 25]\n",
      "[1, 4, 3, 5, 2, 0, 6, 7, 10, 9, 11, 13, 8, 17, 14, 15, 16, 12, 18, 19, 20, 21, 22, 23, 24, 25]\n",
      "[5, 1, 4, 3, 2, 0, 6, 7, 8, 9, 11, 13, 12, 10, 14, 15, 16, 17, 18, 19, 20, 21, 22, 23, 24, 25]\n",
      "[5, 1, 3, 0, 4, 2, 6, 7, 13, 8, 9, 11, 12, 10, 14, 15, 16, 17, 18, 19, 20, 21, 22, 23, 24, 25]\n",
      "[0, 5, 1, 3, 4, 2, 6, 7, 12, 8, 9, 11, 17, 13, 14, 15, 16, 10, 18, 19, 20, 21, 22, 23, 24, 25]\n",
      "[3, 5, 1, 2, 4, 6, 0, 7, 12, 8, 9, 15, 17, 11, 14, 18, 16, 10, 13, 19, 20, 21, 22, 23, 24, 25]\n",
      "[5, 1, 2, 3, 4, 6, 0, 7, 11, 8, 9, 15, 12, 10, 14, 18, 16, 17, 13, 19, 20, 21, 22, 23, 24, 25]\n",
      "[1, 2, 3, 5, 4, 6, 0, 7, 10, 8, 9, 15, 11, 17, 14, 18, 16, 12, 13, 19, 20, 21, 22, 23, 24, 25]\n",
      "[1, 2, 4, 3, 6, 5, 0, 7, 8, 9, 15, 10, 11, 17, 14, 18, 16, 12, 13, 19, 20, 21, 22, 23, 24, 25]\n",
      "[3, 1, 2, 4, 6, 5, 0, 7, 11, 9, 15, 10, 12, 8, 14, 18, 16, 17, 13, 19, 20, 21, 22, 23, 24, 25]\n",
      "[3, 1, 4, 5, 2, 6, 0, 7, 10, 11, 9, 15, 12, 8, 14, 18, 16, 17, 13, 19, 20, 21, 22, 23, 24, 25]\n",
      "[0, 1, 4, 3, 2, 5, 6, 7, 10, 11, 9, 8, 12, 13, 14, 15, 16, 17, 18, 19, 20, 21, 22, 23, 24, 25]\n",
      "[0, 1, 2, 4, 5, 3, 6, 7, 11, 9, 8, 10, 12, 13, 14, 15, 16, 17, 18, 19, 20, 21, 22, 23, 24, 25]\n",
      "[1, 2, 4, 0, 5, 3, 6, 7, 13, 9, 8, 10, 11, 17, 14, 15, 16, 12, 18, 19, 20, 21, 22, 23, 24, 25]\n",
      "[2, 4, 0, 1, 5, 3, 6, 7, 17, 9, 8, 10, 13, 12, 14, 15, 16, 11, 18, 19, 20, 21, 22, 23, 24, 25]\n",
      "[4, 7, 0, 1, 5, 3, 2, 6, 17, 9, 8, 10, 13, 12, 14, 15, 19, 16, 11, 18, 20, 21, 22, 23, 24, 25]\n",
      "[1, 7, 0, 3, 5, 2, 4, 6, 17, 9, 8, 15, 13, 10, 14, 11, 19, 16, 12, 18, 20, 21, 22, 23, 24, 25]\n",
      "[1, 7, 3, 2, 0, 5, 4, 6, 15, 17, 9, 8, 13, 10, 14, 11, 19, 16, 12, 18, 20, 21, 22, 23, 24, 25]\n",
      "[2, 7, 3, 5, 0, 4, 1, 6, 15, 17, 9, 11, 13, 8, 14, 12, 19, 16, 10, 18, 20, 21, 22, 23, 24, 25]\n",
      "[2, 7, 0, 3, 4, 5, 1, 6, 17, 9, 11, 15, 13, 8, 14, 12, 19, 16, 10, 18, 20, 21, 22, 23, 24, 25]\n",
      "[1, 7, 0, 2, 4, 3, 5, 6, 17, 9, 11, 8, 13, 10, 14, 15, 19, 16, 12, 18, 20, 21, 22, 23, 24, 25]\n",
      "[5, 1, 0, 2, 4, 3, 6, 7, 17, 9, 11, 8, 13, 10, 14, 15, 16, 12, 18, 19, 20, 21, 22, 23, 24, 25]\n",
      "[1, 0, 2, 5, 4, 3, 6, 7, 10, 9, 11, 8, 17, 12, 14, 15, 16, 13, 18, 19, 20, 21, 22, 23, 24, 25]\n",
      "[0, 2, 5, 1, 4, 3, 6, 7, 12, 9, 11, 8, 10, 13, 14, 15, 16, 17, 18, 19, 20, 21, 22, 23, 24, 25]\n",
      "[0, 7, 2, 1, 5, 3, 6, 4, 12, 10, 11, 8, 16, 13, 9, 15, 14, 17, 18, 19, 20, 21, 22, 23, 24, 25]\n",
      "[0, 7, 1, 3, 2, 5, 6, 4, 8, 12, 10, 11, 16, 13, 9, 15, 14, 17, 18, 19, 20, 21, 22, 23, 24, 25]\n",
      "[0, 1, 2, 3, 4, 5, 6, 7, 8, 9, 10, 11, 12, 13, 14, 15, 16, 17, 18, 19, 20, 21, 22, 23, 24, 25]\n",
      "Sequnce 0 of 1\n",
      "([tensor([ 7,  1,  5,  0,  2,  3,  4,  6, 12,  8, 17, 18, 13,  9, 14, 11, 10, 19,\n",
      "        15, 16, 20, 21, 22, 23, 24, 25]), tensor([ 4,  1,  5,  7,  2,  0,  3,  6, 12,  8, 17,  9, 13, 15, 14, 18, 10, 19,\n",
      "        11, 16, 20, 21, 22, 23, 24, 25]), tensor([ 3,  4,  5,  7,  2,  0,  6,  1, 12,  8, 17,  9, 13, 15, 14, 18, 19, 11,\n",
      "        16, 10, 20, 21, 22, 23, 24, 25]), tensor([ 3,  4,  5,  7,  1,  2,  0,  6, 12,  8, 14,  9, 13, 15, 10, 17, 19, 11,\n",
      "        16, 18, 20, 21, 22, 23, 24, 25]), tensor([ 0,  4,  5,  3,  1,  7,  2,  6, 12,  8, 14, 15, 13, 16, 10,  9, 19, 11,\n",
      "        17, 18, 20, 21, 22, 23, 24, 25]), tensor([ 4,  6,  5,  3,  1,  7,  0,  2, 12,  8, 14, 15, 13, 16, 10,  9, 18, 19,\n",
      "        11, 17, 20, 21, 22, 23, 24, 25]), tensor([ 3,  6,  5,  7,  1,  0,  4,  2, 12,  8, 14,  9, 13, 15, 10, 11, 18, 19,\n",
      "        16, 17, 20, 21, 22, 23, 24, 25]), tensor([ 4,  3,  5,  7,  1,  0,  2,  6, 12,  8, 14,  9, 13, 15, 10, 11, 19, 16,\n",
      "        17, 18, 20, 21, 22, 23, 24, 25]), tensor([ 2,  4,  5,  7,  1,  0,  6,  3, 12,  8, 14,  9, 13, 15, 10, 11, 16, 17,\n",
      "        18, 19, 20, 21, 22, 23, 24, 25]), tensor([ 2,  4,  1,  5,  0,  7,  6,  3,  8, 14,  9, 12, 13, 15, 10, 11, 16, 17,\n",
      "        18, 19, 20, 21, 22, 23, 24, 25]), tensor([ 2,  4,  1,  5,  3,  0,  7,  6,  8, 14, 10, 12, 13, 15, 19,  9, 16, 17,\n",
      "        18, 11, 20, 21, 22, 23, 24, 25]), tensor([ 2,  4,  3,  1,  0,  5,  7,  6, 14, 10, 12,  8, 13, 15, 19,  9, 16, 17,\n",
      "        18, 11, 20, 21, 22, 23, 24, 25]), tensor([ 2,  4,  0,  3,  5,  1,  7,  6, 10, 12,  8, 14, 13, 15, 19,  9, 16, 17,\n",
      "        18, 11, 20, 21, 22, 23, 24, 25]), tensor([ 2,  4,  0,  3,  1,  7,  6,  5, 10, 12,  9, 14, 13, 15,  8, 11, 16, 17,\n",
      "        18, 19, 20, 21, 22, 23, 24, 25]), tensor([ 2,  4,  1,  0,  7,  3,  6,  5, 12,  9, 14, 10, 13, 15,  8, 11, 16, 17,\n",
      "        18, 19, 20, 21, 22, 23, 24, 25]), tensor([ 2,  4,  7,  1,  3,  0,  6,  5,  9, 14, 10, 12, 13, 15,  8, 11, 16, 17,\n",
      "        18, 19, 20, 21, 22, 23, 24, 25]), tensor([ 2,  4,  7,  1,  5,  3,  0,  6,  9, 14,  8, 12, 13, 15, 19, 10, 16, 17,\n",
      "        18, 11, 20, 21, 22, 23, 24, 25]), tensor([ 2,  4,  1,  3,  7,  5,  0,  6, 12,  9, 14,  8, 13, 15, 19, 10, 16, 17,\n",
      "        18, 11, 20, 21, 22, 23, 24, 25]), tensor([ 2,  4,  1,  3,  5,  0,  6,  7, 12,  9, 10,  8, 13, 15, 14, 11, 16, 17,\n",
      "        18, 19, 20, 21, 22, 23, 24, 25]), tensor([ 4,  1,  3,  2,  5,  0,  6,  7, 15,  9, 10,  8, 12, 17, 14, 11, 16, 13,\n",
      "        18, 19, 20, 21, 22, 23, 24, 25]), tensor([ 4,  1,  5,  3,  0,  2,  6,  7,  9, 10,  8, 15, 12, 17, 14, 11, 16, 13,\n",
      "        18, 19, 20, 21, 22, 23, 24, 25]), tensor([ 3,  4,  1,  5,  0,  2,  6,  7, 12, 10,  8, 15, 13,  9, 14, 11, 16, 17,\n",
      "        18, 19, 20, 21, 22, 23, 24, 25]), tensor([ 3,  4,  0,  1,  2,  5,  6,  7, 10,  8, 15, 12, 13,  9, 14, 11, 16, 17,\n",
      "        18, 19, 20, 21, 22, 23, 24, 25]), tensor([ 3,  4,  0,  1,  5,  6,  7,  2, 10,  8, 11, 12, 13,  9, 15, 19, 16, 17,\n",
      "        18, 14, 20, 21, 22, 23, 24, 25]), tensor([ 3,  4,  1,  6,  0,  5,  7,  2, 12, 10,  8, 11, 13,  9, 15, 19, 16, 17,\n",
      "        18, 14, 20, 21, 22, 23, 24, 25]), tensor([ 3,  4,  1,  6,  2,  0,  5,  7, 12, 10, 15, 11, 13,  9, 14,  8, 16, 17,\n",
      "        18, 19, 20, 21, 22, 23, 24, 25]), tensor([ 3,  4,  2,  1,  0,  6,  5,  7, 10, 15, 11, 12, 13,  9, 14,  8, 16, 17,\n",
      "        18, 19, 20, 21, 22, 23, 24, 25]), tensor([ 3,  4,  2,  1,  6,  5,  7,  0, 10, 15,  8, 12, 13,  9, 11, 19, 16, 17,\n",
      "        18, 14, 20, 21, 22, 23, 24, 25]), tensor([ 3,  4,  1,  5,  2,  6,  7,  0, 12, 10, 15,  8, 13,  9, 11, 19, 16, 17,\n",
      "        18, 14, 20, 21, 22, 23, 24, 25]), tensor([ 3,  4,  1,  5,  0,  2,  6,  7, 12, 10, 11,  8, 13,  9, 14, 15, 16, 17,\n",
      "        18, 19, 20, 21, 22, 23, 24, 25]), tensor([ 3,  4,  5,  2,  1,  0,  6,  7,  8, 12, 10, 11, 13,  9, 14, 15, 16, 17,\n",
      "        18, 19, 20, 21, 22, 23, 24, 25]), tensor([ 2,  3,  4,  5,  1,  0,  6,  7, 13, 12, 10, 11, 17,  8, 14, 15, 16,  9,\n",
      "        18, 19, 20, 21, 22, 23, 24, 25]), tensor([ 2,  3,  1,  4,  0,  5,  6,  7, 12, 10, 11, 13, 17,  8, 14, 15, 16,  9,\n",
      "        18, 19, 20, 21, 22, 23, 24, 25]), tensor([ 3,  1,  4,  2,  0,  5,  6,  7,  8, 10, 11, 13, 12,  9, 14, 15, 16, 17,\n",
      "        18, 19, 20, 21, 22, 23, 24, 25]), tensor([ 3,  1,  0,  4,  5,  2,  6,  7, 10, 11, 13,  8, 12,  9, 14, 15, 16, 17,\n",
      "        18, 19, 20, 21, 22, 23, 24, 25]), tensor([ 3,  1,  5,  0,  2,  4,  6,  7, 11, 13,  8, 10, 12,  9, 14, 15, 16, 17,\n",
      "        18, 19, 20, 21, 22, 23, 24, 25]), tensor([ 1,  5,  0,  3,  2,  4,  6,  7,  9, 13,  8, 10, 11, 17, 14, 15, 16, 12,\n",
      "        18, 19, 20, 21, 22, 23, 24, 25]), tensor([ 1,  5,  2,  0,  4,  3,  6,  7, 13,  8, 10,  9, 11, 17, 14, 15, 16, 12,\n",
      "        18, 19, 20, 21, 22, 23, 24, 25]), tensor([ 0,  1,  5,  2,  4,  3,  6,  7, 11,  8, 10,  9, 12, 13, 14, 15, 16, 17,\n",
      "        18, 19, 20, 21, 22, 23, 24, 25]), tensor([ 0,  1,  4,  5,  3,  2,  6,  7,  8, 10,  9, 11, 12, 13, 14, 15, 16, 17,\n",
      "        18, 19, 20, 21, 22, 23, 24, 25]), tensor([ 1,  4,  5,  0,  3,  2,  6,  7, 13, 10,  9, 11,  8, 17, 14, 15, 16, 12,\n",
      "        18, 19, 20, 21, 22, 23, 24, 25]), tensor([ 1,  4,  3,  5,  2,  0,  6,  7, 10,  9, 11, 13,  8, 17, 14, 15, 16, 12,\n",
      "        18, 19, 20, 21, 22, 23, 24, 25]), tensor([ 5,  1,  4,  3,  2,  0,  6,  7,  8,  9, 11, 13, 12, 10, 14, 15, 16, 17,\n",
      "        18, 19, 20, 21, 22, 23, 24, 25]), tensor([ 5,  1,  3,  0,  4,  2,  6,  7, 13,  8,  9, 11, 12, 10, 14, 15, 16, 17,\n",
      "        18, 19, 20, 21, 22, 23, 24, 25]), tensor([ 0,  5,  1,  3,  4,  2,  6,  7, 12,  8,  9, 11, 17, 13, 14, 15, 16, 10,\n",
      "        18, 19, 20, 21, 22, 23, 24, 25]), tensor([ 3,  5,  1,  2,  4,  6,  0,  7, 12,  8,  9, 15, 17, 11, 14, 18, 16, 10,\n",
      "        13, 19, 20, 21, 22, 23, 24, 25]), tensor([ 5,  1,  2,  3,  4,  6,  0,  7, 11,  8,  9, 15, 12, 10, 14, 18, 16, 17,\n",
      "        13, 19, 20, 21, 22, 23, 24, 25]), tensor([ 1,  2,  3,  5,  4,  6,  0,  7, 10,  8,  9, 15, 11, 17, 14, 18, 16, 12,\n",
      "        13, 19, 20, 21, 22, 23, 24, 25]), tensor([ 1,  2,  4,  3,  6,  5,  0,  7,  8,  9, 15, 10, 11, 17, 14, 18, 16, 12,\n",
      "        13, 19, 20, 21, 22, 23, 24, 25]), tensor([ 3,  1,  2,  4,  6,  5,  0,  7, 11,  9, 15, 10, 12,  8, 14, 18, 16, 17,\n",
      "        13, 19, 20, 21, 22, 23, 24, 25]), tensor([ 3,  1,  4,  5,  2,  6,  0,  7, 10, 11,  9, 15, 12,  8, 14, 18, 16, 17,\n",
      "        13, 19, 20, 21, 22, 23, 24, 25]), tensor([ 0,  1,  4,  3,  2,  5,  6,  7, 10, 11,  9,  8, 12, 13, 14, 15, 16, 17,\n",
      "        18, 19, 20, 21, 22, 23, 24, 25]), tensor([ 0,  1,  2,  4,  5,  3,  6,  7, 11,  9,  8, 10, 12, 13, 14, 15, 16, 17,\n",
      "        18, 19, 20, 21, 22, 23, 24, 25]), tensor([ 1,  2,  4,  0,  5,  3,  6,  7, 13,  9,  8, 10, 11, 17, 14, 15, 16, 12,\n",
      "        18, 19, 20, 21, 22, 23, 24, 25]), tensor([ 2,  4,  0,  1,  5,  3,  6,  7, 17,  9,  8, 10, 13, 12, 14, 15, 16, 11,\n",
      "        18, 19, 20, 21, 22, 23, 24, 25]), tensor([ 4,  7,  0,  1,  5,  3,  2,  6, 17,  9,  8, 10, 13, 12, 14, 15, 19, 16,\n",
      "        11, 18, 20, 21, 22, 23, 24, 25]), tensor([ 1,  7,  0,  3,  5,  2,  4,  6, 17,  9,  8, 15, 13, 10, 14, 11, 19, 16,\n",
      "        12, 18, 20, 21, 22, 23, 24, 25]), tensor([ 1,  7,  3,  2,  0,  5,  4,  6, 15, 17,  9,  8, 13, 10, 14, 11, 19, 16,\n",
      "        12, 18, 20, 21, 22, 23, 24, 25]), tensor([ 2,  7,  3,  5,  0,  4,  1,  6, 15, 17,  9, 11, 13,  8, 14, 12, 19, 16,\n",
      "        10, 18, 20, 21, 22, 23, 24, 25]), tensor([ 2,  7,  0,  3,  4,  5,  1,  6, 17,  9, 11, 15, 13,  8, 14, 12, 19, 16,\n",
      "        10, 18, 20, 21, 22, 23, 24, 25]), tensor([ 1,  7,  0,  2,  4,  3,  5,  6, 17,  9, 11,  8, 13, 10, 14, 15, 19, 16,\n",
      "        12, 18, 20, 21, 22, 23, 24, 25]), tensor([ 5,  1,  0,  2,  4,  3,  6,  7, 17,  9, 11,  8, 13, 10, 14, 15, 16, 12,\n",
      "        18, 19, 20, 21, 22, 23, 24, 25]), tensor([ 1,  0,  2,  5,  4,  3,  6,  7, 10,  9, 11,  8, 17, 12, 14, 15, 16, 13,\n",
      "        18, 19, 20, 21, 22, 23, 24, 25]), tensor([ 0,  2,  5,  1,  4,  3,  6,  7, 12,  9, 11,  8, 10, 13, 14, 15, 16, 17,\n",
      "        18, 19, 20, 21, 22, 23, 24, 25]), tensor([ 0,  7,  2,  1,  5,  3,  6,  4, 12, 10, 11,  8, 16, 13,  9, 15, 14, 17,\n",
      "        18, 19, 20, 21, 22, 23, 24, 25]), tensor([ 0,  7,  1,  3,  2,  5,  6,  4,  8, 12, 10, 11, 16, 13,  9, 15, 14, 17,\n",
      "        18, 19, 20, 21, 22, 23, 24, 25]), tensor([ 0,  1,  2,  3,  4,  5,  6,  7,  8,  9, 10, 11, 12, 13, 14, 15, 16, 17,\n",
      "        18, 19, 20, 21, 22, 23, 24, 25])], [9, 10, 6, 9, 11, 8, 10, 10, 0, 6, 0, 0, 7, 0, 0, 6, 1, 7, 2, 0, 3, 0, 7, 1, 6, 0, 7, 1, 6, 1, 3, 0, 2, 0, 0, 2, 0, 3, 0, 2, 0, 3, 1, 3, 8, 2, 2, 0, 3, 1, 9, 0, 2, 2, 11, 8, 1, 8, 0, 9, 10, 2, 2, 4, 1, 5, 12])\n",
      "([tensor([ 7,  1,  5,  0,  2,  3,  4,  6, 12,  8, 17, 18, 13,  9, 14, 11, 10, 19,\n",
      "        15, 16, 20, 21, 22, 23, 24, 25]), tensor([ 4,  1,  5,  7,  2,  0,  3,  6, 12,  8, 17,  9, 13, 15, 14, 18, 10, 19,\n",
      "        11, 16, 20, 21, 22, 23, 24, 25]), tensor([ 3,  4,  5,  7,  2,  0,  6,  1, 12,  8, 17,  9, 13, 15, 14, 18, 19, 11,\n",
      "        16, 10, 20, 21, 22, 23, 24, 25]), tensor([ 3,  4,  5,  7,  1,  2,  0,  6, 12,  8, 14,  9, 13, 15, 10, 17, 19, 11,\n",
      "        16, 18, 20, 21, 22, 23, 24, 25]), tensor([ 0,  4,  5,  3,  1,  7,  2,  6, 12,  8, 14, 15, 13, 16, 10,  9, 19, 11,\n",
      "        17, 18, 20, 21, 22, 23, 24, 25]), tensor([ 4,  6,  5,  3,  1,  7,  0,  2, 12,  8, 14, 15, 13, 16, 10,  9, 18, 19,\n",
      "        11, 17, 20, 21, 22, 23, 24, 25]), tensor([ 3,  6,  5,  7,  1,  0,  4,  2, 12,  8, 14,  9, 13, 15, 10, 11, 18, 19,\n",
      "        16, 17, 20, 21, 22, 23, 24, 25]), tensor([ 4,  3,  5,  7,  1,  0,  2,  6, 12,  8, 14,  9, 13, 15, 10, 11, 19, 16,\n",
      "        17, 18, 20, 21, 22, 23, 24, 25]), tensor([ 2,  4,  5,  7,  1,  0,  6,  3, 12,  8, 14,  9, 13, 15, 10, 11, 16, 17,\n",
      "        18, 19, 20, 21, 22, 23, 24, 25]), tensor([ 2,  4,  1,  5,  0,  7,  6,  3,  8, 14,  9, 12, 13, 15, 10, 11, 16, 17,\n",
      "        18, 19, 20, 21, 22, 23, 24, 25]), tensor([ 2,  4,  1,  5,  3,  0,  7,  6,  8, 14, 10, 12, 13, 15, 19,  9, 16, 17,\n",
      "        18, 11, 20, 21, 22, 23, 24, 25]), tensor([ 2,  4,  3,  1,  0,  5,  7,  6, 14, 10, 12,  8, 13, 15, 19,  9, 16, 17,\n",
      "        18, 11, 20, 21, 22, 23, 24, 25]), tensor([ 2,  4,  0,  3,  5,  1,  7,  6, 10, 12,  8, 14, 13, 15, 19,  9, 16, 17,\n",
      "        18, 11, 20, 21, 22, 23, 24, 25]), tensor([ 2,  4,  0,  3,  1,  7,  6,  5, 10, 12,  9, 14, 13, 15,  8, 11, 16, 17,\n",
      "        18, 19, 20, 21, 22, 23, 24, 25]), tensor([ 2,  4,  1,  0,  7,  3,  6,  5, 12,  9, 14, 10, 13, 15,  8, 11, 16, 17,\n",
      "        18, 19, 20, 21, 22, 23, 24, 25]), tensor([ 2,  4,  7,  1,  3,  0,  6,  5,  9, 14, 10, 12, 13, 15,  8, 11, 16, 17,\n",
      "        18, 19, 20, 21, 22, 23, 24, 25]), tensor([ 2,  4,  7,  1,  5,  3,  0,  6,  9, 14,  8, 12, 13, 15, 19, 10, 16, 17,\n",
      "        18, 11, 20, 21, 22, 23, 24, 25]), tensor([ 2,  4,  1,  3,  7,  5,  0,  6, 12,  9, 14,  8, 13, 15, 19, 10, 16, 17,\n",
      "        18, 11, 20, 21, 22, 23, 24, 25]), tensor([ 2,  4,  1,  3,  5,  0,  6,  7, 12,  9, 10,  8, 13, 15, 14, 11, 16, 17,\n",
      "        18, 19, 20, 21, 22, 23, 24, 25]), tensor([ 4,  1,  3,  2,  5,  0,  6,  7, 15,  9, 10,  8, 12, 17, 14, 11, 16, 13,\n",
      "        18, 19, 20, 21, 22, 23, 24, 25]), tensor([ 4,  1,  5,  3,  0,  2,  6,  7,  9, 10,  8, 15, 12, 17, 14, 11, 16, 13,\n",
      "        18, 19, 20, 21, 22, 23, 24, 25]), tensor([ 3,  4,  1,  5,  0,  2,  6,  7, 12, 10,  8, 15, 13,  9, 14, 11, 16, 17,\n",
      "        18, 19, 20, 21, 22, 23, 24, 25]), tensor([ 3,  4,  0,  1,  2,  5,  6,  7, 10,  8, 15, 12, 13,  9, 14, 11, 16, 17,\n",
      "        18, 19, 20, 21, 22, 23, 24, 25]), tensor([ 3,  4,  0,  1,  5,  6,  7,  2, 10,  8, 11, 12, 13,  9, 15, 19, 16, 17,\n",
      "        18, 14, 20, 21, 22, 23, 24, 25]), tensor([ 3,  4,  1,  6,  0,  5,  7,  2, 12, 10,  8, 11, 13,  9, 15, 19, 16, 17,\n",
      "        18, 14, 20, 21, 22, 23, 24, 25]), tensor([ 3,  4,  1,  6,  2,  0,  5,  7, 12, 10, 15, 11, 13,  9, 14,  8, 16, 17,\n",
      "        18, 19, 20, 21, 22, 23, 24, 25]), tensor([ 3,  4,  2,  1,  0,  6,  5,  7, 10, 15, 11, 12, 13,  9, 14,  8, 16, 17,\n",
      "        18, 19, 20, 21, 22, 23, 24, 25]), tensor([ 3,  4,  2,  1,  6,  5,  7,  0, 10, 15,  8, 12, 13,  9, 11, 19, 16, 17,\n",
      "        18, 14, 20, 21, 22, 23, 24, 25]), tensor([ 3,  4,  1,  5,  2,  6,  7,  0, 12, 10, 15,  8, 13,  9, 11, 19, 16, 17,\n",
      "        18, 14, 20, 21, 22, 23, 24, 25]), tensor([ 3,  4,  1,  5,  0,  2,  6,  7, 12, 10, 11,  8, 13,  9, 14, 15, 16, 17,\n",
      "        18, 19, 20, 21, 22, 23, 24, 25]), tensor([ 3,  4,  5,  2,  1,  0,  6,  7,  8, 12, 10, 11, 13,  9, 14, 15, 16, 17,\n",
      "        18, 19, 20, 21, 22, 23, 24, 25]), tensor([ 2,  3,  4,  5,  1,  0,  6,  7, 13, 12, 10, 11, 17,  8, 14, 15, 16,  9,\n",
      "        18, 19, 20, 21, 22, 23, 24, 25]), tensor([ 2,  3,  1,  4,  0,  5,  6,  7, 12, 10, 11, 13, 17,  8, 14, 15, 16,  9,\n",
      "        18, 19, 20, 21, 22, 23, 24, 25]), tensor([ 3,  1,  4,  2,  0,  5,  6,  7,  8, 10, 11, 13, 12,  9, 14, 15, 16, 17,\n",
      "        18, 19, 20, 21, 22, 23, 24, 25]), tensor([ 3,  1,  0,  4,  5,  2,  6,  7, 10, 11, 13,  8, 12,  9, 14, 15, 16, 17,\n",
      "        18, 19, 20, 21, 22, 23, 24, 25]), tensor([ 3,  1,  5,  0,  2,  4,  6,  7, 11, 13,  8, 10, 12,  9, 14, 15, 16, 17,\n",
      "        18, 19, 20, 21, 22, 23, 24, 25]), tensor([ 1,  5,  0,  3,  2,  4,  6,  7,  9, 13,  8, 10, 11, 17, 14, 15, 16, 12,\n",
      "        18, 19, 20, 21, 22, 23, 24, 25]), tensor([ 1,  5,  2,  0,  4,  3,  6,  7, 13,  8, 10,  9, 11, 17, 14, 15, 16, 12,\n",
      "        18, 19, 20, 21, 22, 23, 24, 25]), tensor([ 0,  1,  5,  2,  4,  3,  6,  7, 11,  8, 10,  9, 12, 13, 14, 15, 16, 17,\n",
      "        18, 19, 20, 21, 22, 23, 24, 25]), tensor([ 0,  1,  4,  5,  3,  2,  6,  7,  8, 10,  9, 11, 12, 13, 14, 15, 16, 17,\n",
      "        18, 19, 20, 21, 22, 23, 24, 25]), tensor([ 1,  4,  5,  0,  3,  2,  6,  7, 13, 10,  9, 11,  8, 17, 14, 15, 16, 12,\n",
      "        18, 19, 20, 21, 22, 23, 24, 25]), tensor([ 1,  4,  3,  5,  2,  0,  6,  7, 10,  9, 11, 13,  8, 17, 14, 15, 16, 12,\n",
      "        18, 19, 20, 21, 22, 23, 24, 25]), tensor([ 5,  1,  4,  3,  2,  0,  6,  7,  8,  9, 11, 13, 12, 10, 14, 15, 16, 17,\n",
      "        18, 19, 20, 21, 22, 23, 24, 25]), tensor([ 5,  1,  3,  0,  4,  2,  6,  7, 13,  8,  9, 11, 12, 10, 14, 15, 16, 17,\n",
      "        18, 19, 20, 21, 22, 23, 24, 25]), tensor([ 0,  5,  1,  3,  4,  2,  6,  7, 12,  8,  9, 11, 17, 13, 14, 15, 16, 10,\n",
      "        18, 19, 20, 21, 22, 23, 24, 25]), tensor([ 3,  5,  1,  2,  4,  6,  0,  7, 12,  8,  9, 15, 17, 11, 14, 18, 16, 10,\n",
      "        13, 19, 20, 21, 22, 23, 24, 25]), tensor([ 5,  1,  2,  3,  4,  6,  0,  7, 11,  8,  9, 15, 12, 10, 14, 18, 16, 17,\n",
      "        13, 19, 20, 21, 22, 23, 24, 25]), tensor([ 1,  2,  3,  5,  4,  6,  0,  7, 10,  8,  9, 15, 11, 17, 14, 18, 16, 12,\n",
      "        13, 19, 20, 21, 22, 23, 24, 25]), tensor([ 1,  2,  4,  3,  6,  5,  0,  7,  8,  9, 15, 10, 11, 17, 14, 18, 16, 12,\n",
      "        13, 19, 20, 21, 22, 23, 24, 25]), tensor([ 3,  1,  2,  4,  6,  5,  0,  7, 11,  9, 15, 10, 12,  8, 14, 18, 16, 17,\n",
      "        13, 19, 20, 21, 22, 23, 24, 25]), tensor([ 3,  1,  4,  5,  2,  6,  0,  7, 10, 11,  9, 15, 12,  8, 14, 18, 16, 17,\n",
      "        13, 19, 20, 21, 22, 23, 24, 25]), tensor([ 0,  1,  4,  3,  2,  5,  6,  7, 10, 11,  9,  8, 12, 13, 14, 15, 16, 17,\n",
      "        18, 19, 20, 21, 22, 23, 24, 25]), tensor([ 0,  1,  2,  4,  5,  3,  6,  7, 11,  9,  8, 10, 12, 13, 14, 15, 16, 17,\n",
      "        18, 19, 20, 21, 22, 23, 24, 25]), tensor([ 1,  2,  4,  0,  5,  3,  6,  7, 13,  9,  8, 10, 11, 17, 14, 15, 16, 12,\n",
      "        18, 19, 20, 21, 22, 23, 24, 25]), tensor([ 2,  4,  0,  1,  5,  3,  6,  7, 17,  9,  8, 10, 13, 12, 14, 15, 16, 11,\n",
      "        18, 19, 20, 21, 22, 23, 24, 25]), tensor([ 4,  7,  0,  1,  5,  3,  2,  6, 17,  9,  8, 10, 13, 12, 14, 15, 19, 16,\n",
      "        11, 18, 20, 21, 22, 23, 24, 25]), tensor([ 1,  7,  0,  3,  5,  2,  4,  6, 17,  9,  8, 15, 13, 10, 14, 11, 19, 16,\n",
      "        12, 18, 20, 21, 22, 23, 24, 25]), tensor([ 1,  7,  3,  2,  0,  5,  4,  6, 15, 17,  9,  8, 13, 10, 14, 11, 19, 16,\n",
      "        12, 18, 20, 21, 22, 23, 24, 25]), tensor([ 2,  7,  3,  5,  0,  4,  1,  6, 15, 17,  9, 11, 13,  8, 14, 12, 19, 16,\n",
      "        10, 18, 20, 21, 22, 23, 24, 25]), tensor([ 2,  7,  0,  3,  4,  5,  1,  6, 17,  9, 11, 15, 13,  8, 14, 12, 19, 16,\n",
      "        10, 18, 20, 21, 22, 23, 24, 25]), tensor([ 1,  7,  0,  2,  4,  3,  5,  6, 17,  9, 11,  8, 13, 10, 14, 15, 19, 16,\n",
      "        12, 18, 20, 21, 22, 23, 24, 25]), tensor([ 5,  1,  0,  2,  4,  3,  6,  7, 17,  9, 11,  8, 13, 10, 14, 15, 16, 12,\n",
      "        18, 19, 20, 21, 22, 23, 24, 25]), tensor([ 1,  0,  2,  5,  4,  3,  6,  7, 10,  9, 11,  8, 17, 12, 14, 15, 16, 13,\n",
      "        18, 19, 20, 21, 22, 23, 24, 25]), tensor([ 0,  2,  5,  1,  4,  3,  6,  7, 12,  9, 11,  8, 10, 13, 14, 15, 16, 17,\n",
      "        18, 19, 20, 21, 22, 23, 24, 25]), tensor([ 0,  7,  2,  1,  5,  3,  6,  4, 12, 10, 11,  8, 16, 13,  9, 15, 14, 17,\n",
      "        18, 19, 20, 21, 22, 23, 24, 25]), tensor([ 0,  7,  1,  3,  2,  5,  6,  4,  8, 12, 10, 11, 16, 13,  9, 15, 14, 17,\n",
      "        18, 19, 20, 21, 22, 23, 24, 25]), tensor([ 0,  1,  2,  3,  4,  5,  6,  7,  8,  9, 10, 11, 12, 13, 14, 15, 16, 17,\n",
      "        18, 19, 20, 21, 22, 23, 24, 25])], [9, 10, 6, 9, 11, 8, 10, 10, 0, 6, 0, 0, 7, 0, 0, 6, 1, 7, 2, 0, 3, 0, 7, 1, 6, 0, 7, 1, 6, 1, 3, 0, 2, 0, 0, 2, 0, 3, 0, 2, 0, 3, 1, 3, 8, 2, 2, 0, 3, 1, 9, 0, 2, 2, 11, 8, 1, 8, 0, 9, 10, 2, 2, 4, 1, 5, 12])\n"
     ]
    }
   ],
   "source": [
    "\n",
    "\n",
    "for sequence in yield_sequences('data/train_0.dat', num_sequences=1):\n",
    "    print(sequence)"
   ]
  },
  {
   "cell_type": "code",
   "execution_count": null,
   "metadata": {},
   "outputs": [],
   "source": []
  },
  {
   "cell_type": "code",
   "execution_count": null,
   "metadata": {},
   "outputs": [],
   "source": []
  }
 ],
 "metadata": {
  "kernelspec": {
   "display_name": "rubiks",
   "language": "python",
   "name": "python3"
  },
  "language_info": {
   "codemirror_mode": {
    "name": "ipython",
    "version": 3
   },
   "file_extension": ".py",
   "mimetype": "text/x-python",
   "name": "python",
   "nbconvert_exporter": "python",
   "pygments_lexer": "ipython3",
   "version": "3.11.9"
  }
 },
 "nbformat": 4,
 "nbformat_minor": 2
}
